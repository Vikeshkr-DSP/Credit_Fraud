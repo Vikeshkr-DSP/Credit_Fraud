{
 "cells": [
  {
   "cell_type": "markdown",
   "metadata": {},
   "source": [
    "# Problem Statement\n",
    "\n",
    "It's very important for credit card companies to recognize and stop a fraud transaction. Identifying a fraud transaction out of total no of legitimate transaction is quite a difficulat task as fraud transaction out of legitimate transaction is very less. But ML model can help in recognizing a fraud transaction. The final aim of this model is to recognize a fraud transaction and follow necessary measures so that customers are not charged for items that they did not purchase."
   ]
  },
  {
   "cell_type": "markdown",
   "metadata": {},
   "source": [
    "# Loading Libraries and Dataset"
   ]
  },
  {
   "cell_type": "code",
   "execution_count": 1,
   "metadata": {},
   "outputs": [],
   "source": [
    "import pandas as pd\n",
    "import numpy as np\n",
    "import seaborn as sns\n",
    "import matplotlib.pyplot as plt"
   ]
  },
  {
   "cell_type": "code",
   "execution_count": 2,
   "metadata": {},
   "outputs": [],
   "source": [
    "pd.options.display.max_columns = None                            \n",
    "\n",
    "from IPython.core.interactiveshell import InteractiveShell         \n",
    "InteractiveShell.ast_node_interactivity = \"all\""
   ]
  },
  {
   "cell_type": "code",
   "execution_count": 3,
   "metadata": {},
   "outputs": [],
   "source": [
    "data = pd.read_csv('D:/Study material/Datasets/Credit_default/creditcard.csv')"
   ]
  },
  {
   "cell_type": "markdown",
   "metadata": {},
   "source": [
    "# Overview of Dataset"
   ]
  },
  {
   "cell_type": "code",
   "execution_count": 4,
   "metadata": {},
   "outputs": [
    {
     "data": {
      "text/plain": [
       "(284807, 31)"
      ]
     },
     "execution_count": 4,
     "metadata": {},
     "output_type": "execute_result"
    }
   ],
   "source": [
    "data.shape"
   ]
  },
  {
   "cell_type": "code",
   "execution_count": 5,
   "metadata": {},
   "outputs": [
    {
     "data": {
      "text/html": [
       "<div>\n",
       "<style scoped>\n",
       "    .dataframe tbody tr th:only-of-type {\n",
       "        vertical-align: middle;\n",
       "    }\n",
       "\n",
       "    .dataframe tbody tr th {\n",
       "        vertical-align: top;\n",
       "    }\n",
       "\n",
       "    .dataframe thead th {\n",
       "        text-align: right;\n",
       "    }\n",
       "</style>\n",
       "<table border=\"1\" class=\"dataframe\">\n",
       "  <thead>\n",
       "    <tr style=\"text-align: right;\">\n",
       "      <th></th>\n",
       "      <th>Time</th>\n",
       "      <th>V1</th>\n",
       "      <th>V2</th>\n",
       "      <th>V3</th>\n",
       "      <th>V4</th>\n",
       "      <th>V5</th>\n",
       "      <th>V6</th>\n",
       "      <th>V7</th>\n",
       "      <th>V8</th>\n",
       "      <th>V9</th>\n",
       "      <th>V10</th>\n",
       "      <th>V11</th>\n",
       "      <th>V12</th>\n",
       "      <th>V13</th>\n",
       "      <th>V14</th>\n",
       "      <th>V15</th>\n",
       "      <th>V16</th>\n",
       "      <th>V17</th>\n",
       "      <th>V18</th>\n",
       "      <th>V19</th>\n",
       "      <th>V20</th>\n",
       "      <th>V21</th>\n",
       "      <th>V22</th>\n",
       "      <th>V23</th>\n",
       "      <th>V24</th>\n",
       "      <th>V25</th>\n",
       "      <th>V26</th>\n",
       "      <th>V27</th>\n",
       "      <th>V28</th>\n",
       "      <th>Amount</th>\n",
       "      <th>Class</th>\n",
       "    </tr>\n",
       "  </thead>\n",
       "  <tbody>\n",
       "    <tr>\n",
       "      <th>0</th>\n",
       "      <td>0.0</td>\n",
       "      <td>-1.359807</td>\n",
       "      <td>-0.072781</td>\n",
       "      <td>2.536347</td>\n",
       "      <td>1.378155</td>\n",
       "      <td>-0.338321</td>\n",
       "      <td>0.462388</td>\n",
       "      <td>0.239599</td>\n",
       "      <td>0.098698</td>\n",
       "      <td>0.363787</td>\n",
       "      <td>0.090794</td>\n",
       "      <td>-0.551600</td>\n",
       "      <td>-0.617801</td>\n",
       "      <td>-0.991390</td>\n",
       "      <td>-0.311169</td>\n",
       "      <td>1.468177</td>\n",
       "      <td>-0.470401</td>\n",
       "      <td>0.207971</td>\n",
       "      <td>0.025791</td>\n",
       "      <td>0.403993</td>\n",
       "      <td>0.251412</td>\n",
       "      <td>-0.018307</td>\n",
       "      <td>0.277838</td>\n",
       "      <td>-0.110474</td>\n",
       "      <td>0.066928</td>\n",
       "      <td>0.128539</td>\n",
       "      <td>-0.189115</td>\n",
       "      <td>0.133558</td>\n",
       "      <td>-0.021053</td>\n",
       "      <td>149.62</td>\n",
       "      <td>0</td>\n",
       "    </tr>\n",
       "    <tr>\n",
       "      <th>1</th>\n",
       "      <td>0.0</td>\n",
       "      <td>1.191857</td>\n",
       "      <td>0.266151</td>\n",
       "      <td>0.166480</td>\n",
       "      <td>0.448154</td>\n",
       "      <td>0.060018</td>\n",
       "      <td>-0.082361</td>\n",
       "      <td>-0.078803</td>\n",
       "      <td>0.085102</td>\n",
       "      <td>-0.255425</td>\n",
       "      <td>-0.166974</td>\n",
       "      <td>1.612727</td>\n",
       "      <td>1.065235</td>\n",
       "      <td>0.489095</td>\n",
       "      <td>-0.143772</td>\n",
       "      <td>0.635558</td>\n",
       "      <td>0.463917</td>\n",
       "      <td>-0.114805</td>\n",
       "      <td>-0.183361</td>\n",
       "      <td>-0.145783</td>\n",
       "      <td>-0.069083</td>\n",
       "      <td>-0.225775</td>\n",
       "      <td>-0.638672</td>\n",
       "      <td>0.101288</td>\n",
       "      <td>-0.339846</td>\n",
       "      <td>0.167170</td>\n",
       "      <td>0.125895</td>\n",
       "      <td>-0.008983</td>\n",
       "      <td>0.014724</td>\n",
       "      <td>2.69</td>\n",
       "      <td>0</td>\n",
       "    </tr>\n",
       "    <tr>\n",
       "      <th>2</th>\n",
       "      <td>1.0</td>\n",
       "      <td>-1.358354</td>\n",
       "      <td>-1.340163</td>\n",
       "      <td>1.773209</td>\n",
       "      <td>0.379780</td>\n",
       "      <td>-0.503198</td>\n",
       "      <td>1.800499</td>\n",
       "      <td>0.791461</td>\n",
       "      <td>0.247676</td>\n",
       "      <td>-1.514654</td>\n",
       "      <td>0.207643</td>\n",
       "      <td>0.624501</td>\n",
       "      <td>0.066084</td>\n",
       "      <td>0.717293</td>\n",
       "      <td>-0.165946</td>\n",
       "      <td>2.345865</td>\n",
       "      <td>-2.890083</td>\n",
       "      <td>1.109969</td>\n",
       "      <td>-0.121359</td>\n",
       "      <td>-2.261857</td>\n",
       "      <td>0.524980</td>\n",
       "      <td>0.247998</td>\n",
       "      <td>0.771679</td>\n",
       "      <td>0.909412</td>\n",
       "      <td>-0.689281</td>\n",
       "      <td>-0.327642</td>\n",
       "      <td>-0.139097</td>\n",
       "      <td>-0.055353</td>\n",
       "      <td>-0.059752</td>\n",
       "      <td>378.66</td>\n",
       "      <td>0</td>\n",
       "    </tr>\n",
       "    <tr>\n",
       "      <th>3</th>\n",
       "      <td>1.0</td>\n",
       "      <td>-0.966272</td>\n",
       "      <td>-0.185226</td>\n",
       "      <td>1.792993</td>\n",
       "      <td>-0.863291</td>\n",
       "      <td>-0.010309</td>\n",
       "      <td>1.247203</td>\n",
       "      <td>0.237609</td>\n",
       "      <td>0.377436</td>\n",
       "      <td>-1.387024</td>\n",
       "      <td>-0.054952</td>\n",
       "      <td>-0.226487</td>\n",
       "      <td>0.178228</td>\n",
       "      <td>0.507757</td>\n",
       "      <td>-0.287924</td>\n",
       "      <td>-0.631418</td>\n",
       "      <td>-1.059647</td>\n",
       "      <td>-0.684093</td>\n",
       "      <td>1.965775</td>\n",
       "      <td>-1.232622</td>\n",
       "      <td>-0.208038</td>\n",
       "      <td>-0.108300</td>\n",
       "      <td>0.005274</td>\n",
       "      <td>-0.190321</td>\n",
       "      <td>-1.175575</td>\n",
       "      <td>0.647376</td>\n",
       "      <td>-0.221929</td>\n",
       "      <td>0.062723</td>\n",
       "      <td>0.061458</td>\n",
       "      <td>123.50</td>\n",
       "      <td>0</td>\n",
       "    </tr>\n",
       "    <tr>\n",
       "      <th>4</th>\n",
       "      <td>2.0</td>\n",
       "      <td>-1.158233</td>\n",
       "      <td>0.877737</td>\n",
       "      <td>1.548718</td>\n",
       "      <td>0.403034</td>\n",
       "      <td>-0.407193</td>\n",
       "      <td>0.095921</td>\n",
       "      <td>0.592941</td>\n",
       "      <td>-0.270533</td>\n",
       "      <td>0.817739</td>\n",
       "      <td>0.753074</td>\n",
       "      <td>-0.822843</td>\n",
       "      <td>0.538196</td>\n",
       "      <td>1.345852</td>\n",
       "      <td>-1.119670</td>\n",
       "      <td>0.175121</td>\n",
       "      <td>-0.451449</td>\n",
       "      <td>-0.237033</td>\n",
       "      <td>-0.038195</td>\n",
       "      <td>0.803487</td>\n",
       "      <td>0.408542</td>\n",
       "      <td>-0.009431</td>\n",
       "      <td>0.798278</td>\n",
       "      <td>-0.137458</td>\n",
       "      <td>0.141267</td>\n",
       "      <td>-0.206010</td>\n",
       "      <td>0.502292</td>\n",
       "      <td>0.219422</td>\n",
       "      <td>0.215153</td>\n",
       "      <td>69.99</td>\n",
       "      <td>0</td>\n",
       "    </tr>\n",
       "  </tbody>\n",
       "</table>\n",
       "</div>"
      ],
      "text/plain": [
       "   Time        V1        V2        V3        V4        V5        V6        V7  \\\n",
       "0   0.0 -1.359807 -0.072781  2.536347  1.378155 -0.338321  0.462388  0.239599   \n",
       "1   0.0  1.191857  0.266151  0.166480  0.448154  0.060018 -0.082361 -0.078803   \n",
       "2   1.0 -1.358354 -1.340163  1.773209  0.379780 -0.503198  1.800499  0.791461   \n",
       "3   1.0 -0.966272 -0.185226  1.792993 -0.863291 -0.010309  1.247203  0.237609   \n",
       "4   2.0 -1.158233  0.877737  1.548718  0.403034 -0.407193  0.095921  0.592941   \n",
       "\n",
       "         V8        V9       V10       V11       V12       V13       V14  \\\n",
       "0  0.098698  0.363787  0.090794 -0.551600 -0.617801 -0.991390 -0.311169   \n",
       "1  0.085102 -0.255425 -0.166974  1.612727  1.065235  0.489095 -0.143772   \n",
       "2  0.247676 -1.514654  0.207643  0.624501  0.066084  0.717293 -0.165946   \n",
       "3  0.377436 -1.387024 -0.054952 -0.226487  0.178228  0.507757 -0.287924   \n",
       "4 -0.270533  0.817739  0.753074 -0.822843  0.538196  1.345852 -1.119670   \n",
       "\n",
       "        V15       V16       V17       V18       V19       V20       V21  \\\n",
       "0  1.468177 -0.470401  0.207971  0.025791  0.403993  0.251412 -0.018307   \n",
       "1  0.635558  0.463917 -0.114805 -0.183361 -0.145783 -0.069083 -0.225775   \n",
       "2  2.345865 -2.890083  1.109969 -0.121359 -2.261857  0.524980  0.247998   \n",
       "3 -0.631418 -1.059647 -0.684093  1.965775 -1.232622 -0.208038 -0.108300   \n",
       "4  0.175121 -0.451449 -0.237033 -0.038195  0.803487  0.408542 -0.009431   \n",
       "\n",
       "        V22       V23       V24       V25       V26       V27       V28  \\\n",
       "0  0.277838 -0.110474  0.066928  0.128539 -0.189115  0.133558 -0.021053   \n",
       "1 -0.638672  0.101288 -0.339846  0.167170  0.125895 -0.008983  0.014724   \n",
       "2  0.771679  0.909412 -0.689281 -0.327642 -0.139097 -0.055353 -0.059752   \n",
       "3  0.005274 -0.190321 -1.175575  0.647376 -0.221929  0.062723  0.061458   \n",
       "4  0.798278 -0.137458  0.141267 -0.206010  0.502292  0.219422  0.215153   \n",
       "\n",
       "   Amount  Class  \n",
       "0  149.62      0  \n",
       "1    2.69      0  \n",
       "2  378.66      0  \n",
       "3  123.50      0  \n",
       "4   69.99      0  "
      ]
     },
     "execution_count": 5,
     "metadata": {},
     "output_type": "execute_result"
    }
   ],
   "source": [
    "data.head()\n",
    "\n",
    "# Feature V1,v2,V3,........,V26,V27,V28 are PCA transformed. Only Time and Amount are not transformed."
   ]
  },
  {
   "cell_type": "code",
   "execution_count": 6,
   "metadata": {},
   "outputs": [
    {
     "name": "stdout",
     "output_type": "stream",
     "text": [
      "<class 'pandas.core.frame.DataFrame'>\n",
      "RangeIndex: 284807 entries, 0 to 284806\n",
      "Data columns (total 31 columns):\n",
      " #   Column  Non-Null Count   Dtype  \n",
      "---  ------  --------------   -----  \n",
      " 0   Time    284807 non-null  float64\n",
      " 1   V1      284807 non-null  float64\n",
      " 2   V2      284807 non-null  float64\n",
      " 3   V3      284807 non-null  float64\n",
      " 4   V4      284807 non-null  float64\n",
      " 5   V5      284807 non-null  float64\n",
      " 6   V6      284807 non-null  float64\n",
      " 7   V7      284807 non-null  float64\n",
      " 8   V8      284807 non-null  float64\n",
      " 9   V9      284807 non-null  float64\n",
      " 10  V10     284807 non-null  float64\n",
      " 11  V11     284807 non-null  float64\n",
      " 12  V12     284807 non-null  float64\n",
      " 13  V13     284807 non-null  float64\n",
      " 14  V14     284807 non-null  float64\n",
      " 15  V15     284807 non-null  float64\n",
      " 16  V16     284807 non-null  float64\n",
      " 17  V17     284807 non-null  float64\n",
      " 18  V18     284807 non-null  float64\n",
      " 19  V19     284807 non-null  float64\n",
      " 20  V20     284807 non-null  float64\n",
      " 21  V21     284807 non-null  float64\n",
      " 22  V22     284807 non-null  float64\n",
      " 23  V23     284807 non-null  float64\n",
      " 24  V24     284807 non-null  float64\n",
      " 25  V25     284807 non-null  float64\n",
      " 26  V26     284807 non-null  float64\n",
      " 27  V27     284807 non-null  float64\n",
      " 28  V28     284807 non-null  float64\n",
      " 29  Amount  284807 non-null  float64\n",
      " 30  Class   284807 non-null  int64  \n",
      "dtypes: float64(30), int64(1)\n",
      "memory usage: 67.4 MB\n"
     ]
    }
   ],
   "source": [
    "data.info()"
   ]
  },
  {
   "cell_type": "code",
   "execution_count": 7,
   "metadata": {},
   "outputs": [
    {
     "data": {
      "text/html": [
       "<div>\n",
       "<style scoped>\n",
       "    .dataframe tbody tr th:only-of-type {\n",
       "        vertical-align: middle;\n",
       "    }\n",
       "\n",
       "    .dataframe tbody tr th {\n",
       "        vertical-align: top;\n",
       "    }\n",
       "\n",
       "    .dataframe thead th {\n",
       "        text-align: right;\n",
       "    }\n",
       "</style>\n",
       "<table border=\"1\" class=\"dataframe\">\n",
       "  <thead>\n",
       "    <tr style=\"text-align: right;\">\n",
       "      <th></th>\n",
       "      <th>Time</th>\n",
       "      <th>V1</th>\n",
       "      <th>V2</th>\n",
       "      <th>V3</th>\n",
       "      <th>V4</th>\n",
       "      <th>V5</th>\n",
       "      <th>V6</th>\n",
       "      <th>V7</th>\n",
       "      <th>V8</th>\n",
       "      <th>V9</th>\n",
       "      <th>V10</th>\n",
       "      <th>V11</th>\n",
       "      <th>V12</th>\n",
       "      <th>V13</th>\n",
       "      <th>V14</th>\n",
       "      <th>V15</th>\n",
       "      <th>V16</th>\n",
       "      <th>V17</th>\n",
       "      <th>V18</th>\n",
       "      <th>V19</th>\n",
       "      <th>V20</th>\n",
       "      <th>V21</th>\n",
       "      <th>V22</th>\n",
       "      <th>V23</th>\n",
       "      <th>V24</th>\n",
       "      <th>V25</th>\n",
       "      <th>V26</th>\n",
       "      <th>V27</th>\n",
       "      <th>V28</th>\n",
       "      <th>Amount</th>\n",
       "      <th>Class</th>\n",
       "    </tr>\n",
       "  </thead>\n",
       "  <tbody>\n",
       "    <tr>\n",
       "      <th>count</th>\n",
       "      <td>284807.000000</td>\n",
       "      <td>2.848070e+05</td>\n",
       "      <td>2.848070e+05</td>\n",
       "      <td>2.848070e+05</td>\n",
       "      <td>2.848070e+05</td>\n",
       "      <td>2.848070e+05</td>\n",
       "      <td>2.848070e+05</td>\n",
       "      <td>2.848070e+05</td>\n",
       "      <td>2.848070e+05</td>\n",
       "      <td>2.848070e+05</td>\n",
       "      <td>2.848070e+05</td>\n",
       "      <td>2.848070e+05</td>\n",
       "      <td>2.848070e+05</td>\n",
       "      <td>2.848070e+05</td>\n",
       "      <td>2.848070e+05</td>\n",
       "      <td>2.848070e+05</td>\n",
       "      <td>2.848070e+05</td>\n",
       "      <td>2.848070e+05</td>\n",
       "      <td>2.848070e+05</td>\n",
       "      <td>2.848070e+05</td>\n",
       "      <td>2.848070e+05</td>\n",
       "      <td>2.848070e+05</td>\n",
       "      <td>2.848070e+05</td>\n",
       "      <td>2.848070e+05</td>\n",
       "      <td>2.848070e+05</td>\n",
       "      <td>2.848070e+05</td>\n",
       "      <td>2.848070e+05</td>\n",
       "      <td>2.848070e+05</td>\n",
       "      <td>2.848070e+05</td>\n",
       "      <td>284807.000000</td>\n",
       "      <td>284807.000000</td>\n",
       "    </tr>\n",
       "    <tr>\n",
       "      <th>mean</th>\n",
       "      <td>94813.859575</td>\n",
       "      <td>3.918649e-15</td>\n",
       "      <td>5.682686e-16</td>\n",
       "      <td>-8.761736e-15</td>\n",
       "      <td>2.811118e-15</td>\n",
       "      <td>-1.552103e-15</td>\n",
       "      <td>2.040130e-15</td>\n",
       "      <td>-1.698953e-15</td>\n",
       "      <td>-1.893285e-16</td>\n",
       "      <td>-3.147640e-15</td>\n",
       "      <td>1.772925e-15</td>\n",
       "      <td>9.289524e-16</td>\n",
       "      <td>-1.803266e-15</td>\n",
       "      <td>1.674888e-15</td>\n",
       "      <td>1.475621e-15</td>\n",
       "      <td>3.501098e-15</td>\n",
       "      <td>1.392460e-15</td>\n",
       "      <td>-7.466538e-16</td>\n",
       "      <td>4.258754e-16</td>\n",
       "      <td>9.019919e-16</td>\n",
       "      <td>5.126845e-16</td>\n",
       "      <td>1.473120e-16</td>\n",
       "      <td>8.042109e-16</td>\n",
       "      <td>5.282512e-16</td>\n",
       "      <td>4.456271e-15</td>\n",
       "      <td>1.426896e-15</td>\n",
       "      <td>1.701640e-15</td>\n",
       "      <td>-3.662252e-16</td>\n",
       "      <td>-1.217809e-16</td>\n",
       "      <td>88.349619</td>\n",
       "      <td>0.001727</td>\n",
       "    </tr>\n",
       "    <tr>\n",
       "      <th>std</th>\n",
       "      <td>47488.145955</td>\n",
       "      <td>1.958696e+00</td>\n",
       "      <td>1.651309e+00</td>\n",
       "      <td>1.516255e+00</td>\n",
       "      <td>1.415869e+00</td>\n",
       "      <td>1.380247e+00</td>\n",
       "      <td>1.332271e+00</td>\n",
       "      <td>1.237094e+00</td>\n",
       "      <td>1.194353e+00</td>\n",
       "      <td>1.098632e+00</td>\n",
       "      <td>1.088850e+00</td>\n",
       "      <td>1.020713e+00</td>\n",
       "      <td>9.992014e-01</td>\n",
       "      <td>9.952742e-01</td>\n",
       "      <td>9.585956e-01</td>\n",
       "      <td>9.153160e-01</td>\n",
       "      <td>8.762529e-01</td>\n",
       "      <td>8.493371e-01</td>\n",
       "      <td>8.381762e-01</td>\n",
       "      <td>8.140405e-01</td>\n",
       "      <td>7.709250e-01</td>\n",
       "      <td>7.345240e-01</td>\n",
       "      <td>7.257016e-01</td>\n",
       "      <td>6.244603e-01</td>\n",
       "      <td>6.056471e-01</td>\n",
       "      <td>5.212781e-01</td>\n",
       "      <td>4.822270e-01</td>\n",
       "      <td>4.036325e-01</td>\n",
       "      <td>3.300833e-01</td>\n",
       "      <td>250.120109</td>\n",
       "      <td>0.041527</td>\n",
       "    </tr>\n",
       "    <tr>\n",
       "      <th>min</th>\n",
       "      <td>0.000000</td>\n",
       "      <td>-5.640751e+01</td>\n",
       "      <td>-7.271573e+01</td>\n",
       "      <td>-4.832559e+01</td>\n",
       "      <td>-5.683171e+00</td>\n",
       "      <td>-1.137433e+02</td>\n",
       "      <td>-2.616051e+01</td>\n",
       "      <td>-4.355724e+01</td>\n",
       "      <td>-7.321672e+01</td>\n",
       "      <td>-1.343407e+01</td>\n",
       "      <td>-2.458826e+01</td>\n",
       "      <td>-4.797473e+00</td>\n",
       "      <td>-1.868371e+01</td>\n",
       "      <td>-5.791881e+00</td>\n",
       "      <td>-1.921433e+01</td>\n",
       "      <td>-4.498945e+00</td>\n",
       "      <td>-1.412985e+01</td>\n",
       "      <td>-2.516280e+01</td>\n",
       "      <td>-9.498746e+00</td>\n",
       "      <td>-7.213527e+00</td>\n",
       "      <td>-5.449772e+01</td>\n",
       "      <td>-3.483038e+01</td>\n",
       "      <td>-1.093314e+01</td>\n",
       "      <td>-4.480774e+01</td>\n",
       "      <td>-2.836627e+00</td>\n",
       "      <td>-1.029540e+01</td>\n",
       "      <td>-2.604551e+00</td>\n",
       "      <td>-2.256568e+01</td>\n",
       "      <td>-1.543008e+01</td>\n",
       "      <td>0.000000</td>\n",
       "      <td>0.000000</td>\n",
       "    </tr>\n",
       "    <tr>\n",
       "      <th>25%</th>\n",
       "      <td>54201.500000</td>\n",
       "      <td>-9.203734e-01</td>\n",
       "      <td>-5.985499e-01</td>\n",
       "      <td>-8.903648e-01</td>\n",
       "      <td>-8.486401e-01</td>\n",
       "      <td>-6.915971e-01</td>\n",
       "      <td>-7.682956e-01</td>\n",
       "      <td>-5.540759e-01</td>\n",
       "      <td>-2.086297e-01</td>\n",
       "      <td>-6.430976e-01</td>\n",
       "      <td>-5.354257e-01</td>\n",
       "      <td>-7.624942e-01</td>\n",
       "      <td>-4.055715e-01</td>\n",
       "      <td>-6.485393e-01</td>\n",
       "      <td>-4.255740e-01</td>\n",
       "      <td>-5.828843e-01</td>\n",
       "      <td>-4.680368e-01</td>\n",
       "      <td>-4.837483e-01</td>\n",
       "      <td>-4.988498e-01</td>\n",
       "      <td>-4.562989e-01</td>\n",
       "      <td>-2.117214e-01</td>\n",
       "      <td>-2.283949e-01</td>\n",
       "      <td>-5.423504e-01</td>\n",
       "      <td>-1.618463e-01</td>\n",
       "      <td>-3.545861e-01</td>\n",
       "      <td>-3.171451e-01</td>\n",
       "      <td>-3.269839e-01</td>\n",
       "      <td>-7.083953e-02</td>\n",
       "      <td>-5.295979e-02</td>\n",
       "      <td>5.600000</td>\n",
       "      <td>0.000000</td>\n",
       "    </tr>\n",
       "    <tr>\n",
       "      <th>50%</th>\n",
       "      <td>84692.000000</td>\n",
       "      <td>1.810880e-02</td>\n",
       "      <td>6.548556e-02</td>\n",
       "      <td>1.798463e-01</td>\n",
       "      <td>-1.984653e-02</td>\n",
       "      <td>-5.433583e-02</td>\n",
       "      <td>-2.741871e-01</td>\n",
       "      <td>4.010308e-02</td>\n",
       "      <td>2.235804e-02</td>\n",
       "      <td>-5.142873e-02</td>\n",
       "      <td>-9.291738e-02</td>\n",
       "      <td>-3.275735e-02</td>\n",
       "      <td>1.400326e-01</td>\n",
       "      <td>-1.356806e-02</td>\n",
       "      <td>5.060132e-02</td>\n",
       "      <td>4.807155e-02</td>\n",
       "      <td>6.641332e-02</td>\n",
       "      <td>-6.567575e-02</td>\n",
       "      <td>-3.636312e-03</td>\n",
       "      <td>3.734823e-03</td>\n",
       "      <td>-6.248109e-02</td>\n",
       "      <td>-2.945017e-02</td>\n",
       "      <td>6.781943e-03</td>\n",
       "      <td>-1.119293e-02</td>\n",
       "      <td>4.097606e-02</td>\n",
       "      <td>1.659350e-02</td>\n",
       "      <td>-5.213911e-02</td>\n",
       "      <td>1.342146e-03</td>\n",
       "      <td>1.124383e-02</td>\n",
       "      <td>22.000000</td>\n",
       "      <td>0.000000</td>\n",
       "    </tr>\n",
       "    <tr>\n",
       "      <th>75%</th>\n",
       "      <td>139320.500000</td>\n",
       "      <td>1.315642e+00</td>\n",
       "      <td>8.037239e-01</td>\n",
       "      <td>1.027196e+00</td>\n",
       "      <td>7.433413e-01</td>\n",
       "      <td>6.119264e-01</td>\n",
       "      <td>3.985649e-01</td>\n",
       "      <td>5.704361e-01</td>\n",
       "      <td>3.273459e-01</td>\n",
       "      <td>5.971390e-01</td>\n",
       "      <td>4.539234e-01</td>\n",
       "      <td>7.395934e-01</td>\n",
       "      <td>6.182380e-01</td>\n",
       "      <td>6.625050e-01</td>\n",
       "      <td>4.931498e-01</td>\n",
       "      <td>6.488208e-01</td>\n",
       "      <td>5.232963e-01</td>\n",
       "      <td>3.996750e-01</td>\n",
       "      <td>5.008067e-01</td>\n",
       "      <td>4.589494e-01</td>\n",
       "      <td>1.330408e-01</td>\n",
       "      <td>1.863772e-01</td>\n",
       "      <td>5.285536e-01</td>\n",
       "      <td>1.476421e-01</td>\n",
       "      <td>4.395266e-01</td>\n",
       "      <td>3.507156e-01</td>\n",
       "      <td>2.409522e-01</td>\n",
       "      <td>9.104512e-02</td>\n",
       "      <td>7.827995e-02</td>\n",
       "      <td>77.165000</td>\n",
       "      <td>0.000000</td>\n",
       "    </tr>\n",
       "    <tr>\n",
       "      <th>max</th>\n",
       "      <td>172792.000000</td>\n",
       "      <td>2.454930e+00</td>\n",
       "      <td>2.205773e+01</td>\n",
       "      <td>9.382558e+00</td>\n",
       "      <td>1.687534e+01</td>\n",
       "      <td>3.480167e+01</td>\n",
       "      <td>7.330163e+01</td>\n",
       "      <td>1.205895e+02</td>\n",
       "      <td>2.000721e+01</td>\n",
       "      <td>1.559499e+01</td>\n",
       "      <td>2.374514e+01</td>\n",
       "      <td>1.201891e+01</td>\n",
       "      <td>7.848392e+00</td>\n",
       "      <td>7.126883e+00</td>\n",
       "      <td>1.052677e+01</td>\n",
       "      <td>8.877742e+00</td>\n",
       "      <td>1.731511e+01</td>\n",
       "      <td>9.253526e+00</td>\n",
       "      <td>5.041069e+00</td>\n",
       "      <td>5.591971e+00</td>\n",
       "      <td>3.942090e+01</td>\n",
       "      <td>2.720284e+01</td>\n",
       "      <td>1.050309e+01</td>\n",
       "      <td>2.252841e+01</td>\n",
       "      <td>4.584549e+00</td>\n",
       "      <td>7.519589e+00</td>\n",
       "      <td>3.517346e+00</td>\n",
       "      <td>3.161220e+01</td>\n",
       "      <td>3.384781e+01</td>\n",
       "      <td>25691.160000</td>\n",
       "      <td>1.000000</td>\n",
       "    </tr>\n",
       "  </tbody>\n",
       "</table>\n",
       "</div>"
      ],
      "text/plain": [
       "                Time            V1            V2            V3            V4  \\\n",
       "count  284807.000000  2.848070e+05  2.848070e+05  2.848070e+05  2.848070e+05   \n",
       "mean    94813.859575  3.918649e-15  5.682686e-16 -8.761736e-15  2.811118e-15   \n",
       "std     47488.145955  1.958696e+00  1.651309e+00  1.516255e+00  1.415869e+00   \n",
       "min         0.000000 -5.640751e+01 -7.271573e+01 -4.832559e+01 -5.683171e+00   \n",
       "25%     54201.500000 -9.203734e-01 -5.985499e-01 -8.903648e-01 -8.486401e-01   \n",
       "50%     84692.000000  1.810880e-02  6.548556e-02  1.798463e-01 -1.984653e-02   \n",
       "75%    139320.500000  1.315642e+00  8.037239e-01  1.027196e+00  7.433413e-01   \n",
       "max    172792.000000  2.454930e+00  2.205773e+01  9.382558e+00  1.687534e+01   \n",
       "\n",
       "                 V5            V6            V7            V8            V9  \\\n",
       "count  2.848070e+05  2.848070e+05  2.848070e+05  2.848070e+05  2.848070e+05   \n",
       "mean  -1.552103e-15  2.040130e-15 -1.698953e-15 -1.893285e-16 -3.147640e-15   \n",
       "std    1.380247e+00  1.332271e+00  1.237094e+00  1.194353e+00  1.098632e+00   \n",
       "min   -1.137433e+02 -2.616051e+01 -4.355724e+01 -7.321672e+01 -1.343407e+01   \n",
       "25%   -6.915971e-01 -7.682956e-01 -5.540759e-01 -2.086297e-01 -6.430976e-01   \n",
       "50%   -5.433583e-02 -2.741871e-01  4.010308e-02  2.235804e-02 -5.142873e-02   \n",
       "75%    6.119264e-01  3.985649e-01  5.704361e-01  3.273459e-01  5.971390e-01   \n",
       "max    3.480167e+01  7.330163e+01  1.205895e+02  2.000721e+01  1.559499e+01   \n",
       "\n",
       "                V10           V11           V12           V13           V14  \\\n",
       "count  2.848070e+05  2.848070e+05  2.848070e+05  2.848070e+05  2.848070e+05   \n",
       "mean   1.772925e-15  9.289524e-16 -1.803266e-15  1.674888e-15  1.475621e-15   \n",
       "std    1.088850e+00  1.020713e+00  9.992014e-01  9.952742e-01  9.585956e-01   \n",
       "min   -2.458826e+01 -4.797473e+00 -1.868371e+01 -5.791881e+00 -1.921433e+01   \n",
       "25%   -5.354257e-01 -7.624942e-01 -4.055715e-01 -6.485393e-01 -4.255740e-01   \n",
       "50%   -9.291738e-02 -3.275735e-02  1.400326e-01 -1.356806e-02  5.060132e-02   \n",
       "75%    4.539234e-01  7.395934e-01  6.182380e-01  6.625050e-01  4.931498e-01   \n",
       "max    2.374514e+01  1.201891e+01  7.848392e+00  7.126883e+00  1.052677e+01   \n",
       "\n",
       "                V15           V16           V17           V18           V19  \\\n",
       "count  2.848070e+05  2.848070e+05  2.848070e+05  2.848070e+05  2.848070e+05   \n",
       "mean   3.501098e-15  1.392460e-15 -7.466538e-16  4.258754e-16  9.019919e-16   \n",
       "std    9.153160e-01  8.762529e-01  8.493371e-01  8.381762e-01  8.140405e-01   \n",
       "min   -4.498945e+00 -1.412985e+01 -2.516280e+01 -9.498746e+00 -7.213527e+00   \n",
       "25%   -5.828843e-01 -4.680368e-01 -4.837483e-01 -4.988498e-01 -4.562989e-01   \n",
       "50%    4.807155e-02  6.641332e-02 -6.567575e-02 -3.636312e-03  3.734823e-03   \n",
       "75%    6.488208e-01  5.232963e-01  3.996750e-01  5.008067e-01  4.589494e-01   \n",
       "max    8.877742e+00  1.731511e+01  9.253526e+00  5.041069e+00  5.591971e+00   \n",
       "\n",
       "                V20           V21           V22           V23           V24  \\\n",
       "count  2.848070e+05  2.848070e+05  2.848070e+05  2.848070e+05  2.848070e+05   \n",
       "mean   5.126845e-16  1.473120e-16  8.042109e-16  5.282512e-16  4.456271e-15   \n",
       "std    7.709250e-01  7.345240e-01  7.257016e-01  6.244603e-01  6.056471e-01   \n",
       "min   -5.449772e+01 -3.483038e+01 -1.093314e+01 -4.480774e+01 -2.836627e+00   \n",
       "25%   -2.117214e-01 -2.283949e-01 -5.423504e-01 -1.618463e-01 -3.545861e-01   \n",
       "50%   -6.248109e-02 -2.945017e-02  6.781943e-03 -1.119293e-02  4.097606e-02   \n",
       "75%    1.330408e-01  1.863772e-01  5.285536e-01  1.476421e-01  4.395266e-01   \n",
       "max    3.942090e+01  2.720284e+01  1.050309e+01  2.252841e+01  4.584549e+00   \n",
       "\n",
       "                V25           V26           V27           V28         Amount  \\\n",
       "count  2.848070e+05  2.848070e+05  2.848070e+05  2.848070e+05  284807.000000   \n",
       "mean   1.426896e-15  1.701640e-15 -3.662252e-16 -1.217809e-16      88.349619   \n",
       "std    5.212781e-01  4.822270e-01  4.036325e-01  3.300833e-01     250.120109   \n",
       "min   -1.029540e+01 -2.604551e+00 -2.256568e+01 -1.543008e+01       0.000000   \n",
       "25%   -3.171451e-01 -3.269839e-01 -7.083953e-02 -5.295979e-02       5.600000   \n",
       "50%    1.659350e-02 -5.213911e-02  1.342146e-03  1.124383e-02      22.000000   \n",
       "75%    3.507156e-01  2.409522e-01  9.104512e-02  7.827995e-02      77.165000   \n",
       "max    7.519589e+00  3.517346e+00  3.161220e+01  3.384781e+01   25691.160000   \n",
       "\n",
       "               Class  \n",
       "count  284807.000000  \n",
       "mean        0.001727  \n",
       "std         0.041527  \n",
       "min         0.000000  \n",
       "25%         0.000000  \n",
       "50%         0.000000  \n",
       "75%         0.000000  \n",
       "max         1.000000  "
      ]
     },
     "execution_count": 7,
     "metadata": {},
     "output_type": "execute_result"
    }
   ],
   "source": [
    "data.describe()"
   ]
  },
  {
   "cell_type": "markdown",
   "metadata": {},
   "source": [
    "# Data Cleaning"
   ]
  },
  {
   "cell_type": "code",
   "execution_count": 8,
   "metadata": {},
   "outputs": [
    {
     "data": {
      "text/html": [
       "<div>\n",
       "<style scoped>\n",
       "    .dataframe tbody tr th:only-of-type {\n",
       "        vertical-align: middle;\n",
       "    }\n",
       "\n",
       "    .dataframe tbody tr th {\n",
       "        vertical-align: top;\n",
       "    }\n",
       "\n",
       "    .dataframe thead th {\n",
       "        text-align: right;\n",
       "    }\n",
       "</style>\n",
       "<table border=\"1\" class=\"dataframe\">\n",
       "  <thead>\n",
       "    <tr style=\"text-align: right;\">\n",
       "      <th></th>\n",
       "      <th>Missing Values</th>\n",
       "      <th>Missing Percentage</th>\n",
       "    </tr>\n",
       "  </thead>\n",
       "  <tbody>\n",
       "    <tr>\n",
       "      <th>Time</th>\n",
       "      <td>0</td>\n",
       "      <td>0.0</td>\n",
       "    </tr>\n",
       "    <tr>\n",
       "      <th>V1</th>\n",
       "      <td>0</td>\n",
       "      <td>0.0</td>\n",
       "    </tr>\n",
       "    <tr>\n",
       "      <th>V2</th>\n",
       "      <td>0</td>\n",
       "      <td>0.0</td>\n",
       "    </tr>\n",
       "    <tr>\n",
       "      <th>V3</th>\n",
       "      <td>0</td>\n",
       "      <td>0.0</td>\n",
       "    </tr>\n",
       "    <tr>\n",
       "      <th>V4</th>\n",
       "      <td>0</td>\n",
       "      <td>0.0</td>\n",
       "    </tr>\n",
       "    <tr>\n",
       "      <th>V5</th>\n",
       "      <td>0</td>\n",
       "      <td>0.0</td>\n",
       "    </tr>\n",
       "    <tr>\n",
       "      <th>V6</th>\n",
       "      <td>0</td>\n",
       "      <td>0.0</td>\n",
       "    </tr>\n",
       "    <tr>\n",
       "      <th>V7</th>\n",
       "      <td>0</td>\n",
       "      <td>0.0</td>\n",
       "    </tr>\n",
       "    <tr>\n",
       "      <th>V8</th>\n",
       "      <td>0</td>\n",
       "      <td>0.0</td>\n",
       "    </tr>\n",
       "    <tr>\n",
       "      <th>V9</th>\n",
       "      <td>0</td>\n",
       "      <td>0.0</td>\n",
       "    </tr>\n",
       "    <tr>\n",
       "      <th>V10</th>\n",
       "      <td>0</td>\n",
       "      <td>0.0</td>\n",
       "    </tr>\n",
       "    <tr>\n",
       "      <th>V11</th>\n",
       "      <td>0</td>\n",
       "      <td>0.0</td>\n",
       "    </tr>\n",
       "    <tr>\n",
       "      <th>V12</th>\n",
       "      <td>0</td>\n",
       "      <td>0.0</td>\n",
       "    </tr>\n",
       "    <tr>\n",
       "      <th>V13</th>\n",
       "      <td>0</td>\n",
       "      <td>0.0</td>\n",
       "    </tr>\n",
       "    <tr>\n",
       "      <th>V14</th>\n",
       "      <td>0</td>\n",
       "      <td>0.0</td>\n",
       "    </tr>\n",
       "    <tr>\n",
       "      <th>V15</th>\n",
       "      <td>0</td>\n",
       "      <td>0.0</td>\n",
       "    </tr>\n",
       "    <tr>\n",
       "      <th>V16</th>\n",
       "      <td>0</td>\n",
       "      <td>0.0</td>\n",
       "    </tr>\n",
       "    <tr>\n",
       "      <th>V17</th>\n",
       "      <td>0</td>\n",
       "      <td>0.0</td>\n",
       "    </tr>\n",
       "    <tr>\n",
       "      <th>V18</th>\n",
       "      <td>0</td>\n",
       "      <td>0.0</td>\n",
       "    </tr>\n",
       "    <tr>\n",
       "      <th>V19</th>\n",
       "      <td>0</td>\n",
       "      <td>0.0</td>\n",
       "    </tr>\n",
       "    <tr>\n",
       "      <th>V20</th>\n",
       "      <td>0</td>\n",
       "      <td>0.0</td>\n",
       "    </tr>\n",
       "    <tr>\n",
       "      <th>V21</th>\n",
       "      <td>0</td>\n",
       "      <td>0.0</td>\n",
       "    </tr>\n",
       "    <tr>\n",
       "      <th>V22</th>\n",
       "      <td>0</td>\n",
       "      <td>0.0</td>\n",
       "    </tr>\n",
       "    <tr>\n",
       "      <th>V23</th>\n",
       "      <td>0</td>\n",
       "      <td>0.0</td>\n",
       "    </tr>\n",
       "    <tr>\n",
       "      <th>V24</th>\n",
       "      <td>0</td>\n",
       "      <td>0.0</td>\n",
       "    </tr>\n",
       "    <tr>\n",
       "      <th>V25</th>\n",
       "      <td>0</td>\n",
       "      <td>0.0</td>\n",
       "    </tr>\n",
       "    <tr>\n",
       "      <th>V26</th>\n",
       "      <td>0</td>\n",
       "      <td>0.0</td>\n",
       "    </tr>\n",
       "    <tr>\n",
       "      <th>V27</th>\n",
       "      <td>0</td>\n",
       "      <td>0.0</td>\n",
       "    </tr>\n",
       "    <tr>\n",
       "      <th>V28</th>\n",
       "      <td>0</td>\n",
       "      <td>0.0</td>\n",
       "    </tr>\n",
       "    <tr>\n",
       "      <th>Amount</th>\n",
       "      <td>0</td>\n",
       "      <td>0.0</td>\n",
       "    </tr>\n",
       "    <tr>\n",
       "      <th>Class</th>\n",
       "      <td>0</td>\n",
       "      <td>0.0</td>\n",
       "    </tr>\n",
       "  </tbody>\n",
       "</table>\n",
       "</div>"
      ],
      "text/plain": [
       "        Missing Values  Missing Percentage\n",
       "Time                 0                 0.0\n",
       "V1                   0                 0.0\n",
       "V2                   0                 0.0\n",
       "V3                   0                 0.0\n",
       "V4                   0                 0.0\n",
       "V5                   0                 0.0\n",
       "V6                   0                 0.0\n",
       "V7                   0                 0.0\n",
       "V8                   0                 0.0\n",
       "V9                   0                 0.0\n",
       "V10                  0                 0.0\n",
       "V11                  0                 0.0\n",
       "V12                  0                 0.0\n",
       "V13                  0                 0.0\n",
       "V14                  0                 0.0\n",
       "V15                  0                 0.0\n",
       "V16                  0                 0.0\n",
       "V17                  0                 0.0\n",
       "V18                  0                 0.0\n",
       "V19                  0                 0.0\n",
       "V20                  0                 0.0\n",
       "V21                  0                 0.0\n",
       "V22                  0                 0.0\n",
       "V23                  0                 0.0\n",
       "V24                  0                 0.0\n",
       "V25                  0                 0.0\n",
       "V26                  0                 0.0\n",
       "V27                  0                 0.0\n",
       "V28                  0                 0.0\n",
       "Amount               0                 0.0\n",
       "Class                0                 0.0"
      ]
     },
     "execution_count": 8,
     "metadata": {},
     "output_type": "execute_result"
    }
   ],
   "source": [
    "msng = data.isnull().sum()\n",
    "msng_percnt = (msng/len(data))*100\n",
    "pd.concat([msng,msng_percnt], axis=1, keys=['Missing Values','Missing Percentage'])\n",
    "\n",
    "# No values are missing"
   ]
  },
  {
   "cell_type": "markdown",
   "metadata": {},
   "source": [
    "# Check for duplicate Data"
   ]
  },
  {
   "cell_type": "code",
   "execution_count": 9,
   "metadata": {},
   "outputs": [
    {
     "data": {
      "text/plain": [
       "(283726, 31)"
      ]
     },
     "execution_count": 9,
     "metadata": {},
     "output_type": "execute_result"
    }
   ],
   "source": [
    "data.drop_duplicates(keep='first',ignore_index=True,inplace=True)\n",
    "data.shape\n",
    "\n",
    "# removed 1081 duplicate observation"
   ]
  },
  {
   "cell_type": "markdown",
   "metadata": {},
   "source": [
    "# Dividing data into train and test"
   ]
  },
  {
   "cell_type": "code",
   "execution_count": 10,
   "metadata": {},
   "outputs": [],
   "source": [
    "from sklearn.model_selection import train_test_split"
   ]
  },
  {
   "cell_type": "code",
   "execution_count": 11,
   "metadata": {},
   "outputs": [
    {
     "data": {
      "text/plain": [
       "(226980, 31)"
      ]
     },
     "execution_count": 11,
     "metadata": {},
     "output_type": "execute_result"
    },
    {
     "data": {
      "text/plain": [
       "(56746, 31)"
      ]
     },
     "execution_count": 11,
     "metadata": {},
     "output_type": "execute_result"
    }
   ],
   "source": [
    "train,test = train_test_split(data,test_size=0.2, shuffle=True,random_state=10)\n",
    "\n",
    "train.shape\n",
    "test.shape"
   ]
  },
  {
   "cell_type": "code",
   "execution_count": 12,
   "metadata": {},
   "outputs": [
    {
     "data": {
      "text/html": [
       "<div>\n",
       "<style scoped>\n",
       "    .dataframe tbody tr th:only-of-type {\n",
       "        vertical-align: middle;\n",
       "    }\n",
       "\n",
       "    .dataframe tbody tr th {\n",
       "        vertical-align: top;\n",
       "    }\n",
       "\n",
       "    .dataframe thead th {\n",
       "        text-align: right;\n",
       "    }\n",
       "</style>\n",
       "<table border=\"1\" class=\"dataframe\">\n",
       "  <thead>\n",
       "    <tr style=\"text-align: right;\">\n",
       "      <th></th>\n",
       "      <th>Time</th>\n",
       "      <th>V1</th>\n",
       "      <th>V2</th>\n",
       "      <th>V3</th>\n",
       "      <th>V4</th>\n",
       "      <th>V5</th>\n",
       "      <th>V6</th>\n",
       "      <th>V7</th>\n",
       "      <th>V8</th>\n",
       "      <th>V9</th>\n",
       "      <th>V10</th>\n",
       "      <th>V11</th>\n",
       "      <th>V12</th>\n",
       "      <th>V13</th>\n",
       "      <th>V14</th>\n",
       "      <th>V15</th>\n",
       "      <th>V16</th>\n",
       "      <th>V17</th>\n",
       "      <th>V18</th>\n",
       "      <th>V19</th>\n",
       "      <th>V20</th>\n",
       "      <th>V21</th>\n",
       "      <th>V22</th>\n",
       "      <th>V23</th>\n",
       "      <th>V24</th>\n",
       "      <th>V25</th>\n",
       "      <th>V26</th>\n",
       "      <th>V27</th>\n",
       "      <th>V28</th>\n",
       "      <th>Amount</th>\n",
       "      <th>Class</th>\n",
       "    </tr>\n",
       "  </thead>\n",
       "  <tbody>\n",
       "    <tr>\n",
       "      <th>119483</th>\n",
       "      <td>75646.0</td>\n",
       "      <td>-0.868316</td>\n",
       "      <td>0.310385</td>\n",
       "      <td>2.440775</td>\n",
       "      <td>-0.923164</td>\n",
       "      <td>-0.124800</td>\n",
       "      <td>0.116584</td>\n",
       "      <td>0.070864</td>\n",
       "      <td>0.434674</td>\n",
       "      <td>0.291963</td>\n",
       "      <td>-1.047113</td>\n",
       "      <td>0.946985</td>\n",
       "      <td>0.911082</td>\n",
       "      <td>-0.581674</td>\n",
       "      <td>-0.312058</td>\n",
       "      <td>-1.516148</td>\n",
       "      <td>0.558790</td>\n",
       "      <td>-0.703110</td>\n",
       "      <td>-0.244147</td>\n",
       "      <td>-1.759019</td>\n",
       "      <td>-0.287490</td>\n",
       "      <td>0.109391</td>\n",
       "      <td>0.346733</td>\n",
       "      <td>-0.058498</td>\n",
       "      <td>0.226926</td>\n",
       "      <td>-0.390286</td>\n",
       "      <td>-0.043309</td>\n",
       "      <td>0.097176</td>\n",
       "      <td>0.123567</td>\n",
       "      <td>5.88</td>\n",
       "      <td>0</td>\n",
       "    </tr>\n",
       "    <tr>\n",
       "      <th>17752</th>\n",
       "      <td>28931.0</td>\n",
       "      <td>-0.797899</td>\n",
       "      <td>1.924714</td>\n",
       "      <td>-0.496497</td>\n",
       "      <td>0.649641</td>\n",
       "      <td>0.559371</td>\n",
       "      <td>0.020042</td>\n",
       "      <td>-0.015066</td>\n",
       "      <td>-3.396142</td>\n",
       "      <td>-0.289837</td>\n",
       "      <td>0.469879</td>\n",
       "      <td>-1.204169</td>\n",
       "      <td>0.272353</td>\n",
       "      <td>0.673993</td>\n",
       "      <td>0.421552</td>\n",
       "      <td>0.598156</td>\n",
       "      <td>-0.306965</td>\n",
       "      <td>-0.237618</td>\n",
       "      <td>0.125020</td>\n",
       "      <td>0.634913</td>\n",
       "      <td>-0.588350</td>\n",
       "      <td>3.122428</td>\n",
       "      <td>-0.537665</td>\n",
       "      <td>0.327733</td>\n",
       "      <td>-0.474439</td>\n",
       "      <td>-0.504046</td>\n",
       "      <td>-0.338321</td>\n",
       "      <td>0.615687</td>\n",
       "      <td>0.239678</td>\n",
       "      <td>22.16</td>\n",
       "      <td>0</td>\n",
       "    </tr>\n",
       "    <tr>\n",
       "      <th>185301</th>\n",
       "      <td>126901.0</td>\n",
       "      <td>-0.772459</td>\n",
       "      <td>0.927688</td>\n",
       "      <td>-0.587299</td>\n",
       "      <td>-2.056678</td>\n",
       "      <td>2.620595</td>\n",
       "      <td>3.670107</td>\n",
       "      <td>-0.013384</td>\n",
       "      <td>0.929972</td>\n",
       "      <td>0.995876</td>\n",
       "      <td>-0.370534</td>\n",
       "      <td>0.331056</td>\n",
       "      <td>-0.173121</td>\n",
       "      <td>-0.320220</td>\n",
       "      <td>-1.635131</td>\n",
       "      <td>0.915730</td>\n",
       "      <td>0.419224</td>\n",
       "      <td>0.148053</td>\n",
       "      <td>0.202274</td>\n",
       "      <td>-0.537258</td>\n",
       "      <td>0.418465</td>\n",
       "      <td>-0.377347</td>\n",
       "      <td>-0.767952</td>\n",
       "      <td>-0.017241</td>\n",
       "      <td>0.553453</td>\n",
       "      <td>-0.066833</td>\n",
       "      <td>-0.264769</td>\n",
       "      <td>0.217343</td>\n",
       "      <td>-0.002995</td>\n",
       "      <td>2.69</td>\n",
       "      <td>0</td>\n",
       "    </tr>\n",
       "    <tr>\n",
       "      <th>21013</th>\n",
       "      <td>31455.0</td>\n",
       "      <td>-2.470088</td>\n",
       "      <td>1.445333</td>\n",
       "      <td>1.449623</td>\n",
       "      <td>1.991840</td>\n",
       "      <td>1.299102</td>\n",
       "      <td>2.278487</td>\n",
       "      <td>1.572548</td>\n",
       "      <td>-0.616953</td>\n",
       "      <td>0.890520</td>\n",
       "      <td>4.830925</td>\n",
       "      <td>2.979414</td>\n",
       "      <td>0.286641</td>\n",
       "      <td>0.221534</td>\n",
       "      <td>-1.442123</td>\n",
       "      <td>1.994828</td>\n",
       "      <td>-1.737175</td>\n",
       "      <td>0.132407</td>\n",
       "      <td>-1.757604</td>\n",
       "      <td>-0.705283</td>\n",
       "      <td>1.362997</td>\n",
       "      <td>-0.561796</td>\n",
       "      <td>0.758427</td>\n",
       "      <td>-0.232501</td>\n",
       "      <td>-1.015471</td>\n",
       "      <td>-0.510158</td>\n",
       "      <td>0.037589</td>\n",
       "      <td>-0.230830</td>\n",
       "      <td>-0.679720</td>\n",
       "      <td>76.07</td>\n",
       "      <td>0</td>\n",
       "    </tr>\n",
       "    <tr>\n",
       "      <th>247171</th>\n",
       "      <td>153790.0</td>\n",
       "      <td>2.075014</td>\n",
       "      <td>-1.331194</td>\n",
       "      <td>0.257760</td>\n",
       "      <td>-0.715151</td>\n",
       "      <td>-1.496807</td>\n",
       "      <td>0.570541</td>\n",
       "      <td>-1.781122</td>\n",
       "      <td>0.369112</td>\n",
       "      <td>0.748240</td>\n",
       "      <td>0.668248</td>\n",
       "      <td>0.397343</td>\n",
       "      <td>0.519973</td>\n",
       "      <td>0.039952</td>\n",
       "      <td>-1.034241</td>\n",
       "      <td>-1.699330</td>\n",
       "      <td>1.105779</td>\n",
       "      <td>0.241920</td>\n",
       "      <td>-0.789742</td>\n",
       "      <td>1.094459</td>\n",
       "      <td>-0.031798</td>\n",
       "      <td>0.183021</td>\n",
       "      <td>0.780388</td>\n",
       "      <td>0.269328</td>\n",
       "      <td>0.797639</td>\n",
       "      <td>-0.357503</td>\n",
       "      <td>-0.244888</td>\n",
       "      <td>0.054289</td>\n",
       "      <td>-0.040469</td>\n",
       "      <td>1.00</td>\n",
       "      <td>0</td>\n",
       "    </tr>\n",
       "    <tr>\n",
       "      <th>...</th>\n",
       "      <td>...</td>\n",
       "      <td>...</td>\n",
       "      <td>...</td>\n",
       "      <td>...</td>\n",
       "      <td>...</td>\n",
       "      <td>...</td>\n",
       "      <td>...</td>\n",
       "      <td>...</td>\n",
       "      <td>...</td>\n",
       "      <td>...</td>\n",
       "      <td>...</td>\n",
       "      <td>...</td>\n",
       "      <td>...</td>\n",
       "      <td>...</td>\n",
       "      <td>...</td>\n",
       "      <td>...</td>\n",
       "      <td>...</td>\n",
       "      <td>...</td>\n",
       "      <td>...</td>\n",
       "      <td>...</td>\n",
       "      <td>...</td>\n",
       "      <td>...</td>\n",
       "      <td>...</td>\n",
       "      <td>...</td>\n",
       "      <td>...</td>\n",
       "      <td>...</td>\n",
       "      <td>...</td>\n",
       "      <td>...</td>\n",
       "      <td>...</td>\n",
       "      <td>...</td>\n",
       "      <td>...</td>\n",
       "    </tr>\n",
       "    <tr>\n",
       "      <th>270508</th>\n",
       "      <td>164615.0</td>\n",
       "      <td>-1.456628</td>\n",
       "      <td>0.120555</td>\n",
       "      <td>1.095222</td>\n",
       "      <td>-0.137410</td>\n",
       "      <td>-0.186372</td>\n",
       "      <td>-0.653156</td>\n",
       "      <td>0.056174</td>\n",
       "      <td>0.459775</td>\n",
       "      <td>0.060210</td>\n",
       "      <td>-0.948777</td>\n",
       "      <td>-0.929606</td>\n",
       "      <td>0.526948</td>\n",
       "      <td>0.917773</td>\n",
       "      <td>0.118923</td>\n",
       "      <td>0.880481</td>\n",
       "      <td>0.089334</td>\n",
       "      <td>-0.351326</td>\n",
       "      <td>0.416249</td>\n",
       "      <td>-0.082522</td>\n",
       "      <td>0.427082</td>\n",
       "      <td>0.400348</td>\n",
       "      <td>0.885240</td>\n",
       "      <td>-0.045997</td>\n",
       "      <td>0.021060</td>\n",
       "      <td>0.087074</td>\n",
       "      <td>-0.141906</td>\n",
       "      <td>0.265186</td>\n",
       "      <td>0.040424</td>\n",
       "      <td>100.00</td>\n",
       "      <td>0</td>\n",
       "    </tr>\n",
       "    <tr>\n",
       "      <th>227625</th>\n",
       "      <td>145524.0</td>\n",
       "      <td>2.039635</td>\n",
       "      <td>-0.460513</td>\n",
       "      <td>-2.629294</td>\n",
       "      <td>-0.722905</td>\n",
       "      <td>0.714746</td>\n",
       "      <td>-0.953566</td>\n",
       "      <td>0.689279</td>\n",
       "      <td>-0.464711</td>\n",
       "      <td>0.613706</td>\n",
       "      <td>-0.194489</td>\n",
       "      <td>-1.470152</td>\n",
       "      <td>-0.120237</td>\n",
       "      <td>-0.334814</td>\n",
       "      <td>0.610755</td>\n",
       "      <td>0.033825</td>\n",
       "      <td>-0.551754</td>\n",
       "      <td>-0.234030</td>\n",
       "      <td>-0.502443</td>\n",
       "      <td>0.789715</td>\n",
       "      <td>0.005825</td>\n",
       "      <td>0.083660</td>\n",
       "      <td>0.208888</td>\n",
       "      <td>-0.158554</td>\n",
       "      <td>0.141072</td>\n",
       "      <td>0.386191</td>\n",
       "      <td>1.078186</td>\n",
       "      <td>-0.165565</td>\n",
       "      <td>-0.077410</td>\n",
       "      <td>95.95</td>\n",
       "      <td>0</td>\n",
       "    </tr>\n",
       "    <tr>\n",
       "      <th>208336</th>\n",
       "      <td>137401.0</td>\n",
       "      <td>1.692321</td>\n",
       "      <td>-0.997218</td>\n",
       "      <td>-0.631185</td>\n",
       "      <td>-0.310062</td>\n",
       "      <td>-0.662933</td>\n",
       "      <td>-0.091857</td>\n",
       "      <td>-0.490497</td>\n",
       "      <td>-0.010481</td>\n",
       "      <td>0.664146</td>\n",
       "      <td>0.024541</td>\n",
       "      <td>1.211579</td>\n",
       "      <td>1.618256</td>\n",
       "      <td>1.514274</td>\n",
       "      <td>-0.171112</td>\n",
       "      <td>0.139135</td>\n",
       "      <td>0.739503</td>\n",
       "      <td>-0.898919</td>\n",
       "      <td>0.297572</td>\n",
       "      <td>0.045363</td>\n",
       "      <td>0.304594</td>\n",
       "      <td>0.314867</td>\n",
       "      <td>0.668945</td>\n",
       "      <td>0.090051</td>\n",
       "      <td>0.896253</td>\n",
       "      <td>-0.514676</td>\n",
       "      <td>1.193882</td>\n",
       "      <td>-0.113244</td>\n",
       "      <td>-0.029710</td>\n",
       "      <td>168.90</td>\n",
       "      <td>0</td>\n",
       "    </tr>\n",
       "    <tr>\n",
       "      <th>222184</th>\n",
       "      <td>143214.0</td>\n",
       "      <td>-0.347819</td>\n",
       "      <td>1.151160</td>\n",
       "      <td>-0.886069</td>\n",
       "      <td>0.001936</td>\n",
       "      <td>1.271999</td>\n",
       "      <td>-1.405851</td>\n",
       "      <td>0.926867</td>\n",
       "      <td>-0.169514</td>\n",
       "      <td>-0.368047</td>\n",
       "      <td>-1.450472</td>\n",
       "      <td>1.668231</td>\n",
       "      <td>-0.315450</td>\n",
       "      <td>-1.022118</td>\n",
       "      <td>-2.228652</td>\n",
       "      <td>0.303959</td>\n",
       "      <td>0.696950</td>\n",
       "      <td>1.710989</td>\n",
       "      <td>1.972550</td>\n",
       "      <td>-0.146845</td>\n",
       "      <td>-0.137298</td>\n",
       "      <td>0.295625</td>\n",
       "      <td>0.918560</td>\n",
       "      <td>-0.294878</td>\n",
       "      <td>-0.205210</td>\n",
       "      <td>-0.581914</td>\n",
       "      <td>-0.187790</td>\n",
       "      <td>0.151155</td>\n",
       "      <td>0.259274</td>\n",
       "      <td>18.96</td>\n",
       "      <td>0</td>\n",
       "    </tr>\n",
       "    <tr>\n",
       "      <th>194956</th>\n",
       "      <td>131167.0</td>\n",
       "      <td>-1.051981</td>\n",
       "      <td>0.072830</td>\n",
       "      <td>0.881263</td>\n",
       "      <td>-0.214155</td>\n",
       "      <td>1.072278</td>\n",
       "      <td>-0.470100</td>\n",
       "      <td>-0.059069</td>\n",
       "      <td>0.071193</td>\n",
       "      <td>0.193092</td>\n",
       "      <td>-1.088200</td>\n",
       "      <td>-0.696379</td>\n",
       "      <td>-0.095403</td>\n",
       "      <td>0.643885</td>\n",
       "      <td>-1.696100</td>\n",
       "      <td>0.553582</td>\n",
       "      <td>0.603317</td>\n",
       "      <td>0.447942</td>\n",
       "      <td>0.775706</td>\n",
       "      <td>-0.303428</td>\n",
       "      <td>0.030033</td>\n",
       "      <td>0.257108</td>\n",
       "      <td>0.815502</td>\n",
       "      <td>-0.279376</td>\n",
       "      <td>0.593587</td>\n",
       "      <td>-0.187826</td>\n",
       "      <td>0.645822</td>\n",
       "      <td>0.025593</td>\n",
       "      <td>0.232119</td>\n",
       "      <td>33.90</td>\n",
       "      <td>0</td>\n",
       "    </tr>\n",
       "  </tbody>\n",
       "</table>\n",
       "<p>56746 rows × 31 columns</p>\n",
       "</div>"
      ],
      "text/plain": [
       "            Time        V1        V2        V3        V4        V5        V6  \\\n",
       "119483   75646.0 -0.868316  0.310385  2.440775 -0.923164 -0.124800  0.116584   \n",
       "17752    28931.0 -0.797899  1.924714 -0.496497  0.649641  0.559371  0.020042   \n",
       "185301  126901.0 -0.772459  0.927688 -0.587299 -2.056678  2.620595  3.670107   \n",
       "21013    31455.0 -2.470088  1.445333  1.449623  1.991840  1.299102  2.278487   \n",
       "247171  153790.0  2.075014 -1.331194  0.257760 -0.715151 -1.496807  0.570541   \n",
       "...          ...       ...       ...       ...       ...       ...       ...   \n",
       "270508  164615.0 -1.456628  0.120555  1.095222 -0.137410 -0.186372 -0.653156   \n",
       "227625  145524.0  2.039635 -0.460513 -2.629294 -0.722905  0.714746 -0.953566   \n",
       "208336  137401.0  1.692321 -0.997218 -0.631185 -0.310062 -0.662933 -0.091857   \n",
       "222184  143214.0 -0.347819  1.151160 -0.886069  0.001936  1.271999 -1.405851   \n",
       "194956  131167.0 -1.051981  0.072830  0.881263 -0.214155  1.072278 -0.470100   \n",
       "\n",
       "              V7        V8        V9       V10       V11       V12       V13  \\\n",
       "119483  0.070864  0.434674  0.291963 -1.047113  0.946985  0.911082 -0.581674   \n",
       "17752  -0.015066 -3.396142 -0.289837  0.469879 -1.204169  0.272353  0.673993   \n",
       "185301 -0.013384  0.929972  0.995876 -0.370534  0.331056 -0.173121 -0.320220   \n",
       "21013   1.572548 -0.616953  0.890520  4.830925  2.979414  0.286641  0.221534   \n",
       "247171 -1.781122  0.369112  0.748240  0.668248  0.397343  0.519973  0.039952   \n",
       "...          ...       ...       ...       ...       ...       ...       ...   \n",
       "270508  0.056174  0.459775  0.060210 -0.948777 -0.929606  0.526948  0.917773   \n",
       "227625  0.689279 -0.464711  0.613706 -0.194489 -1.470152 -0.120237 -0.334814   \n",
       "208336 -0.490497 -0.010481  0.664146  0.024541  1.211579  1.618256  1.514274   \n",
       "222184  0.926867 -0.169514 -0.368047 -1.450472  1.668231 -0.315450 -1.022118   \n",
       "194956 -0.059069  0.071193  0.193092 -1.088200 -0.696379 -0.095403  0.643885   \n",
       "\n",
       "             V14       V15       V16       V17       V18       V19       V20  \\\n",
       "119483 -0.312058 -1.516148  0.558790 -0.703110 -0.244147 -1.759019 -0.287490   \n",
       "17752   0.421552  0.598156 -0.306965 -0.237618  0.125020  0.634913 -0.588350   \n",
       "185301 -1.635131  0.915730  0.419224  0.148053  0.202274 -0.537258  0.418465   \n",
       "21013  -1.442123  1.994828 -1.737175  0.132407 -1.757604 -0.705283  1.362997   \n",
       "247171 -1.034241 -1.699330  1.105779  0.241920 -0.789742  1.094459 -0.031798   \n",
       "...          ...       ...       ...       ...       ...       ...       ...   \n",
       "270508  0.118923  0.880481  0.089334 -0.351326  0.416249 -0.082522  0.427082   \n",
       "227625  0.610755  0.033825 -0.551754 -0.234030 -0.502443  0.789715  0.005825   \n",
       "208336 -0.171112  0.139135  0.739503 -0.898919  0.297572  0.045363  0.304594   \n",
       "222184 -2.228652  0.303959  0.696950  1.710989  1.972550 -0.146845 -0.137298   \n",
       "194956 -1.696100  0.553582  0.603317  0.447942  0.775706 -0.303428  0.030033   \n",
       "\n",
       "             V21       V22       V23       V24       V25       V26       V27  \\\n",
       "119483  0.109391  0.346733 -0.058498  0.226926 -0.390286 -0.043309  0.097176   \n",
       "17752   3.122428 -0.537665  0.327733 -0.474439 -0.504046 -0.338321  0.615687   \n",
       "185301 -0.377347 -0.767952 -0.017241  0.553453 -0.066833 -0.264769  0.217343   \n",
       "21013  -0.561796  0.758427 -0.232501 -1.015471 -0.510158  0.037589 -0.230830   \n",
       "247171  0.183021  0.780388  0.269328  0.797639 -0.357503 -0.244888  0.054289   \n",
       "...          ...       ...       ...       ...       ...       ...       ...   \n",
       "270508  0.400348  0.885240 -0.045997  0.021060  0.087074 -0.141906  0.265186   \n",
       "227625  0.083660  0.208888 -0.158554  0.141072  0.386191  1.078186 -0.165565   \n",
       "208336  0.314867  0.668945  0.090051  0.896253 -0.514676  1.193882 -0.113244   \n",
       "222184  0.295625  0.918560 -0.294878 -0.205210 -0.581914 -0.187790  0.151155   \n",
       "194956  0.257108  0.815502 -0.279376  0.593587 -0.187826  0.645822  0.025593   \n",
       "\n",
       "             V28  Amount  Class  \n",
       "119483  0.123567    5.88      0  \n",
       "17752   0.239678   22.16      0  \n",
       "185301 -0.002995    2.69      0  \n",
       "21013  -0.679720   76.07      0  \n",
       "247171 -0.040469    1.00      0  \n",
       "...          ...     ...    ...  \n",
       "270508  0.040424  100.00      0  \n",
       "227625 -0.077410   95.95      0  \n",
       "208336 -0.029710  168.90      0  \n",
       "222184  0.259274   18.96      0  \n",
       "194956  0.232119   33.90      0  \n",
       "\n",
       "[56746 rows x 31 columns]"
      ]
     },
     "execution_count": 12,
     "metadata": {},
     "output_type": "execute_result"
    }
   ],
   "source": [
    "test"
   ]
  },
  {
   "cell_type": "code",
   "execution_count": 13,
   "metadata": {},
   "outputs": [
    {
     "name": "stdout",
     "output_type": "stream",
     "text": [
      "Shape of X_train:  (226980, 30)\n",
      "Lenth of Y_traub:  226980\n",
      "Shape of X_test:  (56746, 30)\n",
      "Length of Y_test:  56746\n"
     ]
    }
   ],
   "source": [
    "X_train = train.drop(['Class'],axis=1)\n",
    "Y_train = train['Class']\n",
    "X_test = test.drop(['Class'],axis=1)\n",
    "Y_test = test['Class']\n",
    "\n",
    "print('Shape of X_train: ',X_train.shape)\n",
    "print('Lenth of Y_traub: ',len(Y_train))\n",
    "print('Shape of X_test: ',X_test.shape)\n",
    "print('Length of Y_test: ',len(Y_test))"
   ]
  },
  {
   "cell_type": "markdown",
   "metadata": {},
   "source": [
    "# Pearson Correlation"
   ]
  },
  {
   "cell_type": "code",
   "execution_count": 14,
   "metadata": {},
   "outputs": [
    {
     "data": {
      "text/html": [
       "<div>\n",
       "<style scoped>\n",
       "    .dataframe tbody tr th:only-of-type {\n",
       "        vertical-align: middle;\n",
       "    }\n",
       "\n",
       "    .dataframe tbody tr th {\n",
       "        vertical-align: top;\n",
       "    }\n",
       "\n",
       "    .dataframe thead th {\n",
       "        text-align: right;\n",
       "    }\n",
       "</style>\n",
       "<table border=\"1\" class=\"dataframe\">\n",
       "  <thead>\n",
       "    <tr style=\"text-align: right;\">\n",
       "      <th></th>\n",
       "      <th>Time</th>\n",
       "      <th>V1</th>\n",
       "      <th>V2</th>\n",
       "      <th>V3</th>\n",
       "      <th>V4</th>\n",
       "      <th>V5</th>\n",
       "      <th>V6</th>\n",
       "      <th>V7</th>\n",
       "      <th>V8</th>\n",
       "      <th>V9</th>\n",
       "      <th>V10</th>\n",
       "      <th>V11</th>\n",
       "      <th>V12</th>\n",
       "      <th>V13</th>\n",
       "      <th>V14</th>\n",
       "      <th>V15</th>\n",
       "      <th>V16</th>\n",
       "      <th>V17</th>\n",
       "      <th>V18</th>\n",
       "      <th>V19</th>\n",
       "      <th>V20</th>\n",
       "      <th>V21</th>\n",
       "      <th>V22</th>\n",
       "      <th>V23</th>\n",
       "      <th>V24</th>\n",
       "      <th>V25</th>\n",
       "      <th>V26</th>\n",
       "      <th>V27</th>\n",
       "      <th>V28</th>\n",
       "      <th>Amount</th>\n",
       "      <th>Class</th>\n",
       "    </tr>\n",
       "  </thead>\n",
       "  <tbody>\n",
       "    <tr>\n",
       "      <th>Time</th>\n",
       "      <td>1.000000</td>\n",
       "      <td>0.117927</td>\n",
       "      <td>-0.010556</td>\n",
       "      <td>-0.422054</td>\n",
       "      <td>-0.105845</td>\n",
       "      <td>0.173223</td>\n",
       "      <td>-0.063279</td>\n",
       "      <td>0.085335</td>\n",
       "      <td>-0.038203</td>\n",
       "      <td>-0.007861</td>\n",
       "      <td>0.031068</td>\n",
       "      <td>-0.248536</td>\n",
       "      <td>0.125500</td>\n",
       "      <td>-0.065958</td>\n",
       "      <td>-0.100316</td>\n",
       "      <td>-0.184392</td>\n",
       "      <td>0.011286</td>\n",
       "      <td>-0.073819</td>\n",
       "      <td>0.090305</td>\n",
       "      <td>0.029537</td>\n",
       "      <td>-0.051022</td>\n",
       "      <td>0.045913</td>\n",
       "      <td>0.143727</td>\n",
       "      <td>0.051474</td>\n",
       "      <td>-0.015954</td>\n",
       "      <td>-0.233262</td>\n",
       "      <td>-0.041818</td>\n",
       "      <td>-0.005171</td>\n",
       "      <td>-0.009305</td>\n",
       "      <td>-0.010559</td>\n",
       "      <td>-0.012359</td>\n",
       "    </tr>\n",
       "    <tr>\n",
       "      <th>V1</th>\n",
       "      <td>0.117927</td>\n",
       "      <td>1.000000</td>\n",
       "      <td>0.006875</td>\n",
       "      <td>-0.008112</td>\n",
       "      <td>0.002257</td>\n",
       "      <td>-0.007036</td>\n",
       "      <td>0.000413</td>\n",
       "      <td>-0.009173</td>\n",
       "      <td>-0.001168</td>\n",
       "      <td>0.001828</td>\n",
       "      <td>0.000815</td>\n",
       "      <td>0.001028</td>\n",
       "      <td>-0.001524</td>\n",
       "      <td>-0.000568</td>\n",
       "      <td>-0.002663</td>\n",
       "      <td>-0.000602</td>\n",
       "      <td>-0.003345</td>\n",
       "      <td>-0.003491</td>\n",
       "      <td>-0.003535</td>\n",
       "      <td>0.000919</td>\n",
       "      <td>-0.001393</td>\n",
       "      <td>0.002818</td>\n",
       "      <td>-0.001436</td>\n",
       "      <td>-0.001330</td>\n",
       "      <td>-0.000723</td>\n",
       "      <td>-0.000222</td>\n",
       "      <td>-0.000684</td>\n",
       "      <td>-0.015706</td>\n",
       "      <td>-0.004861</td>\n",
       "      <td>-0.230105</td>\n",
       "      <td>-0.094486</td>\n",
       "    </tr>\n",
       "    <tr>\n",
       "      <th>V2</th>\n",
       "      <td>-0.010556</td>\n",
       "      <td>0.006875</td>\n",
       "      <td>1.000000</td>\n",
       "      <td>0.005278</td>\n",
       "      <td>-0.001495</td>\n",
       "      <td>0.005210</td>\n",
       "      <td>-0.000594</td>\n",
       "      <td>0.007425</td>\n",
       "      <td>0.002899</td>\n",
       "      <td>-0.000274</td>\n",
       "      <td>0.000620</td>\n",
       "      <td>-0.000633</td>\n",
       "      <td>0.002266</td>\n",
       "      <td>0.000680</td>\n",
       "      <td>0.002711</td>\n",
       "      <td>0.001538</td>\n",
       "      <td>0.004013</td>\n",
       "      <td>0.003244</td>\n",
       "      <td>0.002477</td>\n",
       "      <td>-0.000358</td>\n",
       "      <td>-0.001287</td>\n",
       "      <td>-0.004897</td>\n",
       "      <td>0.001237</td>\n",
       "      <td>-0.003855</td>\n",
       "      <td>0.000701</td>\n",
       "      <td>-0.001569</td>\n",
       "      <td>0.000253</td>\n",
       "      <td>0.007555</td>\n",
       "      <td>0.001611</td>\n",
       "      <td>-0.533428</td>\n",
       "      <td>0.084624</td>\n",
       "    </tr>\n",
       "    <tr>\n",
       "      <th>V3</th>\n",
       "      <td>-0.422054</td>\n",
       "      <td>-0.008112</td>\n",
       "      <td>0.005278</td>\n",
       "      <td>1.000000</td>\n",
       "      <td>0.002829</td>\n",
       "      <td>-0.006879</td>\n",
       "      <td>-0.001511</td>\n",
       "      <td>-0.011721</td>\n",
       "      <td>-0.001815</td>\n",
       "      <td>-0.003579</td>\n",
       "      <td>-0.009632</td>\n",
       "      <td>0.002339</td>\n",
       "      <td>-0.005900</td>\n",
       "      <td>0.000113</td>\n",
       "      <td>-0.003027</td>\n",
       "      <td>-0.001230</td>\n",
       "      <td>-0.004430</td>\n",
       "      <td>-0.008159</td>\n",
       "      <td>-0.003495</td>\n",
       "      <td>-0.000016</td>\n",
       "      <td>-0.002269</td>\n",
       "      <td>0.003500</td>\n",
       "      <td>-0.000275</td>\n",
       "      <td>0.000449</td>\n",
       "      <td>-0.000072</td>\n",
       "      <td>0.000425</td>\n",
       "      <td>-0.000094</td>\n",
       "      <td>-0.007051</td>\n",
       "      <td>-0.000134</td>\n",
       "      <td>-0.212410</td>\n",
       "      <td>-0.182322</td>\n",
       "    </tr>\n",
       "    <tr>\n",
       "      <th>V4</th>\n",
       "      <td>-0.105845</td>\n",
       "      <td>0.002257</td>\n",
       "      <td>-0.001495</td>\n",
       "      <td>0.002829</td>\n",
       "      <td>1.000000</td>\n",
       "      <td>0.001744</td>\n",
       "      <td>-0.000880</td>\n",
       "      <td>0.004657</td>\n",
       "      <td>0.000890</td>\n",
       "      <td>0.002154</td>\n",
       "      <td>0.002753</td>\n",
       "      <td>-0.001223</td>\n",
       "      <td>0.003366</td>\n",
       "      <td>0.000177</td>\n",
       "      <td>0.002801</td>\n",
       "      <td>0.000572</td>\n",
       "      <td>0.003346</td>\n",
       "      <td>0.003655</td>\n",
       "      <td>0.002325</td>\n",
       "      <td>-0.000560</td>\n",
       "      <td>0.000318</td>\n",
       "      <td>-0.001034</td>\n",
       "      <td>0.000115</td>\n",
       "      <td>0.000732</td>\n",
       "      <td>-0.000120</td>\n",
       "      <td>0.000162</td>\n",
       "      <td>0.000777</td>\n",
       "      <td>0.001322</td>\n",
       "      <td>0.000231</td>\n",
       "      <td>0.099514</td>\n",
       "      <td>0.129326</td>\n",
       "    </tr>\n",
       "    <tr>\n",
       "      <th>V5</th>\n",
       "      <td>0.173223</td>\n",
       "      <td>-0.007036</td>\n",
       "      <td>0.005210</td>\n",
       "      <td>-0.006879</td>\n",
       "      <td>0.001744</td>\n",
       "      <td>1.000000</td>\n",
       "      <td>-0.000938</td>\n",
       "      <td>-0.008709</td>\n",
       "      <td>0.001430</td>\n",
       "      <td>-0.001213</td>\n",
       "      <td>-0.006050</td>\n",
       "      <td>0.000411</td>\n",
       "      <td>-0.002342</td>\n",
       "      <td>0.000019</td>\n",
       "      <td>-0.001000</td>\n",
       "      <td>-0.001171</td>\n",
       "      <td>-0.002373</td>\n",
       "      <td>-0.004466</td>\n",
       "      <td>-0.002685</td>\n",
       "      <td>0.000436</td>\n",
       "      <td>-0.001185</td>\n",
       "      <td>0.001622</td>\n",
       "      <td>-0.000559</td>\n",
       "      <td>0.001183</td>\n",
       "      <td>0.000198</td>\n",
       "      <td>0.000069</td>\n",
       "      <td>0.000390</td>\n",
       "      <td>-0.005798</td>\n",
       "      <td>-0.000820</td>\n",
       "      <td>-0.387685</td>\n",
       "      <td>-0.087812</td>\n",
       "    </tr>\n",
       "    <tr>\n",
       "      <th>V6</th>\n",
       "      <td>-0.063279</td>\n",
       "      <td>0.000413</td>\n",
       "      <td>-0.000594</td>\n",
       "      <td>-0.001511</td>\n",
       "      <td>-0.000880</td>\n",
       "      <td>-0.000938</td>\n",
       "      <td>1.000000</td>\n",
       "      <td>0.000436</td>\n",
       "      <td>0.003036</td>\n",
       "      <td>-0.000734</td>\n",
       "      <td>-0.002180</td>\n",
       "      <td>-0.000211</td>\n",
       "      <td>-0.001185</td>\n",
       "      <td>0.000397</td>\n",
       "      <td>0.000184</td>\n",
       "      <td>-0.000470</td>\n",
       "      <td>0.000122</td>\n",
       "      <td>-0.001716</td>\n",
       "      <td>0.000541</td>\n",
       "      <td>0.000106</td>\n",
       "      <td>-0.000181</td>\n",
       "      <td>-0.002134</td>\n",
       "      <td>0.001104</td>\n",
       "      <td>-0.000755</td>\n",
       "      <td>0.001202</td>\n",
       "      <td>0.000697</td>\n",
       "      <td>-0.000028</td>\n",
       "      <td>0.000289</td>\n",
       "      <td>0.000925</td>\n",
       "      <td>0.216389</td>\n",
       "      <td>-0.043915</td>\n",
       "    </tr>\n",
       "    <tr>\n",
       "      <th>V7</th>\n",
       "      <td>0.085335</td>\n",
       "      <td>-0.009173</td>\n",
       "      <td>0.007425</td>\n",
       "      <td>-0.011721</td>\n",
       "      <td>0.004657</td>\n",
       "      <td>-0.008709</td>\n",
       "      <td>0.000436</td>\n",
       "      <td>1.000000</td>\n",
       "      <td>-0.006419</td>\n",
       "      <td>-0.004921</td>\n",
       "      <td>-0.013617</td>\n",
       "      <td>0.002454</td>\n",
       "      <td>-0.006153</td>\n",
       "      <td>-0.000170</td>\n",
       "      <td>-0.003816</td>\n",
       "      <td>-0.001394</td>\n",
       "      <td>-0.005944</td>\n",
       "      <td>-0.008794</td>\n",
       "      <td>-0.004279</td>\n",
       "      <td>0.000846</td>\n",
       "      <td>-0.001192</td>\n",
       "      <td>0.009010</td>\n",
       "      <td>-0.002280</td>\n",
       "      <td>0.003303</td>\n",
       "      <td>-0.000384</td>\n",
       "      <td>-0.000072</td>\n",
       "      <td>0.000624</td>\n",
       "      <td>-0.004537</td>\n",
       "      <td>0.001657</td>\n",
       "      <td>0.400408</td>\n",
       "      <td>-0.172347</td>\n",
       "    </tr>\n",
       "    <tr>\n",
       "      <th>V8</th>\n",
       "      <td>-0.038203</td>\n",
       "      <td>-0.001168</td>\n",
       "      <td>0.002899</td>\n",
       "      <td>-0.001815</td>\n",
       "      <td>0.000890</td>\n",
       "      <td>0.001430</td>\n",
       "      <td>0.003036</td>\n",
       "      <td>-0.006419</td>\n",
       "      <td>1.000000</td>\n",
       "      <td>0.001038</td>\n",
       "      <td>0.000481</td>\n",
       "      <td>0.004688</td>\n",
       "      <td>-0.004414</td>\n",
       "      <td>-0.001381</td>\n",
       "      <td>-0.008387</td>\n",
       "      <td>0.001044</td>\n",
       "      <td>-0.004376</td>\n",
       "      <td>-0.005576</td>\n",
       "      <td>-0.001323</td>\n",
       "      <td>-0.000626</td>\n",
       "      <td>0.000271</td>\n",
       "      <td>0.018892</td>\n",
       "      <td>-0.006156</td>\n",
       "      <td>0.004994</td>\n",
       "      <td>0.000113</td>\n",
       "      <td>0.000011</td>\n",
       "      <td>-0.001407</td>\n",
       "      <td>0.000613</td>\n",
       "      <td>-0.000099</td>\n",
       "      <td>-0.104662</td>\n",
       "      <td>0.033068</td>\n",
       "    </tr>\n",
       "    <tr>\n",
       "      <th>V9</th>\n",
       "      <td>-0.007861</td>\n",
       "      <td>0.001828</td>\n",
       "      <td>-0.000274</td>\n",
       "      <td>-0.003579</td>\n",
       "      <td>0.002154</td>\n",
       "      <td>-0.001213</td>\n",
       "      <td>-0.000734</td>\n",
       "      <td>-0.004921</td>\n",
       "      <td>0.001038</td>\n",
       "      <td>1.000000</td>\n",
       "      <td>-0.012613</td>\n",
       "      <td>-0.000217</td>\n",
       "      <td>-0.002385</td>\n",
       "      <td>0.000745</td>\n",
       "      <td>0.001981</td>\n",
       "      <td>-0.000283</td>\n",
       "      <td>-0.000086</td>\n",
       "      <td>-0.002318</td>\n",
       "      <td>-0.000373</td>\n",
       "      <td>0.000247</td>\n",
       "      <td>-0.001838</td>\n",
       "      <td>0.000679</td>\n",
       "      <td>0.000785</td>\n",
       "      <td>0.000677</td>\n",
       "      <td>-0.000103</td>\n",
       "      <td>-0.000275</td>\n",
       "      <td>0.001253</td>\n",
       "      <td>0.008221</td>\n",
       "      <td>0.005591</td>\n",
       "      <td>-0.044123</td>\n",
       "      <td>-0.094021</td>\n",
       "    </tr>\n",
       "    <tr>\n",
       "      <th>V10</th>\n",
       "      <td>0.031068</td>\n",
       "      <td>0.000815</td>\n",
       "      <td>0.000620</td>\n",
       "      <td>-0.009632</td>\n",
       "      <td>0.002753</td>\n",
       "      <td>-0.006050</td>\n",
       "      <td>-0.002180</td>\n",
       "      <td>-0.013617</td>\n",
       "      <td>0.000481</td>\n",
       "      <td>-0.012613</td>\n",
       "      <td>1.000000</td>\n",
       "      <td>0.000844</td>\n",
       "      <td>-0.006942</td>\n",
       "      <td>0.001379</td>\n",
       "      <td>0.000168</td>\n",
       "      <td>-0.002293</td>\n",
       "      <td>-0.003715</td>\n",
       "      <td>-0.007877</td>\n",
       "      <td>-0.002450</td>\n",
       "      <td>0.001067</td>\n",
       "      <td>-0.004448</td>\n",
       "      <td>0.003777</td>\n",
       "      <td>-0.000481</td>\n",
       "      <td>0.001917</td>\n",
       "      <td>0.000154</td>\n",
       "      <td>-0.000565</td>\n",
       "      <td>0.001089</td>\n",
       "      <td>0.010769</td>\n",
       "      <td>0.009159</td>\n",
       "      <td>-0.102255</td>\n",
       "      <td>-0.206971</td>\n",
       "    </tr>\n",
       "    <tr>\n",
       "      <th>V11</th>\n",
       "      <td>-0.248536</td>\n",
       "      <td>0.001028</td>\n",
       "      <td>-0.000633</td>\n",
       "      <td>0.002339</td>\n",
       "      <td>-0.001223</td>\n",
       "      <td>0.000411</td>\n",
       "      <td>-0.000211</td>\n",
       "      <td>0.002454</td>\n",
       "      <td>0.004688</td>\n",
       "      <td>-0.000217</td>\n",
       "      <td>0.000844</td>\n",
       "      <td>1.000000</td>\n",
       "      <td>0.005569</td>\n",
       "      <td>0.000455</td>\n",
       "      <td>0.007713</td>\n",
       "      <td>-0.000872</td>\n",
       "      <td>0.004751</td>\n",
       "      <td>0.007353</td>\n",
       "      <td>0.002095</td>\n",
       "      <td>-0.000488</td>\n",
       "      <td>-0.000989</td>\n",
       "      <td>-0.002760</td>\n",
       "      <td>-0.000150</td>\n",
       "      <td>-0.000037</td>\n",
       "      <td>0.000080</td>\n",
       "      <td>0.000047</td>\n",
       "      <td>-0.000204</td>\n",
       "      <td>0.001987</td>\n",
       "      <td>0.002562</td>\n",
       "      <td>-0.000015</td>\n",
       "      <td>0.149067</td>\n",
       "    </tr>\n",
       "    <tr>\n",
       "      <th>V12</th>\n",
       "      <td>0.125500</td>\n",
       "      <td>-0.001524</td>\n",
       "      <td>0.002266</td>\n",
       "      <td>-0.005900</td>\n",
       "      <td>0.003366</td>\n",
       "      <td>-0.002342</td>\n",
       "      <td>-0.001185</td>\n",
       "      <td>-0.006153</td>\n",
       "      <td>-0.004414</td>\n",
       "      <td>-0.002385</td>\n",
       "      <td>-0.006942</td>\n",
       "      <td>0.005569</td>\n",
       "      <td>1.000000</td>\n",
       "      <td>-0.000550</td>\n",
       "      <td>-0.010007</td>\n",
       "      <td>0.000881</td>\n",
       "      <td>-0.007372</td>\n",
       "      <td>-0.012856</td>\n",
       "      <td>-0.003464</td>\n",
       "      <td>0.000593</td>\n",
       "      <td>0.001169</td>\n",
       "      <td>0.003285</td>\n",
       "      <td>0.000151</td>\n",
       "      <td>0.000486</td>\n",
       "      <td>0.000588</td>\n",
       "      <td>-0.000181</td>\n",
       "      <td>-0.000138</td>\n",
       "      <td>-0.000929</td>\n",
       "      <td>-0.000613</td>\n",
       "      <td>-0.009254</td>\n",
       "      <td>-0.250711</td>\n",
       "    </tr>\n",
       "    <tr>\n",
       "      <th>V13</th>\n",
       "      <td>-0.065958</td>\n",
       "      <td>-0.000568</td>\n",
       "      <td>0.000680</td>\n",
       "      <td>0.000113</td>\n",
       "      <td>0.000177</td>\n",
       "      <td>0.000019</td>\n",
       "      <td>0.000397</td>\n",
       "      <td>-0.000170</td>\n",
       "      <td>-0.001381</td>\n",
       "      <td>0.000745</td>\n",
       "      <td>0.001379</td>\n",
       "      <td>0.000455</td>\n",
       "      <td>-0.000550</td>\n",
       "      <td>1.000000</td>\n",
       "      <td>-0.001133</td>\n",
       "      <td>0.000234</td>\n",
       "      <td>-0.000807</td>\n",
       "      <td>-0.000170</td>\n",
       "      <td>-0.000155</td>\n",
       "      <td>0.000086</td>\n",
       "      <td>0.000379</td>\n",
       "      <td>0.000522</td>\n",
       "      <td>0.000016</td>\n",
       "      <td>0.000252</td>\n",
       "      <td>-0.000049</td>\n",
       "      <td>0.000248</td>\n",
       "      <td>-0.000101</td>\n",
       "      <td>-0.001577</td>\n",
       "      <td>-0.000604</td>\n",
       "      <td>0.005209</td>\n",
       "      <td>-0.003897</td>\n",
       "    </tr>\n",
       "    <tr>\n",
       "      <th>V14</th>\n",
       "      <td>-0.100316</td>\n",
       "      <td>-0.002663</td>\n",
       "      <td>0.002711</td>\n",
       "      <td>-0.003027</td>\n",
       "      <td>0.002801</td>\n",
       "      <td>-0.001000</td>\n",
       "      <td>0.000184</td>\n",
       "      <td>-0.003816</td>\n",
       "      <td>-0.008387</td>\n",
       "      <td>0.001981</td>\n",
       "      <td>0.000168</td>\n",
       "      <td>0.007713</td>\n",
       "      <td>-0.010007</td>\n",
       "      <td>-0.001133</td>\n",
       "      <td>1.000000</td>\n",
       "      <td>0.000866</td>\n",
       "      <td>-0.009074</td>\n",
       "      <td>-0.013551</td>\n",
       "      <td>-0.004483</td>\n",
       "      <td>0.001587</td>\n",
       "      <td>0.002726</td>\n",
       "      <td>0.005633</td>\n",
       "      <td>-0.001906</td>\n",
       "      <td>0.000666</td>\n",
       "      <td>-0.000026</td>\n",
       "      <td>0.000155</td>\n",
       "      <td>-0.000702</td>\n",
       "      <td>-0.004556</td>\n",
       "      <td>-0.004664</td>\n",
       "      <td>0.034122</td>\n",
       "      <td>-0.293375</td>\n",
       "    </tr>\n",
       "    <tr>\n",
       "      <th>V15</th>\n",
       "      <td>-0.184392</td>\n",
       "      <td>-0.000602</td>\n",
       "      <td>0.001538</td>\n",
       "      <td>-0.001230</td>\n",
       "      <td>0.000572</td>\n",
       "      <td>-0.001171</td>\n",
       "      <td>-0.000470</td>\n",
       "      <td>-0.001394</td>\n",
       "      <td>0.001044</td>\n",
       "      <td>-0.000283</td>\n",
       "      <td>-0.002293</td>\n",
       "      <td>-0.000872</td>\n",
       "      <td>0.000881</td>\n",
       "      <td>0.000234</td>\n",
       "      <td>0.000866</td>\n",
       "      <td>1.000000</td>\n",
       "      <td>-0.000283</td>\n",
       "      <td>-0.000174</td>\n",
       "      <td>-0.000426</td>\n",
       "      <td>0.000555</td>\n",
       "      <td>-0.000754</td>\n",
       "      <td>-0.000271</td>\n",
       "      <td>-0.001197</td>\n",
       "      <td>0.000969</td>\n",
       "      <td>0.000113</td>\n",
       "      <td>0.000445</td>\n",
       "      <td>-0.002034</td>\n",
       "      <td>-0.000641</td>\n",
       "      <td>0.000858</td>\n",
       "      <td>-0.003265</td>\n",
       "      <td>-0.003300</td>\n",
       "    </tr>\n",
       "    <tr>\n",
       "      <th>V16</th>\n",
       "      <td>0.011286</td>\n",
       "      <td>-0.003345</td>\n",
       "      <td>0.004013</td>\n",
       "      <td>-0.004430</td>\n",
       "      <td>0.003346</td>\n",
       "      <td>-0.002373</td>\n",
       "      <td>0.000122</td>\n",
       "      <td>-0.005944</td>\n",
       "      <td>-0.004376</td>\n",
       "      <td>-0.000086</td>\n",
       "      <td>-0.003715</td>\n",
       "      <td>0.004751</td>\n",
       "      <td>-0.007372</td>\n",
       "      <td>-0.000807</td>\n",
       "      <td>-0.009074</td>\n",
       "      <td>-0.000283</td>\n",
       "      <td>1.000000</td>\n",
       "      <td>-0.009063</td>\n",
       "      <td>-0.005427</td>\n",
       "      <td>0.002432</td>\n",
       "      <td>0.001067</td>\n",
       "      <td>0.004326</td>\n",
       "      <td>-0.000820</td>\n",
       "      <td>0.001209</td>\n",
       "      <td>-0.000482</td>\n",
       "      <td>0.000215</td>\n",
       "      <td>-0.001245</td>\n",
       "      <td>-0.003974</td>\n",
       "      <td>-0.001629</td>\n",
       "      <td>-0.004488</td>\n",
       "      <td>-0.187186</td>\n",
       "    </tr>\n",
       "    <tr>\n",
       "      <th>V17</th>\n",
       "      <td>-0.073819</td>\n",
       "      <td>-0.003491</td>\n",
       "      <td>0.003244</td>\n",
       "      <td>-0.008159</td>\n",
       "      <td>0.003655</td>\n",
       "      <td>-0.004466</td>\n",
       "      <td>-0.001716</td>\n",
       "      <td>-0.008794</td>\n",
       "      <td>-0.005576</td>\n",
       "      <td>-0.002318</td>\n",
       "      <td>-0.007877</td>\n",
       "      <td>0.007353</td>\n",
       "      <td>-0.012856</td>\n",
       "      <td>-0.000170</td>\n",
       "      <td>-0.013551</td>\n",
       "      <td>-0.000174</td>\n",
       "      <td>-0.009063</td>\n",
       "      <td>1.000000</td>\n",
       "      <td>-0.005277</td>\n",
       "      <td>0.000989</td>\n",
       "      <td>0.001518</td>\n",
       "      <td>0.003560</td>\n",
       "      <td>-0.000162</td>\n",
       "      <td>0.000667</td>\n",
       "      <td>0.001006</td>\n",
       "      <td>-0.000685</td>\n",
       "      <td>0.000157</td>\n",
       "      <td>-0.003421</td>\n",
       "      <td>-0.002703</td>\n",
       "      <td>0.007730</td>\n",
       "      <td>-0.313498</td>\n",
       "    </tr>\n",
       "    <tr>\n",
       "      <th>V18</th>\n",
       "      <td>0.090305</td>\n",
       "      <td>-0.003535</td>\n",
       "      <td>0.002477</td>\n",
       "      <td>-0.003495</td>\n",
       "      <td>0.002325</td>\n",
       "      <td>-0.002685</td>\n",
       "      <td>0.000541</td>\n",
       "      <td>-0.004279</td>\n",
       "      <td>-0.001323</td>\n",
       "      <td>-0.000373</td>\n",
       "      <td>-0.002450</td>\n",
       "      <td>0.002095</td>\n",
       "      <td>-0.003464</td>\n",
       "      <td>-0.000155</td>\n",
       "      <td>-0.004483</td>\n",
       "      <td>-0.000426</td>\n",
       "      <td>-0.005427</td>\n",
       "      <td>-0.005277</td>\n",
       "      <td>1.000000</td>\n",
       "      <td>-0.000100</td>\n",
       "      <td>-0.000245</td>\n",
       "      <td>0.001629</td>\n",
       "      <td>-0.000533</td>\n",
       "      <td>0.000240</td>\n",
       "      <td>-0.000710</td>\n",
       "      <td>-0.000559</td>\n",
       "      <td>-0.000596</td>\n",
       "      <td>-0.004231</td>\n",
       "      <td>-0.001256</td>\n",
       "      <td>0.035775</td>\n",
       "      <td>-0.105340</td>\n",
       "    </tr>\n",
       "    <tr>\n",
       "      <th>V19</th>\n",
       "      <td>0.029537</td>\n",
       "      <td>0.000919</td>\n",
       "      <td>-0.000358</td>\n",
       "      <td>-0.000016</td>\n",
       "      <td>-0.000560</td>\n",
       "      <td>0.000436</td>\n",
       "      <td>0.000106</td>\n",
       "      <td>0.000846</td>\n",
       "      <td>-0.000626</td>\n",
       "      <td>0.000247</td>\n",
       "      <td>0.001067</td>\n",
       "      <td>-0.000488</td>\n",
       "      <td>0.000593</td>\n",
       "      <td>0.000086</td>\n",
       "      <td>0.001587</td>\n",
       "      <td>0.000555</td>\n",
       "      <td>0.002432</td>\n",
       "      <td>0.000989</td>\n",
       "      <td>-0.000100</td>\n",
       "      <td>1.000000</td>\n",
       "      <td>-0.000269</td>\n",
       "      <td>0.000244</td>\n",
       "      <td>0.001342</td>\n",
       "      <td>0.000381</td>\n",
       "      <td>-0.000112</td>\n",
       "      <td>-0.000084</td>\n",
       "      <td>0.000856</td>\n",
       "      <td>-0.000544</td>\n",
       "      <td>0.000353</td>\n",
       "      <td>-0.055994</td>\n",
       "      <td>0.033631</td>\n",
       "    </tr>\n",
       "    <tr>\n",
       "      <th>V20</th>\n",
       "      <td>-0.051022</td>\n",
       "      <td>-0.001393</td>\n",
       "      <td>-0.001287</td>\n",
       "      <td>-0.002269</td>\n",
       "      <td>0.000318</td>\n",
       "      <td>-0.001185</td>\n",
       "      <td>-0.000181</td>\n",
       "      <td>-0.001192</td>\n",
       "      <td>0.000271</td>\n",
       "      <td>-0.001838</td>\n",
       "      <td>-0.004448</td>\n",
       "      <td>-0.000989</td>\n",
       "      <td>0.001169</td>\n",
       "      <td>0.000379</td>\n",
       "      <td>0.002726</td>\n",
       "      <td>-0.000754</td>\n",
       "      <td>0.001067</td>\n",
       "      <td>0.001518</td>\n",
       "      <td>-0.000245</td>\n",
       "      <td>-0.000269</td>\n",
       "      <td>1.000000</td>\n",
       "      <td>0.005372</td>\n",
       "      <td>-0.001617</td>\n",
       "      <td>-0.001094</td>\n",
       "      <td>-0.000303</td>\n",
       "      <td>-0.000643</td>\n",
       "      <td>-0.000310</td>\n",
       "      <td>-0.000049</td>\n",
       "      <td>0.002671</td>\n",
       "      <td>0.340729</td>\n",
       "      <td>0.021486</td>\n",
       "    </tr>\n",
       "    <tr>\n",
       "      <th>V21</th>\n",
       "      <td>0.045913</td>\n",
       "      <td>0.002818</td>\n",
       "      <td>-0.004897</td>\n",
       "      <td>0.003500</td>\n",
       "      <td>-0.001034</td>\n",
       "      <td>0.001622</td>\n",
       "      <td>-0.002134</td>\n",
       "      <td>0.009010</td>\n",
       "      <td>0.018892</td>\n",
       "      <td>0.000679</td>\n",
       "      <td>0.003777</td>\n",
       "      <td>-0.002760</td>\n",
       "      <td>0.003285</td>\n",
       "      <td>0.000522</td>\n",
       "      <td>0.005633</td>\n",
       "      <td>-0.000271</td>\n",
       "      <td>0.004326</td>\n",
       "      <td>0.003560</td>\n",
       "      <td>0.001629</td>\n",
       "      <td>0.000244</td>\n",
       "      <td>0.005372</td>\n",
       "      <td>1.000000</td>\n",
       "      <td>0.009645</td>\n",
       "      <td>-0.006391</td>\n",
       "      <td>0.001210</td>\n",
       "      <td>-0.000872</td>\n",
       "      <td>-0.000874</td>\n",
       "      <td>-0.005216</td>\n",
       "      <td>-0.004436</td>\n",
       "      <td>0.108058</td>\n",
       "      <td>0.026357</td>\n",
       "    </tr>\n",
       "    <tr>\n",
       "      <th>V22</th>\n",
       "      <td>0.143727</td>\n",
       "      <td>-0.001436</td>\n",
       "      <td>0.001237</td>\n",
       "      <td>-0.000275</td>\n",
       "      <td>0.000115</td>\n",
       "      <td>-0.000559</td>\n",
       "      <td>0.001104</td>\n",
       "      <td>-0.002280</td>\n",
       "      <td>-0.006156</td>\n",
       "      <td>0.000785</td>\n",
       "      <td>-0.000481</td>\n",
       "      <td>-0.000150</td>\n",
       "      <td>0.000151</td>\n",
       "      <td>0.000016</td>\n",
       "      <td>-0.001906</td>\n",
       "      <td>-0.001197</td>\n",
       "      <td>-0.000820</td>\n",
       "      <td>-0.000162</td>\n",
       "      <td>-0.000533</td>\n",
       "      <td>0.001342</td>\n",
       "      <td>-0.001617</td>\n",
       "      <td>0.009645</td>\n",
       "      <td>1.000000</td>\n",
       "      <td>0.001929</td>\n",
       "      <td>-0.000031</td>\n",
       "      <td>0.000197</td>\n",
       "      <td>-0.001495</td>\n",
       "      <td>0.003037</td>\n",
       "      <td>0.001392</td>\n",
       "      <td>-0.064965</td>\n",
       "      <td>0.004887</td>\n",
       "    </tr>\n",
       "    <tr>\n",
       "      <th>V23</th>\n",
       "      <td>0.051474</td>\n",
       "      <td>-0.001330</td>\n",
       "      <td>-0.003855</td>\n",
       "      <td>0.000449</td>\n",
       "      <td>0.000732</td>\n",
       "      <td>0.001183</td>\n",
       "      <td>-0.000755</td>\n",
       "      <td>0.003303</td>\n",
       "      <td>0.004994</td>\n",
       "      <td>0.000677</td>\n",
       "      <td>0.001917</td>\n",
       "      <td>-0.000037</td>\n",
       "      <td>0.000486</td>\n",
       "      <td>0.000252</td>\n",
       "      <td>0.000666</td>\n",
       "      <td>0.000969</td>\n",
       "      <td>0.001209</td>\n",
       "      <td>0.000667</td>\n",
       "      <td>0.000240</td>\n",
       "      <td>0.000381</td>\n",
       "      <td>-0.001094</td>\n",
       "      <td>-0.006391</td>\n",
       "      <td>0.001929</td>\n",
       "      <td>1.000000</td>\n",
       "      <td>0.000273</td>\n",
       "      <td>-0.000532</td>\n",
       "      <td>-0.000185</td>\n",
       "      <td>-0.002028</td>\n",
       "      <td>-0.003224</td>\n",
       "      <td>-0.112833</td>\n",
       "      <td>-0.006333</td>\n",
       "    </tr>\n",
       "    <tr>\n",
       "      <th>V24</th>\n",
       "      <td>-0.015954</td>\n",
       "      <td>-0.000723</td>\n",
       "      <td>0.000701</td>\n",
       "      <td>-0.000072</td>\n",
       "      <td>-0.000120</td>\n",
       "      <td>0.000198</td>\n",
       "      <td>0.001202</td>\n",
       "      <td>-0.000384</td>\n",
       "      <td>0.000113</td>\n",
       "      <td>-0.000103</td>\n",
       "      <td>0.000154</td>\n",
       "      <td>0.000080</td>\n",
       "      <td>0.000588</td>\n",
       "      <td>-0.000049</td>\n",
       "      <td>-0.000026</td>\n",
       "      <td>0.000113</td>\n",
       "      <td>-0.000482</td>\n",
       "      <td>0.001006</td>\n",
       "      <td>-0.000710</td>\n",
       "      <td>-0.000112</td>\n",
       "      <td>-0.000303</td>\n",
       "      <td>0.001210</td>\n",
       "      <td>-0.000031</td>\n",
       "      <td>0.000273</td>\n",
       "      <td>1.000000</td>\n",
       "      <td>-0.000188</td>\n",
       "      <td>0.000568</td>\n",
       "      <td>-0.000885</td>\n",
       "      <td>0.000322</td>\n",
       "      <td>0.005055</td>\n",
       "      <td>-0.007210</td>\n",
       "    </tr>\n",
       "    <tr>\n",
       "      <th>V25</th>\n",
       "      <td>-0.233262</td>\n",
       "      <td>-0.000222</td>\n",
       "      <td>-0.001569</td>\n",
       "      <td>0.000425</td>\n",
       "      <td>0.000162</td>\n",
       "      <td>0.000069</td>\n",
       "      <td>0.000697</td>\n",
       "      <td>-0.000072</td>\n",
       "      <td>0.000011</td>\n",
       "      <td>-0.000275</td>\n",
       "      <td>-0.000565</td>\n",
       "      <td>0.000047</td>\n",
       "      <td>-0.000181</td>\n",
       "      <td>0.000248</td>\n",
       "      <td>0.000155</td>\n",
       "      <td>0.000445</td>\n",
       "      <td>0.000215</td>\n",
       "      <td>-0.000685</td>\n",
       "      <td>-0.000559</td>\n",
       "      <td>-0.000084</td>\n",
       "      <td>-0.000643</td>\n",
       "      <td>-0.000872</td>\n",
       "      <td>0.000197</td>\n",
       "      <td>-0.000532</td>\n",
       "      <td>-0.000188</td>\n",
       "      <td>1.000000</td>\n",
       "      <td>0.000048</td>\n",
       "      <td>-0.001339</td>\n",
       "      <td>-0.000565</td>\n",
       "      <td>-0.047596</td>\n",
       "      <td>0.003202</td>\n",
       "    </tr>\n",
       "    <tr>\n",
       "      <th>V26</th>\n",
       "      <td>-0.041818</td>\n",
       "      <td>-0.000684</td>\n",
       "      <td>0.000253</td>\n",
       "      <td>-0.000094</td>\n",
       "      <td>0.000777</td>\n",
       "      <td>0.000390</td>\n",
       "      <td>-0.000028</td>\n",
       "      <td>0.000624</td>\n",
       "      <td>-0.001407</td>\n",
       "      <td>0.001253</td>\n",
       "      <td>0.001089</td>\n",
       "      <td>-0.000204</td>\n",
       "      <td>-0.000138</td>\n",
       "      <td>-0.000101</td>\n",
       "      <td>-0.000702</td>\n",
       "      <td>-0.002034</td>\n",
       "      <td>-0.001245</td>\n",
       "      <td>0.000157</td>\n",
       "      <td>-0.000596</td>\n",
       "      <td>0.000856</td>\n",
       "      <td>-0.000310</td>\n",
       "      <td>-0.000874</td>\n",
       "      <td>-0.001495</td>\n",
       "      <td>-0.000185</td>\n",
       "      <td>0.000568</td>\n",
       "      <td>0.000048</td>\n",
       "      <td>1.000000</td>\n",
       "      <td>-0.003294</td>\n",
       "      <td>-0.000999</td>\n",
       "      <td>-0.003425</td>\n",
       "      <td>0.004265</td>\n",
       "    </tr>\n",
       "    <tr>\n",
       "      <th>V27</th>\n",
       "      <td>-0.005171</td>\n",
       "      <td>-0.015706</td>\n",
       "      <td>0.007555</td>\n",
       "      <td>-0.007051</td>\n",
       "      <td>0.001322</td>\n",
       "      <td>-0.005798</td>\n",
       "      <td>0.000289</td>\n",
       "      <td>-0.004537</td>\n",
       "      <td>0.000613</td>\n",
       "      <td>0.008221</td>\n",
       "      <td>0.010769</td>\n",
       "      <td>0.001987</td>\n",
       "      <td>-0.000929</td>\n",
       "      <td>-0.001577</td>\n",
       "      <td>-0.004556</td>\n",
       "      <td>-0.000641</td>\n",
       "      <td>-0.003974</td>\n",
       "      <td>-0.003421</td>\n",
       "      <td>-0.004231</td>\n",
       "      <td>-0.000544</td>\n",
       "      <td>-0.000049</td>\n",
       "      <td>-0.005216</td>\n",
       "      <td>0.003037</td>\n",
       "      <td>-0.002028</td>\n",
       "      <td>-0.000885</td>\n",
       "      <td>-0.001339</td>\n",
       "      <td>-0.003294</td>\n",
       "      <td>1.000000</td>\n",
       "      <td>-0.013950</td>\n",
       "      <td>0.027922</td>\n",
       "      <td>0.021892</td>\n",
       "    </tr>\n",
       "    <tr>\n",
       "      <th>V28</th>\n",
       "      <td>-0.009305</td>\n",
       "      <td>-0.004861</td>\n",
       "      <td>0.001611</td>\n",
       "      <td>-0.000134</td>\n",
       "      <td>0.000231</td>\n",
       "      <td>-0.000820</td>\n",
       "      <td>0.000925</td>\n",
       "      <td>0.001657</td>\n",
       "      <td>-0.000099</td>\n",
       "      <td>0.005591</td>\n",
       "      <td>0.009159</td>\n",
       "      <td>0.002562</td>\n",
       "      <td>-0.000613</td>\n",
       "      <td>-0.000604</td>\n",
       "      <td>-0.004664</td>\n",
       "      <td>0.000858</td>\n",
       "      <td>-0.001629</td>\n",
       "      <td>-0.002703</td>\n",
       "      <td>-0.001256</td>\n",
       "      <td>0.000353</td>\n",
       "      <td>0.002671</td>\n",
       "      <td>-0.004436</td>\n",
       "      <td>0.001392</td>\n",
       "      <td>-0.003224</td>\n",
       "      <td>0.000322</td>\n",
       "      <td>-0.000565</td>\n",
       "      <td>-0.000999</td>\n",
       "      <td>-0.013950</td>\n",
       "      <td>1.000000</td>\n",
       "      <td>0.010143</td>\n",
       "      <td>0.009682</td>\n",
       "    </tr>\n",
       "    <tr>\n",
       "      <th>Amount</th>\n",
       "      <td>-0.010559</td>\n",
       "      <td>-0.230105</td>\n",
       "      <td>-0.533428</td>\n",
       "      <td>-0.212410</td>\n",
       "      <td>0.099514</td>\n",
       "      <td>-0.387685</td>\n",
       "      <td>0.216389</td>\n",
       "      <td>0.400408</td>\n",
       "      <td>-0.104662</td>\n",
       "      <td>-0.044123</td>\n",
       "      <td>-0.102255</td>\n",
       "      <td>-0.000015</td>\n",
       "      <td>-0.009254</td>\n",
       "      <td>0.005209</td>\n",
       "      <td>0.034122</td>\n",
       "      <td>-0.003265</td>\n",
       "      <td>-0.004488</td>\n",
       "      <td>0.007730</td>\n",
       "      <td>0.035775</td>\n",
       "      <td>-0.055994</td>\n",
       "      <td>0.340729</td>\n",
       "      <td>0.108058</td>\n",
       "      <td>-0.064965</td>\n",
       "      <td>-0.112833</td>\n",
       "      <td>0.005055</td>\n",
       "      <td>-0.047596</td>\n",
       "      <td>-0.003425</td>\n",
       "      <td>0.027922</td>\n",
       "      <td>0.010143</td>\n",
       "      <td>1.000000</td>\n",
       "      <td>0.005777</td>\n",
       "    </tr>\n",
       "    <tr>\n",
       "      <th>Class</th>\n",
       "      <td>-0.012359</td>\n",
       "      <td>-0.094486</td>\n",
       "      <td>0.084624</td>\n",
       "      <td>-0.182322</td>\n",
       "      <td>0.129326</td>\n",
       "      <td>-0.087812</td>\n",
       "      <td>-0.043915</td>\n",
       "      <td>-0.172347</td>\n",
       "      <td>0.033068</td>\n",
       "      <td>-0.094021</td>\n",
       "      <td>-0.206971</td>\n",
       "      <td>0.149067</td>\n",
       "      <td>-0.250711</td>\n",
       "      <td>-0.003897</td>\n",
       "      <td>-0.293375</td>\n",
       "      <td>-0.003300</td>\n",
       "      <td>-0.187186</td>\n",
       "      <td>-0.313498</td>\n",
       "      <td>-0.105340</td>\n",
       "      <td>0.033631</td>\n",
       "      <td>0.021486</td>\n",
       "      <td>0.026357</td>\n",
       "      <td>0.004887</td>\n",
       "      <td>-0.006333</td>\n",
       "      <td>-0.007210</td>\n",
       "      <td>0.003202</td>\n",
       "      <td>0.004265</td>\n",
       "      <td>0.021892</td>\n",
       "      <td>0.009682</td>\n",
       "      <td>0.005777</td>\n",
       "      <td>1.000000</td>\n",
       "    </tr>\n",
       "  </tbody>\n",
       "</table>\n",
       "</div>"
      ],
      "text/plain": [
       "            Time        V1        V2        V3        V4        V5        V6  \\\n",
       "Time    1.000000  0.117927 -0.010556 -0.422054 -0.105845  0.173223 -0.063279   \n",
       "V1      0.117927  1.000000  0.006875 -0.008112  0.002257 -0.007036  0.000413   \n",
       "V2     -0.010556  0.006875  1.000000  0.005278 -0.001495  0.005210 -0.000594   \n",
       "V3     -0.422054 -0.008112  0.005278  1.000000  0.002829 -0.006879 -0.001511   \n",
       "V4     -0.105845  0.002257 -0.001495  0.002829  1.000000  0.001744 -0.000880   \n",
       "V5      0.173223 -0.007036  0.005210 -0.006879  0.001744  1.000000 -0.000938   \n",
       "V6     -0.063279  0.000413 -0.000594 -0.001511 -0.000880 -0.000938  1.000000   \n",
       "V7      0.085335 -0.009173  0.007425 -0.011721  0.004657 -0.008709  0.000436   \n",
       "V8     -0.038203 -0.001168  0.002899 -0.001815  0.000890  0.001430  0.003036   \n",
       "V9     -0.007861  0.001828 -0.000274 -0.003579  0.002154 -0.001213 -0.000734   \n",
       "V10     0.031068  0.000815  0.000620 -0.009632  0.002753 -0.006050 -0.002180   \n",
       "V11    -0.248536  0.001028 -0.000633  0.002339 -0.001223  0.000411 -0.000211   \n",
       "V12     0.125500 -0.001524  0.002266 -0.005900  0.003366 -0.002342 -0.001185   \n",
       "V13    -0.065958 -0.000568  0.000680  0.000113  0.000177  0.000019  0.000397   \n",
       "V14    -0.100316 -0.002663  0.002711 -0.003027  0.002801 -0.001000  0.000184   \n",
       "V15    -0.184392 -0.000602  0.001538 -0.001230  0.000572 -0.001171 -0.000470   \n",
       "V16     0.011286 -0.003345  0.004013 -0.004430  0.003346 -0.002373  0.000122   \n",
       "V17    -0.073819 -0.003491  0.003244 -0.008159  0.003655 -0.004466 -0.001716   \n",
       "V18     0.090305 -0.003535  0.002477 -0.003495  0.002325 -0.002685  0.000541   \n",
       "V19     0.029537  0.000919 -0.000358 -0.000016 -0.000560  0.000436  0.000106   \n",
       "V20    -0.051022 -0.001393 -0.001287 -0.002269  0.000318 -0.001185 -0.000181   \n",
       "V21     0.045913  0.002818 -0.004897  0.003500 -0.001034  0.001622 -0.002134   \n",
       "V22     0.143727 -0.001436  0.001237 -0.000275  0.000115 -0.000559  0.001104   \n",
       "V23     0.051474 -0.001330 -0.003855  0.000449  0.000732  0.001183 -0.000755   \n",
       "V24    -0.015954 -0.000723  0.000701 -0.000072 -0.000120  0.000198  0.001202   \n",
       "V25    -0.233262 -0.000222 -0.001569  0.000425  0.000162  0.000069  0.000697   \n",
       "V26    -0.041818 -0.000684  0.000253 -0.000094  0.000777  0.000390 -0.000028   \n",
       "V27    -0.005171 -0.015706  0.007555 -0.007051  0.001322 -0.005798  0.000289   \n",
       "V28    -0.009305 -0.004861  0.001611 -0.000134  0.000231 -0.000820  0.000925   \n",
       "Amount -0.010559 -0.230105 -0.533428 -0.212410  0.099514 -0.387685  0.216389   \n",
       "Class  -0.012359 -0.094486  0.084624 -0.182322  0.129326 -0.087812 -0.043915   \n",
       "\n",
       "              V7        V8        V9       V10       V11       V12       V13  \\\n",
       "Time    0.085335 -0.038203 -0.007861  0.031068 -0.248536  0.125500 -0.065958   \n",
       "V1     -0.009173 -0.001168  0.001828  0.000815  0.001028 -0.001524 -0.000568   \n",
       "V2      0.007425  0.002899 -0.000274  0.000620 -0.000633  0.002266  0.000680   \n",
       "V3     -0.011721 -0.001815 -0.003579 -0.009632  0.002339 -0.005900  0.000113   \n",
       "V4      0.004657  0.000890  0.002154  0.002753 -0.001223  0.003366  0.000177   \n",
       "V5     -0.008709  0.001430 -0.001213 -0.006050  0.000411 -0.002342  0.000019   \n",
       "V6      0.000436  0.003036 -0.000734 -0.002180 -0.000211 -0.001185  0.000397   \n",
       "V7      1.000000 -0.006419 -0.004921 -0.013617  0.002454 -0.006153 -0.000170   \n",
       "V8     -0.006419  1.000000  0.001038  0.000481  0.004688 -0.004414 -0.001381   \n",
       "V9     -0.004921  0.001038  1.000000 -0.012613 -0.000217 -0.002385  0.000745   \n",
       "V10    -0.013617  0.000481 -0.012613  1.000000  0.000844 -0.006942  0.001379   \n",
       "V11     0.002454  0.004688 -0.000217  0.000844  1.000000  0.005569  0.000455   \n",
       "V12    -0.006153 -0.004414 -0.002385 -0.006942  0.005569  1.000000 -0.000550   \n",
       "V13    -0.000170 -0.001381  0.000745  0.001379  0.000455 -0.000550  1.000000   \n",
       "V14    -0.003816 -0.008387  0.001981  0.000168  0.007713 -0.010007 -0.001133   \n",
       "V15    -0.001394  0.001044 -0.000283 -0.002293 -0.000872  0.000881  0.000234   \n",
       "V16    -0.005944 -0.004376 -0.000086 -0.003715  0.004751 -0.007372 -0.000807   \n",
       "V17    -0.008794 -0.005576 -0.002318 -0.007877  0.007353 -0.012856 -0.000170   \n",
       "V18    -0.004279 -0.001323 -0.000373 -0.002450  0.002095 -0.003464 -0.000155   \n",
       "V19     0.000846 -0.000626  0.000247  0.001067 -0.000488  0.000593  0.000086   \n",
       "V20    -0.001192  0.000271 -0.001838 -0.004448 -0.000989  0.001169  0.000379   \n",
       "V21     0.009010  0.018892  0.000679  0.003777 -0.002760  0.003285  0.000522   \n",
       "V22    -0.002280 -0.006156  0.000785 -0.000481 -0.000150  0.000151  0.000016   \n",
       "V23     0.003303  0.004994  0.000677  0.001917 -0.000037  0.000486  0.000252   \n",
       "V24    -0.000384  0.000113 -0.000103  0.000154  0.000080  0.000588 -0.000049   \n",
       "V25    -0.000072  0.000011 -0.000275 -0.000565  0.000047 -0.000181  0.000248   \n",
       "V26     0.000624 -0.001407  0.001253  0.001089 -0.000204 -0.000138 -0.000101   \n",
       "V27    -0.004537  0.000613  0.008221  0.010769  0.001987 -0.000929 -0.001577   \n",
       "V28     0.001657 -0.000099  0.005591  0.009159  0.002562 -0.000613 -0.000604   \n",
       "Amount  0.400408 -0.104662 -0.044123 -0.102255 -0.000015 -0.009254  0.005209   \n",
       "Class  -0.172347  0.033068 -0.094021 -0.206971  0.149067 -0.250711 -0.003897   \n",
       "\n",
       "             V14       V15       V16       V17       V18       V19       V20  \\\n",
       "Time   -0.100316 -0.184392  0.011286 -0.073819  0.090305  0.029537 -0.051022   \n",
       "V1     -0.002663 -0.000602 -0.003345 -0.003491 -0.003535  0.000919 -0.001393   \n",
       "V2      0.002711  0.001538  0.004013  0.003244  0.002477 -0.000358 -0.001287   \n",
       "V3     -0.003027 -0.001230 -0.004430 -0.008159 -0.003495 -0.000016 -0.002269   \n",
       "V4      0.002801  0.000572  0.003346  0.003655  0.002325 -0.000560  0.000318   \n",
       "V5     -0.001000 -0.001171 -0.002373 -0.004466 -0.002685  0.000436 -0.001185   \n",
       "V6      0.000184 -0.000470  0.000122 -0.001716  0.000541  0.000106 -0.000181   \n",
       "V7     -0.003816 -0.001394 -0.005944 -0.008794 -0.004279  0.000846 -0.001192   \n",
       "V8     -0.008387  0.001044 -0.004376 -0.005576 -0.001323 -0.000626  0.000271   \n",
       "V9      0.001981 -0.000283 -0.000086 -0.002318 -0.000373  0.000247 -0.001838   \n",
       "V10     0.000168 -0.002293 -0.003715 -0.007877 -0.002450  0.001067 -0.004448   \n",
       "V11     0.007713 -0.000872  0.004751  0.007353  0.002095 -0.000488 -0.000989   \n",
       "V12    -0.010007  0.000881 -0.007372 -0.012856 -0.003464  0.000593  0.001169   \n",
       "V13    -0.001133  0.000234 -0.000807 -0.000170 -0.000155  0.000086  0.000379   \n",
       "V14     1.000000  0.000866 -0.009074 -0.013551 -0.004483  0.001587  0.002726   \n",
       "V15     0.000866  1.000000 -0.000283 -0.000174 -0.000426  0.000555 -0.000754   \n",
       "V16    -0.009074 -0.000283  1.000000 -0.009063 -0.005427  0.002432  0.001067   \n",
       "V17    -0.013551 -0.000174 -0.009063  1.000000 -0.005277  0.000989  0.001518   \n",
       "V18    -0.004483 -0.000426 -0.005427 -0.005277  1.000000 -0.000100 -0.000245   \n",
       "V19     0.001587  0.000555  0.002432  0.000989 -0.000100  1.000000 -0.000269   \n",
       "V20     0.002726 -0.000754  0.001067  0.001518 -0.000245 -0.000269  1.000000   \n",
       "V21     0.005633 -0.000271  0.004326  0.003560  0.001629  0.000244  0.005372   \n",
       "V22    -0.001906 -0.001197 -0.000820 -0.000162 -0.000533  0.001342 -0.001617   \n",
       "V23     0.000666  0.000969  0.001209  0.000667  0.000240  0.000381 -0.001094   \n",
       "V24    -0.000026  0.000113 -0.000482  0.001006 -0.000710 -0.000112 -0.000303   \n",
       "V25     0.000155  0.000445  0.000215 -0.000685 -0.000559 -0.000084 -0.000643   \n",
       "V26    -0.000702 -0.002034 -0.001245  0.000157 -0.000596  0.000856 -0.000310   \n",
       "V27    -0.004556 -0.000641 -0.003974 -0.003421 -0.004231 -0.000544 -0.000049   \n",
       "V28    -0.004664  0.000858 -0.001629 -0.002703 -0.001256  0.000353  0.002671   \n",
       "Amount  0.034122 -0.003265 -0.004488  0.007730  0.035775 -0.055994  0.340729   \n",
       "Class  -0.293375 -0.003300 -0.187186 -0.313498 -0.105340  0.033631  0.021486   \n",
       "\n",
       "             V21       V22       V23       V24       V25       V26       V27  \\\n",
       "Time    0.045913  0.143727  0.051474 -0.015954 -0.233262 -0.041818 -0.005171   \n",
       "V1      0.002818 -0.001436 -0.001330 -0.000723 -0.000222 -0.000684 -0.015706   \n",
       "V2     -0.004897  0.001237 -0.003855  0.000701 -0.001569  0.000253  0.007555   \n",
       "V3      0.003500 -0.000275  0.000449 -0.000072  0.000425 -0.000094 -0.007051   \n",
       "V4     -0.001034  0.000115  0.000732 -0.000120  0.000162  0.000777  0.001322   \n",
       "V5      0.001622 -0.000559  0.001183  0.000198  0.000069  0.000390 -0.005798   \n",
       "V6     -0.002134  0.001104 -0.000755  0.001202  0.000697 -0.000028  0.000289   \n",
       "V7      0.009010 -0.002280  0.003303 -0.000384 -0.000072  0.000624 -0.004537   \n",
       "V8      0.018892 -0.006156  0.004994  0.000113  0.000011 -0.001407  0.000613   \n",
       "V9      0.000679  0.000785  0.000677 -0.000103 -0.000275  0.001253  0.008221   \n",
       "V10     0.003777 -0.000481  0.001917  0.000154 -0.000565  0.001089  0.010769   \n",
       "V11    -0.002760 -0.000150 -0.000037  0.000080  0.000047 -0.000204  0.001987   \n",
       "V12     0.003285  0.000151  0.000486  0.000588 -0.000181 -0.000138 -0.000929   \n",
       "V13     0.000522  0.000016  0.000252 -0.000049  0.000248 -0.000101 -0.001577   \n",
       "V14     0.005633 -0.001906  0.000666 -0.000026  0.000155 -0.000702 -0.004556   \n",
       "V15    -0.000271 -0.001197  0.000969  0.000113  0.000445 -0.002034 -0.000641   \n",
       "V16     0.004326 -0.000820  0.001209 -0.000482  0.000215 -0.001245 -0.003974   \n",
       "V17     0.003560 -0.000162  0.000667  0.001006 -0.000685  0.000157 -0.003421   \n",
       "V18     0.001629 -0.000533  0.000240 -0.000710 -0.000559 -0.000596 -0.004231   \n",
       "V19     0.000244  0.001342  0.000381 -0.000112 -0.000084  0.000856 -0.000544   \n",
       "V20     0.005372 -0.001617 -0.001094 -0.000303 -0.000643 -0.000310 -0.000049   \n",
       "V21     1.000000  0.009645 -0.006391  0.001210 -0.000872 -0.000874 -0.005216   \n",
       "V22     0.009645  1.000000  0.001929 -0.000031  0.000197 -0.001495  0.003037   \n",
       "V23    -0.006391  0.001929  1.000000  0.000273 -0.000532 -0.000185 -0.002028   \n",
       "V24     0.001210 -0.000031  0.000273  1.000000 -0.000188  0.000568 -0.000885   \n",
       "V25    -0.000872  0.000197 -0.000532 -0.000188  1.000000  0.000048 -0.001339   \n",
       "V26    -0.000874 -0.001495 -0.000185  0.000568  0.000048  1.000000 -0.003294   \n",
       "V27    -0.005216  0.003037 -0.002028 -0.000885 -0.001339 -0.003294  1.000000   \n",
       "V28    -0.004436  0.001392 -0.003224  0.000322 -0.000565 -0.000999 -0.013950   \n",
       "Amount  0.108058 -0.064965 -0.112833  0.005055 -0.047596 -0.003425  0.027922   \n",
       "Class   0.026357  0.004887 -0.006333 -0.007210  0.003202  0.004265  0.021892   \n",
       "\n",
       "             V28    Amount     Class  \n",
       "Time   -0.009305 -0.010559 -0.012359  \n",
       "V1     -0.004861 -0.230105 -0.094486  \n",
       "V2      0.001611 -0.533428  0.084624  \n",
       "V3     -0.000134 -0.212410 -0.182322  \n",
       "V4      0.000231  0.099514  0.129326  \n",
       "V5     -0.000820 -0.387685 -0.087812  \n",
       "V6      0.000925  0.216389 -0.043915  \n",
       "V7      0.001657  0.400408 -0.172347  \n",
       "V8     -0.000099 -0.104662  0.033068  \n",
       "V9      0.005591 -0.044123 -0.094021  \n",
       "V10     0.009159 -0.102255 -0.206971  \n",
       "V11     0.002562 -0.000015  0.149067  \n",
       "V12    -0.000613 -0.009254 -0.250711  \n",
       "V13    -0.000604  0.005209 -0.003897  \n",
       "V14    -0.004664  0.034122 -0.293375  \n",
       "V15     0.000858 -0.003265 -0.003300  \n",
       "V16    -0.001629 -0.004488 -0.187186  \n",
       "V17    -0.002703  0.007730 -0.313498  \n",
       "V18    -0.001256  0.035775 -0.105340  \n",
       "V19     0.000353 -0.055994  0.033631  \n",
       "V20     0.002671  0.340729  0.021486  \n",
       "V21    -0.004436  0.108058  0.026357  \n",
       "V22     0.001392 -0.064965  0.004887  \n",
       "V23    -0.003224 -0.112833 -0.006333  \n",
       "V24     0.000322  0.005055 -0.007210  \n",
       "V25    -0.000565 -0.047596  0.003202  \n",
       "V26    -0.000999 -0.003425  0.004265  \n",
       "V27    -0.013950  0.027922  0.021892  \n",
       "V28     1.000000  0.010143  0.009682  \n",
       "Amount  0.010143  1.000000  0.005777  \n",
       "Class   0.009682  0.005777  1.000000  "
      ]
     },
     "execution_count": 14,
     "metadata": {},
     "output_type": "execute_result"
    }
   ],
   "source": [
    "data.corr()"
   ]
  },
  {
   "cell_type": "code",
   "execution_count": 15,
   "metadata": {},
   "outputs": [
    {
     "data": {
      "text/plain": [
       "<Figure size 1224x648 with 0 Axes>"
      ]
     },
     "execution_count": 15,
     "metadata": {},
     "output_type": "execute_result"
    },
    {
     "data": {
      "text/plain": [
       "<AxesSubplot:>"
      ]
     },
     "execution_count": 15,
     "metadata": {},
     "output_type": "execute_result"
    },
    {
     "data": {
      "image/png": "[encoded data removed]",
      "text/plain": [
       "<Figure size 1224x648 with 2 Axes>"
      ]
     },
     "metadata": {
      "needs_background": "light"
     },
     "output_type": "display_data"
    }
   ],
   "source": [
    "plt.figure(figsize=(17,9))\n",
    "sns.heatmap(data.corr(), annot=True)\n",
    "sns.set(font_scale=0.7)"
   ]
  },
  {
   "cell_type": "markdown",
   "metadata": {},
   "source": [
    "## Exploratory Data Analysis"
   ]
  },
  {
   "cell_type": "code",
   "execution_count": 16,
   "metadata": {},
   "outputs": [
    {
     "data": {
      "text/plain": [
       "0    99.83329\n",
       "1     0.16671\n",
       "Name: Class, dtype: float64"
      ]
     },
     "execution_count": 16,
     "metadata": {},
     "output_type": "execute_result"
    }
   ],
   "source": [
    "data['Class'].value_counts(normalize=True)*100\n",
    "\n",
    "# 99.83% observation belongs to class 0. It's a imbalaced prblm"
   ]
  },
  {
   "cell_type": "code",
   "execution_count": 18,
   "metadata": {},
   "outputs": [
    {
     "data": {
      "text/plain": [
       "<AxesSubplot:xlabel='Class', ylabel='V2'>"
      ]
     },
     "execution_count": 18,
     "metadata": {},
     "output_type": "execute_result"
    },
    {
     "data": {
      "text/plain": [
       "<AxesSubplot:xlabel='Class', ylabel='V4'>"
      ]
     },
     "execution_count": 18,
     "metadata": {},
     "output_type": "execute_result"
    },
    {
     "data": {
      "text/plain": [
       "<AxesSubplot:xlabel='Class', ylabel='V11'>"
      ]
     },
     "execution_count": 18,
     "metadata": {},
     "output_type": "execute_result"
    },
    {
     "data": {
      "text/plain": [
       "<AxesSubplot:xlabel='Class', ylabel='V19'>"
      ]
     },
     "execution_count": 18,
     "metadata": {},
     "output_type": "execute_result"
    },
    {
     "data": {
      "image/png": "[encoded data removed]",
      "text/plain": [
       "<Figure size 1224x648 with 4 Axes>"
      ]
     },
     "metadata": {},
     "output_type": "display_data"
    }
   ],
   "source": [
    "fig, axes=plt.subplots(ncols=2, nrows=2, figsize=(17,9))\n",
    "sns.set(font_scale=1.5)\n",
    "\n",
    "sns.boxplot(x='Class',y='V2',data=data,ax=axes[0,0])\n",
    "sns.boxplot(x='Class',y='V4',data=data,ax=axes[0,1])\n",
    "sns.boxplot(x='Class',y='V11',data=data,ax=axes[1,0])\n",
    "sns.boxplot(x='Class',y='V19',data=data,ax=axes[1,1])\n",
    "\n",
    "# Value of V2, V4, V11 and V19 is more for fraud transactions."
   ]
  },
  {
   "cell_type": "code",
   "execution_count": 19,
   "metadata": {},
   "outputs": [
    {
     "data": {
      "text/plain": [
       "<AxesSubplot:xlabel='Class', ylabel='V10'>"
      ]
     },
     "execution_count": 19,
     "metadata": {},
     "output_type": "execute_result"
    },
    {
     "data": {
      "text/plain": [
       "<AxesSubplot:xlabel='Class', ylabel='V12'>"
      ]
     },
     "execution_count": 19,
     "metadata": {},
     "output_type": "execute_result"
    },
    {
     "data": {
      "text/plain": [
       "<AxesSubplot:xlabel='Class', ylabel='V14'>"
      ]
     },
     "execution_count": 19,
     "metadata": {},
     "output_type": "execute_result"
    },
    {
     "data": {
      "text/plain": [
       "<AxesSubplot:xlabel='Class', ylabel='V17'>"
      ]
     },
     "execution_count": 19,
     "metadata": {},
     "output_type": "execute_result"
    },
    {
     "data": {
      "image/png": "[encoded data removed]",
      "text/plain": [
       "<Figure size 1224x648 with 4 Axes>"
      ]
     },
     "metadata": {},
     "output_type": "display_data"
    }
   ],
   "source": [
    "fig, axes = plt.subplots(ncols=2, nrows=2, figsize=(17,9))\n",
    "sns.set(font_scale=1.5)\n",
    "\n",
    "sns.boxplot(x='Class', y='V10', data=data, ax=axes[0,0])\n",
    "sns.boxplot(x='Class', y='V12', data=data, ax=axes[0,1])\n",
    "sns.boxplot(x='Class', y='V14', data=data,  ax=axes[1,0])\n",
    "sns.boxplot(x='Class', y='V17', data=data, ax=axes[1,1])\n",
    "\n",
    "# Value of V10, V12, V14 and V17 is more for legitimate transactions"
   ]
  },
  {
   "cell_type": "code",
   "execution_count": 20,
   "metadata": {},
   "outputs": [
    {
     "data": {
      "text/plain": [
       "count    283726.000000\n",
       "mean         88.472687\n",
       "std         250.399437\n",
       "min           0.000000\n",
       "25%           5.600000\n",
       "50%          22.000000\n",
       "75%          77.510000\n",
       "max       25691.160000\n",
       "Name: Amount, dtype: float64"
      ]
     },
     "execution_count": 20,
     "metadata": {},
     "output_type": "execute_result"
    }
   ],
   "source": [
    "data['Amount'].describe()\n",
    "# Amount is highly left skewed. Using log for Amount."
   ]
  },
  {
   "cell_type": "code",
   "execution_count": 21,
   "metadata": {},
   "outputs": [
    {
     "data": {
      "text/plain": [
       "<Figure size 1224x648 with 0 Axes>"
      ]
     },
     "execution_count": 21,
     "metadata": {},
     "output_type": "execute_result"
    },
    {
     "data": {
      "text/plain": [
       "<AxesSubplot:xlabel='Class', ylabel='Amount'>"
      ]
     },
     "execution_count": 21,
     "metadata": {},
     "output_type": "execute_result"
    },
    {
     "data": {
      "text/plain": [
       "Text(0, 0.5, 'Amount (in log)')"
      ]
     },
     "execution_count": 21,
     "metadata": {},
     "output_type": "execute_result"
    },
    {
     "data": {
      "image/png": "[encoded data removed]",
      "text/plain": [
       "<Figure size 1224x648 with 1 Axes>"
      ]
     },
     "metadata": {},
     "output_type": "display_data"
    }
   ],
   "source": [
    "amount_log = np.log(data['Amount'] + 0.0001)\n",
    "\n",
    "plt.figure(figsize=(17,9))\n",
    "sns.boxplot(x=data['Class'],y=amount_log)\n",
    "plt.ylabel('Amount (in log)')\n",
    "\n",
    "# Transaction amount for fraud cases is lesser than the legitimate transaction cases mostly."
   ]
  },
  {
   "cell_type": "markdown",
   "metadata": {},
   "source": [
    "# Prediction using Random Forest"
   ]
  },
  {
   "cell_type": "code",
   "execution_count": 22,
   "metadata": {},
   "outputs": [],
   "source": [
    "from sklearn.ensemble import RandomForestClassifier"
   ]
  },
  {
   "cell_type": "code",
   "execution_count": 23,
   "metadata": {},
   "outputs": [
    {
     "data": {
      "text/plain": [
       "RandomForestClassifier(n_jobs=-1)"
      ]
     },
     "execution_count": 23,
     "metadata": {},
     "output_type": "execute_result"
    }
   ],
   "source": [
    "# creating a RF model with default Parameters\n",
    "rdf = RandomForestClassifier(n_jobs=-1) \n",
    "\n",
    "# fitting the model on train\n",
    "rdf.fit(X_train,Y_train)"
   ]
  },
  {
   "cell_type": "markdown",
   "metadata": {},
   "source": [
    "## On train"
   ]
  },
  {
   "cell_type": "code",
   "execution_count": 24,
   "metadata": {},
   "outputs": [
    {
     "data": {
      "text/plain": [
       "array([0, 0, 0, ..., 0, 0, 0], dtype=int64)"
      ]
     },
     "execution_count": 24,
     "metadata": {},
     "output_type": "execute_result"
    }
   ],
   "source": [
    "rdf_prd_trn = rdf.predict(X_train)\n",
    "rdf_prd_trn"
   ]
  },
  {
   "cell_type": "code",
   "execution_count": 25,
   "metadata": {},
   "outputs": [
    {
     "data": {
      "text/html": [
       "<div>\n",
       "<style scoped>\n",
       "    .dataframe tbody tr th:only-of-type {\n",
       "        vertical-align: middle;\n",
       "    }\n",
       "\n",
       "    .dataframe tbody tr th {\n",
       "        vertical-align: top;\n",
       "    }\n",
       "\n",
       "    .dataframe thead th {\n",
       "        text-align: right;\n",
       "    }\n",
       "</style>\n",
       "<table border=\"1\" class=\"dataframe\">\n",
       "  <thead>\n",
       "    <tr style=\"text-align: right;\">\n",
       "      <th></th>\n",
       "      <th>Legitimate Transactions</th>\n",
       "      <th>Fraud Transactions</th>\n",
       "    </tr>\n",
       "  </thead>\n",
       "  <tbody>\n",
       "    <tr>\n",
       "      <th>Legitimate Transactions</th>\n",
       "      <td>226592</td>\n",
       "      <td>0</td>\n",
       "    </tr>\n",
       "    <tr>\n",
       "      <th>Fraud Transactions</th>\n",
       "      <td>0</td>\n",
       "      <td>388</td>\n",
       "    </tr>\n",
       "  </tbody>\n",
       "</table>\n",
       "</div>"
      ],
      "text/plain": [
       "                         Legitimate Transactions  Fraud Transactions\n",
       "Legitimate Transactions                   226592                   0\n",
       "Fraud Transactions                             0                 388"
      ]
     },
     "execution_count": 25,
     "metadata": {},
     "output_type": "execute_result"
    }
   ],
   "source": [
    "from sklearn.metrics import confusion_matrix\n",
    "\n",
    "labels = ['Legitimate Transactions','Fraud Transactions']\n",
    "pd.DataFrame(confusion_matrix(rdf_prd_trn,Y_train), index=labels,columns=labels)"
   ]
  },
  {
   "cell_type": "code",
   "execution_count": 26,
   "metadata": {},
   "outputs": [
    {
     "name": "stdout",
     "output_type": "stream",
     "text": [
      "Accuracy of Random forest on train : 1.0\n"
     ]
    }
   ],
   "source": [
    "from sklearn.metrics import accuracy_score\n",
    "\n",
    "print('Accuracy of Random forest on train :', accuracy_score(Y_train,rdf_prd_trn))"
   ]
  },
  {
   "cell_type": "markdown",
   "metadata": {},
   "source": [
    "## On test"
   ]
  },
  {
   "cell_type": "code",
   "execution_count": 27,
   "metadata": {},
   "outputs": [
    {
     "data": {
      "text/plain": [
       "array([0, 0, 0, ..., 0, 0, 0], dtype=int64)"
      ]
     },
     "execution_count": 27,
     "metadata": {},
     "output_type": "execute_result"
    }
   ],
   "source": [
    "rdf_prd_tst = rdf.predict(X_test)\n",
    "rdf_prd_tst"
   ]
  },
  {
   "cell_type": "code",
   "execution_count": 28,
   "metadata": {},
   "outputs": [
    {
     "data": {
      "text/html": [
       "<div>\n",
       "<style scoped>\n",
       "    .dataframe tbody tr th:only-of-type {\n",
       "        vertical-align: middle;\n",
       "    }\n",
       "\n",
       "    .dataframe tbody tr th {\n",
       "        vertical-align: top;\n",
       "    }\n",
       "\n",
       "    .dataframe thead th {\n",
       "        text-align: right;\n",
       "    }\n",
       "</style>\n",
       "<table border=\"1\" class=\"dataframe\">\n",
       "  <thead>\n",
       "    <tr style=\"text-align: right;\">\n",
       "      <th></th>\n",
       "      <th>Legitimate Transactions</th>\n",
       "      <th>Fraud Transactions</th>\n",
       "    </tr>\n",
       "  </thead>\n",
       "  <tbody>\n",
       "    <tr>\n",
       "      <th>Legitimate Transactions</th>\n",
       "      <td>56657</td>\n",
       "      <td>4</td>\n",
       "    </tr>\n",
       "    <tr>\n",
       "      <th>Fraud Transactions</th>\n",
       "      <td>25</td>\n",
       "      <td>60</td>\n",
       "    </tr>\n",
       "  </tbody>\n",
       "</table>\n",
       "</div>"
      ],
      "text/plain": [
       "                         Legitimate Transactions  Fraud Transactions\n",
       "Legitimate Transactions                    56657                   4\n",
       "Fraud Transactions                            25                  60"
      ]
     },
     "execution_count": 28,
     "metadata": {},
     "output_type": "execute_result"
    }
   ],
   "source": [
    "pd.DataFrame(confusion_matrix(Y_test,rdf_prd_tst),index=labels,columns=labels)"
   ]
  },
  {
   "cell_type": "code",
   "execution_count": 29,
   "metadata": {},
   "outputs": [
    {
     "name": "stdout",
     "output_type": "stream",
     "text": [
      "Accuracy of Random forest on test : 0.9994889507630493\n"
     ]
    }
   ],
   "source": [
    "print('Accuracy of Random forest on test :', accuracy_score(Y_test,rdf_prd_tst))"
   ]
  },
  {
   "cell_type": "code",
   "execution_count": 30,
   "metadata": {},
   "outputs": [
    {
     "name": "stdout",
     "output_type": "stream",
     "text": [
      "              precision    recall  f1-score   support\n",
      "\n",
      "           0       1.00      1.00      1.00     56682\n",
      "           1       0.71      0.94      0.81        64\n",
      "\n",
      "    accuracy                           1.00     56746\n",
      "   macro avg       0.85      0.97      0.90     56746\n",
      "weighted avg       1.00      1.00      1.00     56746\n",
      "\n"
     ]
    }
   ],
   "source": [
    "from sklearn.metrics import classification_report\n",
    "\n",
    "print(classification_report(rdf_prd_tst,Y_test))"
   ]
  },
  {
   "cell_type": "markdown",
   "metadata": {},
   "source": [
    "## ROC for Random Forest (On Significant features)"
   ]
  },
  {
   "cell_type": "code",
   "execution_count": 31,
   "metadata": {},
   "outputs": [],
   "source": [
    "from sklearn.metrics import roc_auc_score,roc_curve"
   ]
  },
  {
   "cell_type": "code",
   "execution_count": 32,
   "metadata": {},
   "outputs": [],
   "source": [
    "rdf_proba = rdf.predict_proba(X_test)[:,1]"
   ]
  },
  {
   "cell_type": "code",
   "execution_count": 33,
   "metadata": {},
   "outputs": [
    {
     "name": "stdout",
     "output_type": "stream",
     "text": [
      "AUC value for Random Forest (on default parameters): 0.9630727432604852\n"
     ]
    }
   ],
   "source": [
    "print('AUC value for Random Forest (on default parameters):',roc_auc_score(Y_test,rdf_proba))"
   ]
  },
  {
   "cell_type": "code",
   "execution_count": 34,
   "metadata": {},
   "outputs": [],
   "source": [
    "fbr,tbr,thrs = roc_curve(Y_test,rdf_proba)"
   ]
  },
  {
   "cell_type": "code",
   "execution_count": 35,
   "metadata": {},
   "outputs": [
    {
     "data": {
      "text/plain": [
       "<Figure size 720x504 with 0 Axes>"
      ]
     },
     "execution_count": 35,
     "metadata": {},
     "output_type": "execute_result"
    },
    {
     "data": {
      "text/plain": [
       "[<matplotlib.lines.Line2D at 0x1f5b24791c0>]"
      ]
     },
     "execution_count": 35,
     "metadata": {},
     "output_type": "execute_result"
    },
    {
     "data": {
      "text/plain": [
       "[<matplotlib.lines.Line2D at 0x1f5b24794c0>]"
      ]
     },
     "execution_count": 35,
     "metadata": {},
     "output_type": "execute_result"
    },
    {
     "data": {
      "text/plain": [
       "Text(0.5, 0, 'False Postive Rate (1-Specificity)')"
      ]
     },
     "execution_count": 35,
     "metadata": {},
     "output_type": "execute_result"
    },
    {
     "data": {
      "text/plain": [
       "Text(0, 0.5, 'True Positive Rate (Recall)')"
      ]
     },
     "execution_count": 35,
     "metadata": {},
     "output_type": "execute_result"
    },
    {
     "data": {
      "text/plain": [
       "Text(0.5, 1.0, 'Receiver Operating Characteristics (ROC)')"
      ]
     },
     "execution_count": 35,
     "metadata": {},
     "output_type": "execute_result"
    },
    {
     "data": {
      "image/png": "[encoded data removed]",
      "text/plain": [
       "<Figure size 720x504 with 1 Axes>"
      ]
     },
     "metadata": {},
     "output_type": "display_data"
    }
   ],
   "source": [
    "# Plotting the AUC curve\n",
    "\n",
    "plt.figure(figsize=(10,7))\n",
    "plt.plot([0,1],[0,1],'k')\n",
    "plt.plot(fbr,tbr,':',color='red')\n",
    "plt.xlabel('False Postive Rate (1-Specificity)')\n",
    "plt.ylabel('True Positive Rate (Recall)')\n",
    "plt.title('Receiver Operating Characteristics (ROC)')"
   ]
  },
  {
   "cell_type": "markdown",
   "metadata": {},
   "source": [
    "## Feature Importance for Random Forest"
   ]
  },
  {
   "cell_type": "code",
   "execution_count": 36,
   "metadata": {},
   "outputs": [],
   "source": [
    "# defining a function to plot feature importance\n",
    "\n",
    "def plot_feature_importance(model,algo):\n",
    "    \n",
    "    # finding the important features\n",
    "    DF = pd.DataFrame({'Feature_Name':list(X_train),'Feature_importance':model.feature_importances_})\n",
    "    DF.sort_values(by='Feature_importance', ascending=False,inplace=True)\n",
    "    \n",
    "    # plotting the feature importance\n",
    "    plt.figure(figsize=(17,9))\n",
    "    sns.barplot(x=DF['Feature_importance'], y=DF['Feature_Name'])\n",
    "    plt.xlabel('Feature Importance')\n",
    "    plt.ylabel('Feature')\n",
    "    plt.title(algo+\"'s Feature Importance\")"
   ]
  },
  {
   "cell_type": "code",
   "execution_count": 37,
   "metadata": {},
   "outputs": [
    {
     "data": {
      "image/png": "[encoded data removed]",
      "text/plain": [
       "<Figure size 1224x648 with 1 Axes>"
      ]
     },
     "metadata": {},
     "output_type": "display_data"
    }
   ],
   "source": [
    "plot_feature_importance(rdf,'Random Forest')"
   ]
  },
  {
   "cell_type": "markdown",
   "metadata": {},
   "source": [
    "### Defining a function to find insignificant features"
   ]
  },
  {
   "cell_type": "code",
   "execution_count": 38,
   "metadata": {},
   "outputs": [],
   "source": [
    "# defining a function to find feature having less importance than the thresold\n",
    "\n",
    "def features_tb_removed(model,thrsld):\n",
    "    \n",
    "    # finding feature importance\n",
    "    DF = pd.DataFrame({'Feature_Name':list(X_train),'Feature_importance':model.feature_importances_})\n",
    "\n",
    "    # finding features having less importance than thresold    \n",
    "    feature=set()                                # variable to append feature\n",
    "    for row_no in range(DF.shape[0]):\n",
    "        if DF.iloc[row_no,1] < thrsld:           # conditional line to find insignificant feature\n",
    "            feature.add(DF.iloc[row_no,0])       # appendong insignificant features to variable feature\n",
    "    return feature"
   ]
  },
  {
   "cell_type": "markdown",
   "metadata": {},
   "source": [
    "## Removing Insignificant features from the RF model"
   ]
  },
  {
   "cell_type": "code",
   "execution_count": 39,
   "metadata": {},
   "outputs": [],
   "source": [
    "insgnfnt_featr_rf=list(features_tb_removed(rdf,0.0125))"
   ]
  },
  {
   "cell_type": "code",
   "execution_count": 40,
   "metadata": {},
   "outputs": [],
   "source": [
    "## Removing Insignificant features from X_train\n",
    "\n",
    "X_train_RF=X_train.drop(insgnfnt_featr_rf,axis=1)"
   ]
  },
  {
   "cell_type": "code",
   "execution_count": 41,
   "metadata": {},
   "outputs": [
    {
     "data": {
      "text/plain": [
       "RandomForestClassifier(n_jobs=-1)"
      ]
     },
     "execution_count": 41,
     "metadata": {},
     "output_type": "execute_result"
    }
   ],
   "source": [
    "rdf_imp = RandomForestClassifier(n_jobs=-1)\n",
    "\n",
    "rdf_imp.fit(X_train_RF,Y_train)"
   ]
  },
  {
   "cell_type": "markdown",
   "metadata": {},
   "source": [
    "## On train"
   ]
  },
  {
   "cell_type": "code",
   "execution_count": 42,
   "metadata": {},
   "outputs": [
    {
     "data": {
      "text/plain": [
       "array([0, 0, 0, ..., 0, 0, 0], dtype=int64)"
      ]
     },
     "execution_count": 42,
     "metadata": {},
     "output_type": "execute_result"
    }
   ],
   "source": [
    "rdf_imp_prd_trn = rdf_imp.predict(X_train_RF)\n",
    "rdf_imp_prd_trn"
   ]
  },
  {
   "cell_type": "code",
   "execution_count": 43,
   "metadata": {},
   "outputs": [
    {
     "data": {
      "text/html": [
       "<div>\n",
       "<style scoped>\n",
       "    .dataframe tbody tr th:only-of-type {\n",
       "        vertical-align: middle;\n",
       "    }\n",
       "\n",
       "    .dataframe tbody tr th {\n",
       "        vertical-align: top;\n",
       "    }\n",
       "\n",
       "    .dataframe thead th {\n",
       "        text-align: right;\n",
       "    }\n",
       "</style>\n",
       "<table border=\"1\" class=\"dataframe\">\n",
       "  <thead>\n",
       "    <tr style=\"text-align: right;\">\n",
       "      <th></th>\n",
       "      <th>Legitimate Transactions</th>\n",
       "      <th>Fraud Transactions</th>\n",
       "    </tr>\n",
       "  </thead>\n",
       "  <tbody>\n",
       "    <tr>\n",
       "      <th>Legitimate Transactions</th>\n",
       "      <td>226592</td>\n",
       "      <td>0</td>\n",
       "    </tr>\n",
       "    <tr>\n",
       "      <th>Fraud Transactions</th>\n",
       "      <td>1</td>\n",
       "      <td>387</td>\n",
       "    </tr>\n",
       "  </tbody>\n",
       "</table>\n",
       "</div>"
      ],
      "text/plain": [
       "                         Legitimate Transactions  Fraud Transactions\n",
       "Legitimate Transactions                   226592                   0\n",
       "Fraud Transactions                             1                 387"
      ]
     },
     "execution_count": 43,
     "metadata": {},
     "output_type": "execute_result"
    }
   ],
   "source": [
    "pd.DataFrame(confusion_matrix(Y_train,rdf_imp_prd_trn),index=labels,columns=labels)"
   ]
  },
  {
   "cell_type": "code",
   "execution_count": 44,
   "metadata": {},
   "outputs": [
    {
     "name": "stdout",
     "output_type": "stream",
     "text": [
      "Accuracy of Random forest (only significant features) on train : 0.9999955943254912\n"
     ]
    }
   ],
   "source": [
    "print('Accuracy of Random forest (only significant features) on train :', accuracy_score(Y_train,rdf_imp_prd_trn))"
   ]
  },
  {
   "cell_type": "markdown",
   "metadata": {},
   "source": [
    "## On test"
   ]
  },
  {
   "cell_type": "code",
   "execution_count": 45,
   "metadata": {},
   "outputs": [],
   "source": [
    "# droping insignificant features from test\n",
    "\n",
    "X_test_RF=X_test.drop(insgnfnt_featr_rf,axis=1)"
   ]
  },
  {
   "cell_type": "code",
   "execution_count": 46,
   "metadata": {},
   "outputs": [
    {
     "data": {
      "text/plain": [
       "array([0, 0, 0, ..., 0, 0, 0], dtype=int64)"
      ]
     },
     "execution_count": 46,
     "metadata": {},
     "output_type": "execute_result"
    }
   ],
   "source": [
    "rdf_imp_prd_tst = rdf_imp.predict(X_test_RF)\n",
    "rdf_imp_prd_tst"
   ]
  },
  {
   "cell_type": "code",
   "execution_count": 47,
   "metadata": {},
   "outputs": [
    {
     "data": {
      "text/html": [
       "<div>\n",
       "<style scoped>\n",
       "    .dataframe tbody tr th:only-of-type {\n",
       "        vertical-align: middle;\n",
       "    }\n",
       "\n",
       "    .dataframe tbody tr th {\n",
       "        vertical-align: top;\n",
       "    }\n",
       "\n",
       "    .dataframe thead th {\n",
       "        text-align: right;\n",
       "    }\n",
       "</style>\n",
       "<table border=\"1\" class=\"dataframe\">\n",
       "  <thead>\n",
       "    <tr style=\"text-align: right;\">\n",
       "      <th></th>\n",
       "      <th>Legitimate Transactions</th>\n",
       "      <th>Fraud Transactions</th>\n",
       "    </tr>\n",
       "  </thead>\n",
       "  <tbody>\n",
       "    <tr>\n",
       "      <th>Legitimate Transactions</th>\n",
       "      <td>56656</td>\n",
       "      <td>5</td>\n",
       "    </tr>\n",
       "    <tr>\n",
       "      <th>Fraud Transactions</th>\n",
       "      <td>26</td>\n",
       "      <td>59</td>\n",
       "    </tr>\n",
       "  </tbody>\n",
       "</table>\n",
       "</div>"
      ],
      "text/plain": [
       "                         Legitimate Transactions  Fraud Transactions\n",
       "Legitimate Transactions                    56656                   5\n",
       "Fraud Transactions                            26                  59"
      ]
     },
     "execution_count": 47,
     "metadata": {},
     "output_type": "execute_result"
    }
   ],
   "source": [
    "pd.DataFrame(confusion_matrix(Y_test,rdf_imp_prd_tst),index=labels,columns=labels)"
   ]
  },
  {
   "cell_type": "code",
   "execution_count": 48,
   "metadata": {},
   "outputs": [
    {
     "name": "stdout",
     "output_type": "stream",
     "text": [
      "Accuracy of Random forest (on significant features) on test : 0.9994537059880872\n"
     ]
    }
   ],
   "source": [
    "print('Accuracy of Random forest (on significant features) on test :', accuracy_score(Y_test,rdf_imp_prd_tst))"
   ]
  },
  {
   "cell_type": "code",
   "execution_count": 49,
   "metadata": {},
   "outputs": [
    {
     "name": "stdout",
     "output_type": "stream",
     "text": [
      "              precision    recall  f1-score   support\n",
      "\n",
      "           0       1.00      1.00      1.00     56682\n",
      "           1       0.69      0.92      0.79        64\n",
      "\n",
      "    accuracy                           1.00     56746\n",
      "   macro avg       0.85      0.96      0.90     56746\n",
      "weighted avg       1.00      1.00      1.00     56746\n",
      "\n"
     ]
    }
   ],
   "source": [
    "print(classification_report(rdf_imp_prd_tst,Y_test))"
   ]
  },
  {
   "cell_type": "markdown",
   "metadata": {},
   "source": [
    "## ROC for Random Forest (On Significant features)"
   ]
  },
  {
   "cell_type": "code",
   "execution_count": 50,
   "metadata": {},
   "outputs": [],
   "source": [
    "from sklearn.metrics import roc_auc_score,roc_curve"
   ]
  },
  {
   "cell_type": "code",
   "execution_count": 51,
   "metadata": {},
   "outputs": [],
   "source": [
    "rdf_tst_proba = rdf_imp.predict_proba(X_test_RF)[:,1]"
   ]
  },
  {
   "cell_type": "code",
   "execution_count": 52,
   "metadata": {},
   "outputs": [
    {
     "name": "stdout",
     "output_type": "stream",
     "text": [
      "AUC value for Random Forest (on significant features): 0.9512521840419335\n"
     ]
    }
   ],
   "source": [
    "print('AUC value for Random Forest (on significant features):',roc_auc_score(Y_test,rdf_tst_proba))"
   ]
  },
  {
   "cell_type": "code",
   "execution_count": 53,
   "metadata": {},
   "outputs": [],
   "source": [
    "fbr,tbr,thrs = roc_curve(Y_test,rdf_tst_proba)"
   ]
  },
  {
   "cell_type": "code",
   "execution_count": 54,
   "metadata": {},
   "outputs": [
    {
     "data": {
      "text/plain": [
       "<Figure size 720x504 with 0 Axes>"
      ]
     },
     "execution_count": 54,
     "metadata": {},
     "output_type": "execute_result"
    },
    {
     "data": {
      "text/plain": [
       "[<matplotlib.lines.Line2D at 0x1f5b249bdf0>]"
      ]
     },
     "execution_count": 54,
     "metadata": {},
     "output_type": "execute_result"
    },
    {
     "data": {
      "text/plain": [
       "[<matplotlib.lines.Line2D at 0x1f5b24a9220>]"
      ]
     },
     "execution_count": 54,
     "metadata": {},
     "output_type": "execute_result"
    },
    {
     "data": {
      "text/plain": [
       "Text(0.5, 0, 'False Postive Rate (1-Specificity)')"
      ]
     },
     "execution_count": 54,
     "metadata": {},
     "output_type": "execute_result"
    },
    {
     "data": {
      "text/plain": [
       "Text(0, 0.5, 'True Positive Rate (Recall)')"
      ]
     },
     "execution_count": 54,
     "metadata": {},
     "output_type": "execute_result"
    },
    {
     "data": {
      "text/plain": [
       "Text(0.5, 1.0, 'Receiver Operating Characteristics (ROC)')"
      ]
     },
     "execution_count": 54,
     "metadata": {},
     "output_type": "execute_result"
    },
    {
     "data": {
      "image/png": "[encoded data removed]",
      "text/plain": [
       "<Figure size 720x504 with 1 Axes>"
      ]
     },
     "metadata": {},
     "output_type": "display_data"
    }
   ],
   "source": [
    "# Plotting the AUC curve\n",
    "\n",
    "plt.figure(figsize=(10,7))\n",
    "plt.plot([0,1],[0,1],'k')\n",
    "plt.plot(fbr,tbr,':',color='red')\n",
    "plt.xlabel('False Postive Rate (1-Specificity)')\n",
    "plt.ylabel('True Positive Rate (Recall)')\n",
    "plt.title('Receiver Operating Characteristics (ROC)')"
   ]
  },
  {
   "cell_type": "markdown",
   "metadata": {},
   "source": [
    "# Prediction using XGboost (with default parameters)"
   ]
  },
  {
   "cell_type": "code",
   "execution_count": 55,
   "metadata": {},
   "outputs": [],
   "source": [
    "from xgboost import XGBClassifier"
   ]
  },
  {
   "cell_type": "code",
   "execution_count": 56,
   "metadata": {},
   "outputs": [],
   "source": [
    "xgb = XGBClassifier(tree_method='gpu_hist', use_label_encoder=False, n_jobs=-1) # model with default parameters"
   ]
  },
  {
   "cell_type": "code",
   "execution_count": 57,
   "metadata": {},
   "outputs": [
    {
     "data": {
      "text/plain": [
       "XGBClassifier(base_score=0.5, booster='gbtree', colsample_bylevel=1,\n",
       "              colsample_bynode=1, colsample_bytree=1, gamma=0, gpu_id=0,\n",
       "              importance_type='gain', interaction_constraints='',\n",
       "              learning_rate=0.300000012, max_delta_step=0, max_depth=6,\n",
       "              min_child_weight=1, missing=nan, monotone_constraints='()',\n",
       "              n_estimators=100, n_jobs=-1, num_parallel_tree=1, random_state=0,\n",
       "              reg_alpha=0, reg_lambda=1, scale_pos_weight=1, subsample=1,\n",
       "              tree_method='gpu_hist', use_label_encoder=False,\n",
       "              validate_parameters=1, verbosity=None)"
      ]
     },
     "execution_count": 57,
     "metadata": {},
     "output_type": "execute_result"
    }
   ],
   "source": [
    "xgb.fit(X_train,Y_train,eval_metric='auc') # training the model"
   ]
  },
  {
   "cell_type": "markdown",
   "metadata": {},
   "source": [
    "# On train"
   ]
  },
  {
   "cell_type": "code",
   "execution_count": 58,
   "metadata": {},
   "outputs": [
    {
     "data": {
      "text/plain": [
       "array([0, 0, 0, ..., 0, 0, 0])"
      ]
     },
     "execution_count": 58,
     "metadata": {},
     "output_type": "execute_result"
    }
   ],
   "source": [
    "xgb_prd_trn = xgb.predict(X_train)\n",
    "xgb_prd_trn"
   ]
  },
  {
   "cell_type": "code",
   "execution_count": 59,
   "metadata": {},
   "outputs": [
    {
     "name": "stdout",
     "output_type": "stream",
     "text": [
      "                         Legitimate Transactions  Fraud Transactions\n",
      "Legitimate Transactions                   226592                   0\n",
      "Fraud Transactions                             0                 388\n"
     ]
    }
   ],
   "source": [
    "print(pd.DataFrame(confusion_matrix(Y_train,xgb_prd_trn), index=labels, columns=labels))"
   ]
  },
  {
   "cell_type": "code",
   "execution_count": 60,
   "metadata": {},
   "outputs": [
    {
     "name": "stdout",
     "output_type": "stream",
     "text": [
      "Accuracy of XGboost on train : 1.0\n"
     ]
    }
   ],
   "source": [
    "print('Accuracy of XGboost on train :', accuracy_score(Y_train,xgb_prd_trn))"
   ]
  },
  {
   "cell_type": "markdown",
   "metadata": {},
   "source": [
    "# On test"
   ]
  },
  {
   "cell_type": "code",
   "execution_count": 61,
   "metadata": {},
   "outputs": [
    {
     "data": {
      "text/plain": [
       "array([0, 0, 0, ..., 0, 0, 0])"
      ]
     },
     "execution_count": 61,
     "metadata": {},
     "output_type": "execute_result"
    }
   ],
   "source": [
    "xgb_prd_tst = xgb.predict(X_test)\n",
    "xgb_prd_tst"
   ]
  },
  {
   "cell_type": "code",
   "execution_count": 62,
   "metadata": {},
   "outputs": [
    {
     "name": "stdout",
     "output_type": "stream",
     "text": [
      "                         Legitimate Transactions  Fraud Transactions\n",
      "Legitimate Transactions                    56658                   3\n",
      "Fraud Transactions                            25                  60\n"
     ]
    }
   ],
   "source": [
    "print(pd.DataFrame(confusion_matrix(Y_test,xgb_prd_tst), index=labels, columns=labels))"
   ]
  },
  {
   "cell_type": "code",
   "execution_count": 63,
   "metadata": {},
   "outputs": [
    {
     "name": "stdout",
     "output_type": "stream",
     "text": [
      "Accuracy of XGboost on test : 0.9995065731505305\n"
     ]
    }
   ],
   "source": [
    "print('Accuracy of XGboost on test :', accuracy_score(Y_test,xgb_prd_tst))"
   ]
  },
  {
   "cell_type": "code",
   "execution_count": 64,
   "metadata": {},
   "outputs": [
    {
     "name": "stdout",
     "output_type": "stream",
     "text": [
      "AUC score for XGboost (on default parameters): 0.9759699515181759\n"
     ]
    }
   ],
   "source": [
    "print('AUC score for XGboost (on default parameters):', roc_auc_score(xgb_prd_tst,Y_test))"
   ]
  },
  {
   "cell_type": "markdown",
   "metadata": {},
   "source": [
    "## Hyperparameter Tuning for XGboost"
   ]
  },
  {
   "cell_type": "code",
   "execution_count": 65,
   "metadata": {},
   "outputs": [],
   "source": [
    "xgb_param = {'n_estimators':[900,1000,1100,1200,1300],\n",
    "             'max_depth':[3,4,5,6,7,8],\n",
    "             'learning_rate':[0.005,0.01,0.02,0.03,0.04],\n",
    "             'colsample_bytree':[0.3,0.4,0.5,0.6,0.7]}"
   ]
  },
  {
   "cell_type": "code",
   "execution_count": 66,
   "metadata": {},
   "outputs": [],
   "source": [
    "from sklearn.model_selection import GridSearchCV\n",
    "\n",
    "xgb_grid = GridSearchCV(estimator=XGBClassifier(tree_method='gpu_hist',use_label_encoder=False),\n",
    "                        param_grid=xgb_param,\n",
    "                        scoring='roc_auc',\n",
    "                        cv=5,\n",
    "                        n_jobs=-1,\n",
    "                        verbose=1)"
   ]
  },
  {
   "cell_type": "code",
   "execution_count": 85,
   "metadata": {},
   "outputs": [
    {
     "name": "stdout",
     "output_type": "stream",
     "text": [
      "Fitting 5 folds for each of 750 candidates, totalling 3750 fits\n",
      "[08:50:41] WARNING: C:/Users/Administrator/workspace/xgboost-win64_release_1.4.0/src/learner.cc:1095: Starting in XGBoost 1.3.0, the default evaluation metric used with the objective 'binary:logistic' was changed from 'error' to 'logloss'. Explicitly set eval_metric if you'd like to restore the old behavior.\n"
     ]
    },
    {
     "data": {
      "text/plain": [
       "GridSearchCV(cv=5,\n",
       "             estimator=XGBClassifier(base_score=None, booster=None,\n",
       "                                     colsample_bylevel=None,\n",
       "                                     colsample_bynode=None,\n",
       "                                     colsample_bytree=None, gamma=None,\n",
       "                                     gpu_id=None, importance_type='gain',\n",
       "                                     interaction_constraints=None,\n",
       "                                     learning_rate=None, max_delta_step=None,\n",
       "                                     max_depth=None, min_child_weight=None,\n",
       "                                     missing=nan, monotone_constraints=None,\n",
       "                                     n_estimators=100, n_jobs...\n",
       "                                     reg_alpha=None, reg_lambda=None,\n",
       "                                     scale_pos_weight=None, subsample=None,\n",
       "                                     tree_method='gpu_hist',\n",
       "                                     use_label_encoder=False,\n",
       "                                     validate_parameters=None, verbosity=None),\n",
       "             n_jobs=-1,\n",
       "             param_grid={'colsample_bytree': [0.3, 0.4, 0.5, 0.6, 0.7],\n",
       "                         'learning_rate': [0.005, 0.01, 0.02, 0.03, 0.04],\n",
       "                         'max_depth': [3, 4, 5, 6, 7, 8],\n",
       "                         'n_estimators': [900, 1000, 1100, 1200, 1300]},\n",
       "             scoring='roc_auc', verbose=1)"
      ]
     },
     "execution_count": 85,
     "metadata": {},
     "output_type": "execute_result"
    }
   ],
   "source": [
    "xgb_grid.fit(X_train,Y_train)"
   ]
  },
  {
   "cell_type": "code",
   "execution_count": 86,
   "metadata": {},
   "outputs": [
    {
     "data": {
      "text/plain": [
       "{'colsample_bytree': 0.4,\n",
       " 'learning_rate': 0.03,\n",
       " 'max_depth': 6,\n",
       " 'n_estimators': 1100}"
      ]
     },
     "execution_count": 86,
     "metadata": {},
     "output_type": "execute_result"
    }
   ],
   "source": [
    "xgb_grid.best_params_"
   ]
  },
  {
   "cell_type": "code",
   "execution_count": 67,
   "metadata": {},
   "outputs": [],
   "source": [
    "# best fit model \n",
    "\n",
    "xgb_bst = XGBClassifier(n_estimators=1100,\n",
    "                        max_depth=6,\n",
    "                        colsample_bytree=0.4,\n",
    "                        learning_rate=0.03,\n",
    "                        tree_method='gpu_hist',\n",
    "                        use_label_encoder=False)"
   ]
  },
  {
   "cell_type": "code",
   "execution_count": 68,
   "metadata": {},
   "outputs": [
    {
     "data": {
      "text/plain": [
       "XGBClassifier(base_score=0.5, booster='gbtree', colsample_bylevel=1,\n",
       "              colsample_bynode=1, colsample_bytree=0.4, gamma=0, gpu_id=0,\n",
       "              importance_type='gain', interaction_constraints='',\n",
       "              learning_rate=0.03, max_delta_step=0, max_depth=6,\n",
       "              min_child_weight=1, missing=nan, monotone_constraints='()',\n",
       "              n_estimators=1100, n_jobs=8, num_parallel_tree=1, random_state=0,\n",
       "              reg_alpha=0, reg_lambda=1, scale_pos_weight=1, subsample=1,\n",
       "              tree_method='gpu_hist', use_label_encoder=False,\n",
       "              validate_parameters=1, verbosity=None)"
      ]
     },
     "execution_count": 68,
     "metadata": {},
     "output_type": "execute_result"
    }
   ],
   "source": [
    "xgb_bst.fit(X_train,Y_train,eval_metric='auc')"
   ]
  },
  {
   "cell_type": "markdown",
   "metadata": {},
   "source": [
    "# On train"
   ]
  },
  {
   "cell_type": "code",
   "execution_count": 69,
   "metadata": {},
   "outputs": [
    {
     "data": {
      "text/plain": [
       "array([0, 0, 0, ..., 0, 0, 0])"
      ]
     },
     "execution_count": 69,
     "metadata": {},
     "output_type": "execute_result"
    }
   ],
   "source": [
    "xgb_bst_prd_trn = xgb_bst.predict(X_train)\n",
    "xgb_bst_prd_trn"
   ]
  },
  {
   "cell_type": "code",
   "execution_count": 70,
   "metadata": {},
   "outputs": [
    {
     "name": "stdout",
     "output_type": "stream",
     "text": [
      "                         Legitimate Transactions  Fraud Transactions\n",
      "Legitimate Transactions                   226592                   0\n",
      "Fraud Transactions                             0                 388\n"
     ]
    }
   ],
   "source": [
    "print(pd.DataFrame(confusion_matrix(Y_train,xgb_bst_prd_trn), index=labels, columns=labels))"
   ]
  },
  {
   "cell_type": "markdown",
   "metadata": {},
   "source": [
    "# On test"
   ]
  },
  {
   "cell_type": "code",
   "execution_count": 71,
   "metadata": {},
   "outputs": [
    {
     "data": {
      "text/plain": [
       "array([0, 0, 0, ..., 0, 0, 0])"
      ]
     },
     "execution_count": 71,
     "metadata": {},
     "output_type": "execute_result"
    }
   ],
   "source": [
    "xgb_bst_prd_tst = xgb_bst.predict(X_test)\n",
    "xgb_bst_prd_tst"
   ]
  },
  {
   "cell_type": "code",
   "execution_count": 72,
   "metadata": {},
   "outputs": [
    {
     "name": "stdout",
     "output_type": "stream",
     "text": [
      "                         Legitimate Transactions  Fraud Transactions\n",
      "Legitimate Transactions                    56658                   3\n",
      "Fraud Transactions                            25                  60\n"
     ]
    }
   ],
   "source": [
    "print(pd.DataFrame(confusion_matrix(Y_test,xgb_bst_prd_tst), index=labels, columns=labels))"
   ]
  },
  {
   "cell_type": "code",
   "execution_count": 73,
   "metadata": {},
   "outputs": [
    {
     "name": "stdout",
     "output_type": "stream",
     "text": [
      "Accuracy of XGboost after parameter tuning on test : 0.9995065731505305\n"
     ]
    }
   ],
   "source": [
    "print('Accuracy of XGboost after parameter tuning on test :', accuracy_score(Y_test,xgb_bst_prd_tst))"
   ]
  },
  {
   "cell_type": "markdown",
   "metadata": {},
   "source": [
    "## ROC for XGboost after Hyperparameter Tunning"
   ]
  },
  {
   "cell_type": "code",
   "execution_count": 74,
   "metadata": {},
   "outputs": [],
   "source": [
    "xgb_bst_proba = xgb_bst.predict_proba(X_test)[:,1]"
   ]
  },
  {
   "cell_type": "code",
   "execution_count": 75,
   "metadata": {},
   "outputs": [],
   "source": [
    "xgb_bst_fpr, xgb_bst_tpr, xgb_bst_thrs = roc_curve(Y_test,xgb_bst_proba)"
   ]
  },
  {
   "cell_type": "code",
   "execution_count": 76,
   "metadata": {},
   "outputs": [
    {
     "data": {
      "text/plain": [
       "<Figure size 720x504 with 0 Axes>"
      ]
     },
     "execution_count": 76,
     "metadata": {},
     "output_type": "execute_result"
    },
    {
     "data": {
      "text/plain": [
       "[<matplotlib.lines.Line2D at 0x1f5be14c370>]"
      ]
     },
     "execution_count": 76,
     "metadata": {},
     "output_type": "execute_result"
    },
    {
     "data": {
      "text/plain": [
       "[<matplotlib.lines.Line2D at 0x1f5be14c790>]"
      ]
     },
     "execution_count": 76,
     "metadata": {},
     "output_type": "execute_result"
    },
    {
     "data": {
      "text/plain": [
       "Text(0.5, 0, 'False Positive Rate (1 - Specificity)')"
      ]
     },
     "execution_count": 76,
     "metadata": {},
     "output_type": "execute_result"
    },
    {
     "data": {
      "text/plain": [
       "Text(0, 0.5, 'True Positive Rate (Recall)')"
      ]
     },
     "execution_count": 76,
     "metadata": {},
     "output_type": "execute_result"
    },
    {
     "data": {
      "text/plain": [
       "Text(0.5, 1.0, 'Receiver Operating Characteristics (ROC)')"
      ]
     },
     "execution_count": 76,
     "metadata": {},
     "output_type": "execute_result"
    },
    {
     "data": {
      "image/png": "[encoded data removed]",
      "text/plain": [
       "<Figure size 720x504 with 1 Axes>"
      ]
     },
     "metadata": {},
     "output_type": "display_data"
    }
   ],
   "source": [
    "# plotting AUC curve\n",
    "\n",
    "plt.figure(figsize=(10,7))\n",
    "plt.plot([0,1],[0,1],'k')\n",
    "plt.plot(xgb_bst_fpr, xgb_bst_tpr,':',color='red')\n",
    "plt.xlabel('False Positive Rate (1 - Specificity)')\n",
    "plt.ylabel('True Positive Rate (Recall)')\n",
    "plt.title('Receiver Operating Characteristics (ROC)')"
   ]
  },
  {
   "cell_type": "code",
   "execution_count": 77,
   "metadata": {},
   "outputs": [
    {
     "name": "stdout",
     "output_type": "stream",
     "text": [
      "AUC score for XGboost after parameter tuning : 0.9871448044458425\n"
     ]
    }
   ],
   "source": [
    "print('AUC score for XGboost after parameter tuning :', roc_auc_score(Y_test,xgb_bst_proba))"
   ]
  },
  {
   "cell_type": "markdown",
   "metadata": {},
   "source": [
    "## Feature importance for XGboost (after parameter tunning)"
   ]
  },
  {
   "cell_type": "code",
   "execution_count": 78,
   "metadata": {},
   "outputs": [
    {
     "data": {
      "image/png": "[encoded data removed]",
      "text/plain": [
       "<Figure size 1224x648 with 1 Axes>"
      ]
     },
     "metadata": {},
     "output_type": "display_data"
    }
   ],
   "source": [
    "plot_feature_importance(xgb_bst,'XGboost')"
   ]
  },
  {
   "cell_type": "markdown",
   "metadata": {},
   "source": [
    "# Prediction using Logistic Regression"
   ]
  },
  {
   "cell_type": "markdown",
   "metadata": {},
   "source": [
    "As we know, Logistic Regression is a distance based algorithm and all the features need to be scaled before being used for training. All the columns are PCA transformed except Time and amount. Scaling Time and amount to feed the data for training logistic regression."
   ]
  },
  {
   "cell_type": "code",
   "execution_count": 79,
   "metadata": {},
   "outputs": [
    {
     "data": {
      "text/plain": [
       "StandardScaler()"
      ]
     },
     "execution_count": 79,
     "metadata": {},
     "output_type": "execute_result"
    }
   ],
   "source": [
    "from sklearn.preprocessing import StandardScaler\n",
    "\n",
    "X_train_scald = X_train.copy()               # copy of X_train\n",
    "col_to_scald = ['Time','Amount']             # features to be scaled\n",
    "featr = X_train_scald[col_to_scald]\n",
    "\n",
    "scalr = StandardScaler()\n",
    "scalr.fit(featr)"
   ]
  },
  {
   "cell_type": "code",
   "execution_count": 80,
   "metadata": {},
   "outputs": [],
   "source": [
    "# transforming train data other than PCA transformed features\n",
    "\n",
    "x_trn = scalr.transform(featr)               # transforming X_train\n",
    "X_train_scald[col_to_scald] = x_trn"
   ]
  },
  {
   "cell_type": "code",
   "execution_count": 81,
   "metadata": {},
   "outputs": [
    {
     "data": {
      "text/html": [
       "<div>\n",
       "<style scoped>\n",
       "    .dataframe tbody tr th:only-of-type {\n",
       "        vertical-align: middle;\n",
       "    }\n",
       "\n",
       "    .dataframe tbody tr th {\n",
       "        vertical-align: top;\n",
       "    }\n",
       "\n",
       "    .dataframe thead th {\n",
       "        text-align: right;\n",
       "    }\n",
       "</style>\n",
       "<table border=\"1\" class=\"dataframe\">\n",
       "  <thead>\n",
       "    <tr style=\"text-align: right;\">\n",
       "      <th></th>\n",
       "      <th>Time</th>\n",
       "      <th>V1</th>\n",
       "      <th>V2</th>\n",
       "      <th>V3</th>\n",
       "      <th>V4</th>\n",
       "      <th>V5</th>\n",
       "      <th>V6</th>\n",
       "      <th>V7</th>\n",
       "      <th>V8</th>\n",
       "      <th>V9</th>\n",
       "      <th>V10</th>\n",
       "      <th>V11</th>\n",
       "      <th>V12</th>\n",
       "      <th>V13</th>\n",
       "      <th>V14</th>\n",
       "      <th>V15</th>\n",
       "      <th>V16</th>\n",
       "      <th>V17</th>\n",
       "      <th>V18</th>\n",
       "      <th>V19</th>\n",
       "      <th>V20</th>\n",
       "      <th>V21</th>\n",
       "      <th>V22</th>\n",
       "      <th>V23</th>\n",
       "      <th>V24</th>\n",
       "      <th>V25</th>\n",
       "      <th>V26</th>\n",
       "      <th>V27</th>\n",
       "      <th>V28</th>\n",
       "      <th>Amount</th>\n",
       "    </tr>\n",
       "  </thead>\n",
       "  <tbody>\n",
       "    <tr>\n",
       "      <th>158924</th>\n",
       "      <td>0.374899</td>\n",
       "      <td>-2.955617</td>\n",
       "      <td>-1.807269</td>\n",
       "      <td>0.288428</td>\n",
       "      <td>1.043848</td>\n",
       "      <td>-0.657473</td>\n",
       "      <td>-0.328328</td>\n",
       "      <td>0.872212</td>\n",
       "      <td>0.181270</td>\n",
       "      <td>0.070983</td>\n",
       "      <td>-0.903200</td>\n",
       "      <td>-1.299470</td>\n",
       "      <td>-0.336455</td>\n",
       "      <td>-0.480945</td>\n",
       "      <td>0.408289</td>\n",
       "      <td>0.661661</td>\n",
       "      <td>0.798935</td>\n",
       "      <td>-0.666928</td>\n",
       "      <td>0.565374</td>\n",
       "      <td>-0.974568</td>\n",
       "      <td>-0.352967</td>\n",
       "      <td>0.296883</td>\n",
       "      <td>0.696652</td>\n",
       "      <td>-0.666659</td>\n",
       "      <td>0.058703</td>\n",
       "      <td>-0.352203</td>\n",
       "      <td>-0.613740</td>\n",
       "      <td>0.548884</td>\n",
       "      <td>-0.634153</td>\n",
       "      <td>1.458825</td>\n",
       "    </tr>\n",
       "    <tr>\n",
       "      <th>85179</th>\n",
       "      <td>-0.717153</td>\n",
       "      <td>-0.926780</td>\n",
       "      <td>1.257414</td>\n",
       "      <td>1.337493</td>\n",
       "      <td>-0.251241</td>\n",
       "      <td>1.120411</td>\n",
       "      <td>-0.649394</td>\n",
       "      <td>1.423179</td>\n",
       "      <td>-0.330488</td>\n",
       "      <td>-0.939652</td>\n",
       "      <td>-0.031371</td>\n",
       "      <td>1.042365</td>\n",
       "      <td>0.685021</td>\n",
       "      <td>0.370909</td>\n",
       "      <td>0.208075</td>\n",
       "      <td>-0.547373</td>\n",
       "      <td>0.068805</td>\n",
       "      <td>-1.016245</td>\n",
       "      <td>0.217294</td>\n",
       "      <td>-0.291041</td>\n",
       "      <td>0.102706</td>\n",
       "      <td>0.002682</td>\n",
       "      <td>0.207431</td>\n",
       "      <td>-0.577729</td>\n",
       "      <td>0.030259</td>\n",
       "      <td>0.904522</td>\n",
       "      <td>-0.392648</td>\n",
       "      <td>-0.032085</td>\n",
       "      <td>-0.125592</td>\n",
       "      <td>-0.348298</td>\n",
       "    </tr>\n",
       "    <tr>\n",
       "      <th>202437</th>\n",
       "      <td>0.840032</td>\n",
       "      <td>2.015262</td>\n",
       "      <td>-0.097851</td>\n",
       "      <td>-1.586770</td>\n",
       "      <td>1.055784</td>\n",
       "      <td>0.746359</td>\n",
       "      <td>0.497370</td>\n",
       "      <td>-0.018712</td>\n",
       "      <td>0.066781</td>\n",
       "      <td>0.514171</td>\n",
       "      <td>0.346382</td>\n",
       "      <td>-0.336309</td>\n",
       "      <td>0.598495</td>\n",
       "      <td>-0.416983</td>\n",
       "      <td>0.333802</td>\n",
       "      <td>-1.263772</td>\n",
       "      <td>-0.152080</td>\n",
       "      <td>-0.691639</td>\n",
       "      <td>0.478855</td>\n",
       "      <td>0.344593</td>\n",
       "      <td>-0.242613</td>\n",
       "      <td>0.162511</td>\n",
       "      <td>0.704555</td>\n",
       "      <td>-0.128932</td>\n",
       "      <td>-0.189097</td>\n",
       "      <td>0.520441</td>\n",
       "      <td>-0.366796</td>\n",
       "      <td>0.005519</td>\n",
       "      <td>-0.067153</td>\n",
       "      <td>-0.312125</td>\n",
       "    </tr>\n",
       "    <tr>\n",
       "      <th>48821</th>\n",
       "      <td>-1.073458</td>\n",
       "      <td>-6.466280</td>\n",
       "      <td>-5.120985</td>\n",
       "      <td>0.881461</td>\n",
       "      <td>-0.412296</td>\n",
       "      <td>0.023292</td>\n",
       "      <td>0.302638</td>\n",
       "      <td>0.745833</td>\n",
       "      <td>-0.799876</td>\n",
       "      <td>0.722063</td>\n",
       "      <td>1.566295</td>\n",
       "      <td>1.243945</td>\n",
       "      <td>0.242032</td>\n",
       "      <td>0.838817</td>\n",
       "      <td>-2.020204</td>\n",
       "      <td>-0.968181</td>\n",
       "      <td>1.338793</td>\n",
       "      <td>-0.174169</td>\n",
       "      <td>-1.670853</td>\n",
       "      <td>1.042268</td>\n",
       "      <td>-3.251675</td>\n",
       "      <td>-1.191141</td>\n",
       "      <td>0.793610</td>\n",
       "      <td>1.395308</td>\n",
       "      <td>-0.153513</td>\n",
       "      <td>1.115056</td>\n",
       "      <td>-0.264281</td>\n",
       "      <td>-1.170124</td>\n",
       "      <td>2.766348</td>\n",
       "      <td>0.655465</td>\n",
       "    </tr>\n",
       "    <tr>\n",
       "      <th>184562</th>\n",
       "      <td>0.669203</td>\n",
       "      <td>2.119849</td>\n",
       "      <td>-1.472927</td>\n",
       "      <td>-1.080122</td>\n",
       "      <td>-1.893983</td>\n",
       "      <td>0.725872</td>\n",
       "      <td>4.119072</td>\n",
       "      <td>-2.314822</td>\n",
       "      <td>1.189868</td>\n",
       "      <td>0.474292</td>\n",
       "      <td>0.703182</td>\n",
       "      <td>-0.094368</td>\n",
       "      <td>-0.398616</td>\n",
       "      <td>0.312729</td>\n",
       "      <td>-0.700213</td>\n",
       "      <td>1.033377</td>\n",
       "      <td>1.579846</td>\n",
       "      <td>-0.191958</td>\n",
       "      <td>-0.815605</td>\n",
       "      <td>0.057942</td>\n",
       "      <td>0.048238</td>\n",
       "      <td>0.418236</td>\n",
       "      <td>1.222180</td>\n",
       "      <td>0.242711</td>\n",
       "      <td>0.738473</td>\n",
       "      <td>-0.376150</td>\n",
       "      <td>-0.069699</td>\n",
       "      <td>0.078010</td>\n",
       "      <td>-0.039317</td>\n",
       "      <td>-0.351753</td>\n",
       "    </tr>\n",
       "  </tbody>\n",
       "</table>\n",
       "</div>"
      ],
      "text/plain": [
       "            Time        V1        V2        V3        V4        V5        V6  \\\n",
       "158924  0.374899 -2.955617 -1.807269  0.288428  1.043848 -0.657473 -0.328328   \n",
       "85179  -0.717153 -0.926780  1.257414  1.337493 -0.251241  1.120411 -0.649394   \n",
       "202437  0.840032  2.015262 -0.097851 -1.586770  1.055784  0.746359  0.497370   \n",
       "48821  -1.073458 -6.466280 -5.120985  0.881461 -0.412296  0.023292  0.302638   \n",
       "184562  0.669203  2.119849 -1.472927 -1.080122 -1.893983  0.725872  4.119072   \n",
       "\n",
       "              V7        V8        V9       V10       V11       V12       V13  \\\n",
       "158924  0.872212  0.181270  0.070983 -0.903200 -1.299470 -0.336455 -0.480945   \n",
       "85179   1.423179 -0.330488 -0.939652 -0.031371  1.042365  0.685021  0.370909   \n",
       "202437 -0.018712  0.066781  0.514171  0.346382 -0.336309  0.598495 -0.416983   \n",
       "48821   0.745833 -0.799876  0.722063  1.566295  1.243945  0.242032  0.838817   \n",
       "184562 -2.314822  1.189868  0.474292  0.703182 -0.094368 -0.398616  0.312729   \n",
       "\n",
       "             V14       V15       V16       V17       V18       V19       V20  \\\n",
       "158924  0.408289  0.661661  0.798935 -0.666928  0.565374 -0.974568 -0.352967   \n",
       "85179   0.208075 -0.547373  0.068805 -1.016245  0.217294 -0.291041  0.102706   \n",
       "202437  0.333802 -1.263772 -0.152080 -0.691639  0.478855  0.344593 -0.242613   \n",
       "48821  -2.020204 -0.968181  1.338793 -0.174169 -1.670853  1.042268 -3.251675   \n",
       "184562 -0.700213  1.033377  1.579846 -0.191958 -0.815605  0.057942  0.048238   \n",
       "\n",
       "             V21       V22       V23       V24       V25       V26       V27  \\\n",
       "158924  0.296883  0.696652 -0.666659  0.058703 -0.352203 -0.613740  0.548884   \n",
       "85179   0.002682  0.207431 -0.577729  0.030259  0.904522 -0.392648 -0.032085   \n",
       "202437  0.162511  0.704555 -0.128932 -0.189097  0.520441 -0.366796  0.005519   \n",
       "48821  -1.191141  0.793610  1.395308 -0.153513  1.115056 -0.264281 -1.170124   \n",
       "184562  0.418236  1.222180  0.242711  0.738473 -0.376150 -0.069699  0.078010   \n",
       "\n",
       "             V28    Amount  \n",
       "158924 -0.634153  1.458825  \n",
       "85179  -0.125592 -0.348298  \n",
       "202437 -0.067153 -0.312125  \n",
       "48821   2.766348  0.655465  \n",
       "184562 -0.039317 -0.351753  "
      ]
     },
     "execution_count": 81,
     "metadata": {},
     "output_type": "execute_result"
    }
   ],
   "source": [
    "X_train_scald.head()"
   ]
  },
  {
   "cell_type": "code",
   "execution_count": 82,
   "metadata": {},
   "outputs": [],
   "source": [
    "from sklearn.linear_model import LogisticRegression"
   ]
  },
  {
   "cell_type": "code",
   "execution_count": 83,
   "metadata": {},
   "outputs": [],
   "source": [
    "log_reg = LogisticRegression()"
   ]
  },
  {
   "cell_type": "code",
   "execution_count": 84,
   "metadata": {},
   "outputs": [
    {
     "data": {
      "text/plain": [
       "LogisticRegression()"
      ]
     },
     "execution_count": 84,
     "metadata": {},
     "output_type": "execute_result"
    }
   ],
   "source": [
    "log_reg.fit(X_train_scald,Y_train)"
   ]
  },
  {
   "cell_type": "markdown",
   "metadata": {},
   "source": [
    "# On train"
   ]
  },
  {
   "cell_type": "code",
   "execution_count": 85,
   "metadata": {},
   "outputs": [
    {
     "data": {
      "text/plain": [
       "array([0, 0, 0, ..., 0, 0, 0], dtype=int64)"
      ]
     },
     "execution_count": 85,
     "metadata": {},
     "output_type": "execute_result"
    }
   ],
   "source": [
    "log_reg_prd_trn = log_reg.predict(X_train_scald)\n",
    "log_reg_prd_trn"
   ]
  },
  {
   "cell_type": "code",
   "execution_count": 86,
   "metadata": {},
   "outputs": [
    {
     "name": "stdout",
     "output_type": "stream",
     "text": [
      "                         Legitimate Transactions  Fraud Transactions\n",
      "Legitimate Transactions                   226557                  35\n",
      "Fraud Transactions                           149                 239\n"
     ]
    }
   ],
   "source": [
    "print(pd.DataFrame(confusion_matrix(Y_train,log_reg_prd_trn), index=labels, columns=labels))"
   ]
  },
  {
   "cell_type": "code",
   "execution_count": 87,
   "metadata": {},
   "outputs": [
    {
     "name": "stdout",
     "output_type": "stream",
     "text": [
      "Accuracy of Logistic Regression on train: 0.9991893558903868\n"
     ]
    }
   ],
   "source": [
    "print('Accuracy of Logistic Regression on train:', accuracy_score(Y_train,log_reg_prd_trn))"
   ]
  },
  {
   "cell_type": "markdown",
   "metadata": {},
   "source": [
    "# On test"
   ]
  },
  {
   "cell_type": "code",
   "execution_count": 88,
   "metadata": {},
   "outputs": [
    {
     "data": {
      "text/html": [
       "<div>\n",
       "<style scoped>\n",
       "    .dataframe tbody tr th:only-of-type {\n",
       "        vertical-align: middle;\n",
       "    }\n",
       "\n",
       "    .dataframe tbody tr th {\n",
       "        vertical-align: top;\n",
       "    }\n",
       "\n",
       "    .dataframe thead th {\n",
       "        text-align: right;\n",
       "    }\n",
       "</style>\n",
       "<table border=\"1\" class=\"dataframe\">\n",
       "  <thead>\n",
       "    <tr style=\"text-align: right;\">\n",
       "      <th></th>\n",
       "      <th>Time</th>\n",
       "      <th>V1</th>\n",
       "      <th>V2</th>\n",
       "      <th>V3</th>\n",
       "      <th>V4</th>\n",
       "      <th>V5</th>\n",
       "      <th>V6</th>\n",
       "      <th>V7</th>\n",
       "      <th>V8</th>\n",
       "      <th>V9</th>\n",
       "      <th>V10</th>\n",
       "      <th>V11</th>\n",
       "      <th>V12</th>\n",
       "      <th>V13</th>\n",
       "      <th>V14</th>\n",
       "      <th>V15</th>\n",
       "      <th>V16</th>\n",
       "      <th>V17</th>\n",
       "      <th>V18</th>\n",
       "      <th>V19</th>\n",
       "      <th>V20</th>\n",
       "      <th>V21</th>\n",
       "      <th>V22</th>\n",
       "      <th>V23</th>\n",
       "      <th>V24</th>\n",
       "      <th>V25</th>\n",
       "      <th>V26</th>\n",
       "      <th>V27</th>\n",
       "      <th>V28</th>\n",
       "      <th>Amount</th>\n",
       "    </tr>\n",
       "  </thead>\n",
       "  <tbody>\n",
       "    <tr>\n",
       "      <th>119483</th>\n",
       "      <td>-0.404157</td>\n",
       "      <td>-0.868316</td>\n",
       "      <td>0.310385</td>\n",
       "      <td>2.440775</td>\n",
       "      <td>-0.923164</td>\n",
       "      <td>-0.124800</td>\n",
       "      <td>0.116584</td>\n",
       "      <td>0.070864</td>\n",
       "      <td>0.434674</td>\n",
       "      <td>0.291963</td>\n",
       "      <td>-1.047113</td>\n",
       "      <td>0.946985</td>\n",
       "      <td>0.911082</td>\n",
       "      <td>-0.581674</td>\n",
       "      <td>-0.312058</td>\n",
       "      <td>-1.516148</td>\n",
       "      <td>0.558790</td>\n",
       "      <td>-0.703110</td>\n",
       "      <td>-0.244147</td>\n",
       "      <td>-1.759019</td>\n",
       "      <td>-0.287490</td>\n",
       "      <td>0.109391</td>\n",
       "      <td>0.346733</td>\n",
       "      <td>-0.058498</td>\n",
       "      <td>0.226926</td>\n",
       "      <td>-0.390286</td>\n",
       "      <td>-0.043309</td>\n",
       "      <td>0.097176</td>\n",
       "      <td>0.123567</td>\n",
       "      <td>-0.328484</td>\n",
       "    </tr>\n",
       "    <tr>\n",
       "      <th>17752</th>\n",
       "      <td>-1.388646</td>\n",
       "      <td>-0.797899</td>\n",
       "      <td>1.924714</td>\n",
       "      <td>-0.496497</td>\n",
       "      <td>0.649641</td>\n",
       "      <td>0.559371</td>\n",
       "      <td>0.020042</td>\n",
       "      <td>-0.015066</td>\n",
       "      <td>-3.396142</td>\n",
       "      <td>-0.289837</td>\n",
       "      <td>0.469879</td>\n",
       "      <td>-1.204169</td>\n",
       "      <td>0.272353</td>\n",
       "      <td>0.673993</td>\n",
       "      <td>0.421552</td>\n",
       "      <td>0.598156</td>\n",
       "      <td>-0.306965</td>\n",
       "      <td>-0.237618</td>\n",
       "      <td>0.125020</td>\n",
       "      <td>0.634913</td>\n",
       "      <td>-0.588350</td>\n",
       "      <td>3.122428</td>\n",
       "      <td>-0.537665</td>\n",
       "      <td>0.327733</td>\n",
       "      <td>-0.474439</td>\n",
       "      <td>-0.504046</td>\n",
       "      <td>-0.338321</td>\n",
       "      <td>0.615687</td>\n",
       "      <td>0.239678</td>\n",
       "      <td>-0.263841</td>\n",
       "    </tr>\n",
       "    <tr>\n",
       "      <th>185301</th>\n",
       "      <td>0.676010</td>\n",
       "      <td>-0.772459</td>\n",
       "      <td>0.927688</td>\n",
       "      <td>-0.587299</td>\n",
       "      <td>-2.056678</td>\n",
       "      <td>2.620595</td>\n",
       "      <td>3.670107</td>\n",
       "      <td>-0.013384</td>\n",
       "      <td>0.929972</td>\n",
       "      <td>0.995876</td>\n",
       "      <td>-0.370534</td>\n",
       "      <td>0.331056</td>\n",
       "      <td>-0.173121</td>\n",
       "      <td>-0.320220</td>\n",
       "      <td>-1.635131</td>\n",
       "      <td>0.915730</td>\n",
       "      <td>0.419224</td>\n",
       "      <td>0.148053</td>\n",
       "      <td>0.202274</td>\n",
       "      <td>-0.537258</td>\n",
       "      <td>0.418465</td>\n",
       "      <td>-0.377347</td>\n",
       "      <td>-0.767952</td>\n",
       "      <td>-0.017241</td>\n",
       "      <td>0.553453</td>\n",
       "      <td>-0.066833</td>\n",
       "      <td>-0.264769</td>\n",
       "      <td>0.217343</td>\n",
       "      <td>-0.002995</td>\n",
       "      <td>-0.341151</td>\n",
       "    </tr>\n",
       "    <tr>\n",
       "      <th>21013</th>\n",
       "      <td>-1.335454</td>\n",
       "      <td>-2.470088</td>\n",
       "      <td>1.445333</td>\n",
       "      <td>1.449623</td>\n",
       "      <td>1.991840</td>\n",
       "      <td>1.299102</td>\n",
       "      <td>2.278487</td>\n",
       "      <td>1.572548</td>\n",
       "      <td>-0.616953</td>\n",
       "      <td>0.890520</td>\n",
       "      <td>4.830925</td>\n",
       "      <td>2.979414</td>\n",
       "      <td>0.286641</td>\n",
       "      <td>0.221534</td>\n",
       "      <td>-1.442123</td>\n",
       "      <td>1.994828</td>\n",
       "      <td>-1.737175</td>\n",
       "      <td>0.132407</td>\n",
       "      <td>-1.757604</td>\n",
       "      <td>-0.705283</td>\n",
       "      <td>1.362997</td>\n",
       "      <td>-0.561796</td>\n",
       "      <td>0.758427</td>\n",
       "      <td>-0.232501</td>\n",
       "      <td>-1.015471</td>\n",
       "      <td>-0.510158</td>\n",
       "      <td>0.037589</td>\n",
       "      <td>-0.230830</td>\n",
       "      <td>-0.679720</td>\n",
       "      <td>-0.049778</td>\n",
       "    </tr>\n",
       "    <tr>\n",
       "      <th>247171</th>\n",
       "      <td>1.242679</td>\n",
       "      <td>2.075014</td>\n",
       "      <td>-1.331194</td>\n",
       "      <td>0.257760</td>\n",
       "      <td>-0.715151</td>\n",
       "      <td>-1.496807</td>\n",
       "      <td>0.570541</td>\n",
       "      <td>-1.781122</td>\n",
       "      <td>0.369112</td>\n",
       "      <td>0.748240</td>\n",
       "      <td>0.668248</td>\n",
       "      <td>0.397343</td>\n",
       "      <td>0.519973</td>\n",
       "      <td>0.039952</td>\n",
       "      <td>-1.034241</td>\n",
       "      <td>-1.699330</td>\n",
       "      <td>1.105779</td>\n",
       "      <td>0.241920</td>\n",
       "      <td>-0.789742</td>\n",
       "      <td>1.094459</td>\n",
       "      <td>-0.031798</td>\n",
       "      <td>0.183021</td>\n",
       "      <td>0.780388</td>\n",
       "      <td>0.269328</td>\n",
       "      <td>0.797639</td>\n",
       "      <td>-0.357503</td>\n",
       "      <td>-0.244888</td>\n",
       "      <td>0.054289</td>\n",
       "      <td>-0.040469</td>\n",
       "      <td>-0.347861</td>\n",
       "    </tr>\n",
       "  </tbody>\n",
       "</table>\n",
       "</div>"
      ],
      "text/plain": [
       "            Time        V1        V2        V3        V4        V5        V6  \\\n",
       "119483 -0.404157 -0.868316  0.310385  2.440775 -0.923164 -0.124800  0.116584   \n",
       "17752  -1.388646 -0.797899  1.924714 -0.496497  0.649641  0.559371  0.020042   \n",
       "185301  0.676010 -0.772459  0.927688 -0.587299 -2.056678  2.620595  3.670107   \n",
       "21013  -1.335454 -2.470088  1.445333  1.449623  1.991840  1.299102  2.278487   \n",
       "247171  1.242679  2.075014 -1.331194  0.257760 -0.715151 -1.496807  0.570541   \n",
       "\n",
       "              V7        V8        V9       V10       V11       V12       V13  \\\n",
       "119483  0.070864  0.434674  0.291963 -1.047113  0.946985  0.911082 -0.581674   \n",
       "17752  -0.015066 -3.396142 -0.289837  0.469879 -1.204169  0.272353  0.673993   \n",
       "185301 -0.013384  0.929972  0.995876 -0.370534  0.331056 -0.173121 -0.320220   \n",
       "21013   1.572548 -0.616953  0.890520  4.830925  2.979414  0.286641  0.221534   \n",
       "247171 -1.781122  0.369112  0.748240  0.668248  0.397343  0.519973  0.039952   \n",
       "\n",
       "             V14       V15       V16       V17       V18       V19       V20  \\\n",
       "119483 -0.312058 -1.516148  0.558790 -0.703110 -0.244147 -1.759019 -0.287490   \n",
       "17752   0.421552  0.598156 -0.306965 -0.237618  0.125020  0.634913 -0.588350   \n",
       "185301 -1.635131  0.915730  0.419224  0.148053  0.202274 -0.537258  0.418465   \n",
       "21013  -1.442123  1.994828 -1.737175  0.132407 -1.757604 -0.705283  1.362997   \n",
       "247171 -1.034241 -1.699330  1.105779  0.241920 -0.789742  1.094459 -0.031798   \n",
       "\n",
       "             V21       V22       V23       V24       V25       V26       V27  \\\n",
       "119483  0.109391  0.346733 -0.058498  0.226926 -0.390286 -0.043309  0.097176   \n",
       "17752   3.122428 -0.537665  0.327733 -0.474439 -0.504046 -0.338321  0.615687   \n",
       "185301 -0.377347 -0.767952 -0.017241  0.553453 -0.066833 -0.264769  0.217343   \n",
       "21013  -0.561796  0.758427 -0.232501 -1.015471 -0.510158  0.037589 -0.230830   \n",
       "247171  0.183021  0.780388  0.269328  0.797639 -0.357503 -0.244888  0.054289   \n",
       "\n",
       "             V28    Amount  \n",
       "119483  0.123567 -0.328484  \n",
       "17752   0.239678 -0.263841  \n",
       "185301 -0.002995 -0.341151  \n",
       "21013  -0.679720 -0.049778  \n",
       "247171 -0.040469 -0.347861  "
      ]
     },
     "execution_count": 88,
     "metadata": {},
     "output_type": "execute_result"
    }
   ],
   "source": [
    "# feature scaling for test\n",
    "\n",
    "X_test_scaled = X_test.copy()\n",
    "tst_feat = X_test_scaled[col_to_scald]\n",
    "x_tst = scalr.transform(tst_feat)\n",
    "X_test_scaled[col_to_scald] = x_tst\n",
    "X_test_scaled.head()"
   ]
  },
  {
   "cell_type": "code",
   "execution_count": 89,
   "metadata": {},
   "outputs": [
    {
     "data": {
      "text/plain": [
       "array([0, 0, 0, ..., 0, 0, 0], dtype=int64)"
      ]
     },
     "execution_count": 89,
     "metadata": {},
     "output_type": "execute_result"
    }
   ],
   "source": [
    "log_reg_prd_tst = log_reg.predict(X_test_scaled)\n",
    "log_reg_prd_tst"
   ]
  },
  {
   "cell_type": "code",
   "execution_count": 90,
   "metadata": {},
   "outputs": [
    {
     "name": "stdout",
     "output_type": "stream",
     "text": [
      "                         Legitimate Transactions  Fraud Transactions\n",
      "Legitimate Transactions                    56655                   6\n",
      "Fraud Transactions                            41                  44\n"
     ]
    }
   ],
   "source": [
    "print(pd.DataFrame(confusion_matrix(Y_test, log_reg_prd_tst), index=labels, columns=labels))"
   ]
  },
  {
   "cell_type": "code",
   "execution_count": 91,
   "metadata": {},
   "outputs": [
    {
     "name": "stdout",
     "output_type": "stream",
     "text": [
      "Accuracy of Logistic Regression on test: 0.9991717477883904\n"
     ]
    }
   ],
   "source": [
    "print('Accuracy of Logistic Regression on test:', accuracy_score(Y_test,log_reg_prd_tst))"
   ]
  },
  {
   "cell_type": "code",
   "execution_count": 92,
   "metadata": {},
   "outputs": [
    {
     "name": "stdout",
     "output_type": "stream",
     "text": [
      "AUC score of Logistic Regression on test: 0.7587705829406469\n"
     ]
    }
   ],
   "source": [
    "print('AUC score of Logistic Regression on test:', roc_auc_score(Y_test,log_reg_prd_tst))"
   ]
  },
  {
   "cell_type": "markdown",
   "metadata": {},
   "source": [
    "# Logistic Regression using SMOTE"
   ]
  },
  {
   "cell_type": "code",
   "execution_count": 93,
   "metadata": {},
   "outputs": [
    {
     "name": "stdout",
     "output_type": "stream",
     "text": [
      "Total no. of Fraud Transaction in train data : 388\n",
      "Total no og Legitimate Transaction in train data : 226592\n"
     ]
    }
   ],
   "source": [
    "# No of observation of each class\n",
    "\n",
    "print('Total no. of Fraud Transaction in train data :',sum(Y_train==1))\n",
    "print('Total no og Legitimate Transaction in train data :',sum(Y_train==0))"
   ]
  },
  {
   "cell_type": "code",
   "execution_count": 94,
   "metadata": {},
   "outputs": [],
   "source": [
    "from imblearn.over_sampling import SMOTE\n",
    "\n",
    "smote = SMOTE(random_state=20, n_jobs=-1)"
   ]
  },
  {
   "cell_type": "code",
   "execution_count": 95,
   "metadata": {},
   "outputs": [],
   "source": [
    "X_train_smote,Y_train_smote = smote.fit_resample(X_train_scald,Y_train)"
   ]
  },
  {
   "cell_type": "code",
   "execution_count": 96,
   "metadata": {},
   "outputs": [],
   "source": [
    "log_reg_smote = LogisticRegression()"
   ]
  },
  {
   "cell_type": "code",
   "execution_count": 97,
   "metadata": {},
   "outputs": [
    {
     "data": {
      "text/plain": [
       "LogisticRegression()"
      ]
     },
     "execution_count": 97,
     "metadata": {},
     "output_type": "execute_result"
    }
   ],
   "source": [
    "log_reg_smote.fit(X_train_smote,Y_train_smote)"
   ]
  },
  {
   "cell_type": "markdown",
   "metadata": {},
   "source": [
    "# On train"
   ]
  },
  {
   "cell_type": "code",
   "execution_count": 98,
   "metadata": {},
   "outputs": [
    {
     "data": {
      "text/plain": [
       "array([0, 0, 0, ..., 1, 1, 1], dtype=int64)"
      ]
     },
     "execution_count": 98,
     "metadata": {},
     "output_type": "execute_result"
    }
   ],
   "source": [
    "log_reg_smote_prd_trn = log_reg_smote.predict(X_train_smote)\n",
    "log_reg_smote_prd_trn"
   ]
  },
  {
   "cell_type": "code",
   "execution_count": 99,
   "metadata": {},
   "outputs": [
    {
     "name": "stdout",
     "output_type": "stream",
     "text": [
      "                         Legitimate Transactions  Fraud Transactions\n",
      "Legitimate Transactions                   221080                5512\n",
      "Fraud Transactions                         17669              208923\n"
     ]
    }
   ],
   "source": [
    "print(pd.DataFrame(confusion_matrix(Y_train_smote,log_reg_smote_prd_trn), index=labels, columns=labels))"
   ]
  },
  {
   "cell_type": "code",
   "execution_count": 100,
   "metadata": {},
   "outputs": [
    {
     "name": "stdout",
     "output_type": "stream",
     "text": [
      "Accuracy of logistic regression using SMOTE : 0.9488485913006638\n"
     ]
    }
   ],
   "source": [
    "print('Accuracy of logistic regression using SMOTE :', accuracy_score(Y_train_smote,log_reg_smote_prd_trn))"
   ]
  },
  {
   "cell_type": "code",
   "execution_count": 101,
   "metadata": {},
   "outputs": [
    {
     "name": "stdout",
     "output_type": "stream",
     "text": [
      "AUC score for Logistic Regression using SMOTE : 0.9488485913006637\n"
     ]
    }
   ],
   "source": [
    "print('AUC score for Logistic Regression using SMOTE :',roc_auc_score(Y_train_smote,log_reg_smote_prd_trn))"
   ]
  },
  {
   "cell_type": "markdown",
   "metadata": {},
   "source": [
    "# On test"
   ]
  },
  {
   "cell_type": "code",
   "execution_count": 102,
   "metadata": {},
   "outputs": [
    {
     "data": {
      "text/plain": [
       "array([0, 0, 0, ..., 0, 1, 0], dtype=int64)"
      ]
     },
     "execution_count": 102,
     "metadata": {},
     "output_type": "execute_result"
    }
   ],
   "source": [
    "log_reg_smote_prd_tst = log_reg_smote.predict(X_test_scaled)\n",
    "log_reg_smote_prd_tst"
   ]
  },
  {
   "cell_type": "code",
   "execution_count": 103,
   "metadata": {},
   "outputs": [
    {
     "name": "stdout",
     "output_type": "stream",
     "text": [
      "                         Legitimate Transactions  Fraud Transactions\n",
      "Legitimate Transactions                    55294                1367\n",
      "Fraud Transactions                             9                  76\n"
     ]
    }
   ],
   "source": [
    "print(pd.DataFrame(confusion_matrix(Y_test,log_reg_smote_prd_tst), index=labels, columns=labels))"
   ]
  },
  {
   "cell_type": "code",
   "execution_count": 104,
   "metadata": {},
   "outputs": [
    {
     "name": "stdout",
     "output_type": "stream",
     "text": [
      "Accuracy of logistic regression using SMOTE : 0.975751594826067\n"
     ]
    }
   ],
   "source": [
    "print('Accuracy of logistic regression using SMOTE :', accuracy_score(Y_test,log_reg_smote_prd_tst))"
   ]
  },
  {
   "cell_type": "code",
   "execution_count": 105,
   "metadata": {},
   "outputs": [
    {
     "name": "stdout",
     "output_type": "stream",
     "text": [
      "AUC score for logistic Regression with SMOTE : 0.9349958525264291\n"
     ]
    }
   ],
   "source": [
    "print('AUC score for logistic Regression with SMOTE :',roc_auc_score(Y_test,log_reg_smote_prd_tst))"
   ]
  },
  {
   "cell_type": "markdown",
   "metadata": {},
   "source": [
    "# ROC for Logistic Regression using SMOTE"
   ]
  },
  {
   "cell_type": "code",
   "execution_count": 106,
   "metadata": {},
   "outputs": [],
   "source": [
    "log_reg_proba = log_reg_smote.predict_proba(X_test_scaled)[:,1]"
   ]
  },
  {
   "cell_type": "code",
   "execution_count": 107,
   "metadata": {},
   "outputs": [],
   "source": [
    "log_reg_fpr, log_reg_tpr, log_reg_thrs = roc_curve(Y_test,log_reg_proba)"
   ]
  },
  {
   "cell_type": "code",
   "execution_count": 108,
   "metadata": {},
   "outputs": [
    {
     "data": {
      "text/plain": [
       "<Figure size 720x504 with 0 Axes>"
      ]
     },
     "execution_count": 108,
     "metadata": {},
     "output_type": "execute_result"
    },
    {
     "data": {
      "text/plain": [
       "[<matplotlib.lines.Line2D at 0x1f5c438f310>]"
      ]
     },
     "execution_count": 108,
     "metadata": {},
     "output_type": "execute_result"
    },
    {
     "data": {
      "text/plain": [
       "[<matplotlib.lines.Line2D at 0x1f5c438f730>]"
      ]
     },
     "execution_count": 108,
     "metadata": {},
     "output_type": "execute_result"
    },
    {
     "data": {
      "text/plain": [
       "Text(0.5, 0, 'False Positive Rate (1-Specificity)')"
      ]
     },
     "execution_count": 108,
     "metadata": {},
     "output_type": "execute_result"
    },
    {
     "data": {
      "text/plain": [
       "Text(0, 0.5, 'True Positive Rate (Recall)')"
      ]
     },
     "execution_count": 108,
     "metadata": {},
     "output_type": "execute_result"
    },
    {
     "data": {
      "text/plain": [
       "Text(0.5, 1.0, 'Receiver Operating Characteristics (ROC)')"
      ]
     },
     "execution_count": 108,
     "metadata": {},
     "output_type": "execute_result"
    },
    {
     "data": {
      "image/png": "[encoded data removed]",
      "text/plain": [
       "<Figure size 720x504 with 1 Axes>"
      ]
     },
     "metadata": {},
     "output_type": "display_data"
    }
   ],
   "source": [
    "# Potting AUC curve\n",
    "\n",
    "plt.figure(figsize=(10,7))\n",
    "plt.plot([0,1],[0,1],'k')\n",
    "plt.plot(log_reg_fpr, log_reg_tpr, ':', color='red')\n",
    "plt.xlabel('False Positive Rate (1-Specificity)')\n",
    "plt.ylabel('True Positive Rate (Recall)')\n",
    "plt.title('Receiver Operating Characteristics (ROC)')"
   ]
  },
  {
   "cell_type": "code",
   "execution_count": 109,
   "metadata": {},
   "outputs": [
    {
     "name": "stdout",
     "output_type": "stream",
     "text": [
      "AUC score for logistic Regression with SMOTE : 0.9349958525264291\n"
     ]
    }
   ],
   "source": [
    "print('AUC score for logistic Regression with SMOTE :',roc_auc_score(Y_test,log_reg_smote_prd_tst))"
   ]
  },
  {
   "cell_type": "markdown",
   "metadata": {},
   "source": [
    "# Conclusion\n",
    "\n",
    "* Random Forest - Randum Forest gives an AUC score of 0.9630 on test data using all the features and with default parameters of Random Forest. After removing features with feature importance leaa than 0.0125, RF gives an AUC score of 0.9513. AUC score has been decreased after removing some features, so removing features isn't a good idea as all the features are result of PCA transformation.\n",
    "\n",
    "\n",
    "* XGBoost - XGBoost givea an AUC score of 0.9760 on test data using all the features and with default parameters. As removing features results a decrease in AUC score, hence using all the features is a better plan and XGBoost after Hyper Parameter Tunning on all the features results a AUC score of 0.9872 which is the highest AUC score of all the algorithms used.\n",
    "\n",
    "\n",
    "* Logistic Regression - Logistic Regression gives an AUC score of 0.7588 with default parameters, We know as this is a imbalanced class problem, using SMOTE have improved the AUC score to 0.9350 with default parameter.\n",
    "\n",
    "Out of all the three algorithms which are used, XGBoost gives best AUC score of 0.9872 after Hyper Parameter Tunning. XGBoost after HPT will be used as our final model for prediction and will be used in the model deployment."
   ]
  },
  {
   "cell_type": "code",
   "execution_count": 110,
   "metadata": {},
   "outputs": [],
   "source": [
    "import pickle\n",
    "\n",
    "pickle.dump(xgb_bst,open('XGBoost.pkl','wb'))"
   ]
  }
 ],
 "metadata": {
  "kernelspec": {
   "display_name": "Python 3",
   "language": "python",
   "name": "python3"
  },
  "language_info": {
   "codemirror_mode": {
    "name": "ipython",
    "version": 3
   },
   "file_extension": ".py",
   "mimetype": "text/x-python",
   "name": "python",
   "nbconvert_exporter": "python",
   "pygments_lexer": "ipython3",
   "version": "3.8.8"
  }
 },
 "nbformat": 4,
 "nbformat_minor": 4
}
